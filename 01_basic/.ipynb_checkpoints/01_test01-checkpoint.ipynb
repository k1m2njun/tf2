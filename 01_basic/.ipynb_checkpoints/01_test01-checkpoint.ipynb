{
 "cells": [
  {
   "cell_type": "markdown",
   "id": "263a1c67-7cc5-4c3e-9e6a-08ff14f8c2b2",
   "metadata": {},
   "source": [
    "# 마크다운설명\n",
    "## 마크다운설명"
   ]
  },
  {
   "cell_type": "markdown",
   "id": "dc8d1fff-42d0-4235-bbe7-f76f7cc4876d",
   "metadata": {},
   "source": [
    "1. 마크다운 기호\n",
    "- #\n",
    "- !"
   ]
  },
  {
   "cell_type": "markdown",
   "id": "27107905-b21d-4112-a18b-4306b9ea6e4b",
   "metadata": {},
   "source": [
    "[NAVER](https://naver.com \"링크 설명(title)을 작성하세요.\") \"링크만들기\""
   ]
  },
  {
   "cell_type": "markdown",
   "id": "40fa5df9-0674-4a61-ba12-9c1f21d6f90c",
   "metadata": {},
   "source": [
    "![Kayak][logo](http://www.tcpschool.com/lectures/img_deeplearning_09_ann.png)"
   ]
  },
  {
   "cell_type": "markdown",
   "id": "fb5086ca-0808-4c43-98d1-9e3c2f595ea4",
   "metadata": {},
   "source": [
    "[![Vue](http://www.tcpschool.com/lectures/img_deeplearning_09_ann.png)"
   ]
  },
  {
   "cell_type": "markdown",
   "id": "0cd45dcd-35fb-4d75-945b-155452441ff1",
   "metadata": {},
   "source": [
    "```python\n",
    "s = \"Python syntax highlighting\"\n",
    "print s\n",
    "```\n",
    "\n",
    "한글작업을 합니다.  \n",
    "한글작업을 합니다.<br>\n",
    "한글작업을 합니다."
   ]
  },
  {
   "cell_type": "code",
   "execution_count": 7,
   "id": "34609d7f-a058-42cb-bc39-6f054bf1b171",
   "metadata": {},
   "outputs": [],
   "source": [
    "# Markdown : HTML과 비교해서 문서를 빠르게 만들기 위해 필요한 몇몇 태그를 활용한다.\n",
    "# Raw : 텍스트 그대로"
   ]
  },
  {
   "cell_type": "code",
   "execution_count": null,
   "id": "98e062b4-92a6-4ef9-bd0d-54630078572f",
   "metadata": {},
   "outputs": [
    {
     "name": "stdout",
     "output_type": "stream",
     "text": [
      "hi\n",
      "hello\n"
     ]
    }
   ],
   "source": [
    "print('hi')\n",
    "print('hello')"
   ]
  },
  {
   "cell_type": "code",
   "execution_count": null,
   "id": "dbb99ed0-c4e4-42ad-873f-1866c74e5c72",
   "metadata": {},
   "outputs": [],
   "source": []
  }
 ],
 "metadata": {
  "kernelspec": {
   "display_name": "Python 3 (ipykernel)",
   "language": "python",
   "name": "python3"
  },
  "language_info": {
   "codemirror_mode": {
    "name": "ipython",
    "version": 3
   },
   "file_extension": ".py",
   "mimetype": "text/x-python",
   "name": "python",
   "nbconvert_exporter": "python",
   "pygments_lexer": "ipython3",
   "version": "3.9.12"
  },
  "vscode": {
   "interpreter": {
    "hash": "369f2c481f4da34e4445cda3fffd2e751bd1c4d706f27375911949ba6bb62e1c"
   }
  }
 },
 "nbformat": 4,
 "nbformat_minor": 5
}
