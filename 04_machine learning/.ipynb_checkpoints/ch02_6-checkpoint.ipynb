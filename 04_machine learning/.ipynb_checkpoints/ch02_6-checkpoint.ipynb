{
 "cells": [
  {
   "cell_type": "code",
   "execution_count": 1,
   "id": "052ffbb9-8b68-48ae-9c21-7784c291ce0f",
   "metadata": {},
   "outputs": [],
   "source": [
    "# 평가 - 정확도\n",
    "from sklearn.base import BaseEstimator\n",
    "import pandas as pd"
   ]
  },
  {
   "cell_type": "code",
   "execution_count": 2,
   "id": "1d81da64-eb84-410f-bcea-9f39575734db",
   "metadata": {},
   "outputs": [],
   "source": [
    "class MyDummyClassifier(BaseEstimator):\n",
    "    # fit() 메서드는 아무것도 학습하지 않음.\n",
    "    def fit(self, X, y=None):\n",
    "        pass\n",
    "    # predict() 메서드는 단순히 Sex 피처가 1이면 0, 그렇지 않으면 1로 예측함.\n",
    "    def predict(self, X):\n",
    "        import numpy as np\n",
    "        pred = np.zeros( (X.shape[0], 1)) # 0으로 채워진 행렬을 만든다.\n",
    "        for i in range(X.shape[0]): # 데이터 길이만큼 반복\n",
    "            if X['Sex'].iloc[i] == 1:\n",
    "                pred[i] = 0\n",
    "            else:\n",
    "                pred[i] = 1\n",
    "        return pred"
   ]
  },
  {
   "cell_type": "code",
   "execution_count": 3,
   "id": "e5881115-1431-4a0e-8a6d-9528fa5d762f",
   "metadata": {},
   "outputs": [],
   "source": [
    "# Null 처리 함수\n",
    "def fillna(df):\n",
    "    df['Age'].fillna(df['Age'].mean(), inplace=True)\n",
    "    df['Cabin'].fillna('N', inplace=True)\n",
    "    df['Embarked'].fillna('N', inplace=True)\n",
    "    df['Fare'].fillna(0, inplace=True) # 요금 누락값 0원으로 채우기\n",
    "    return df\n",
    "\n",
    "# 머신러닝 알고리즘에 불필요한 피처 제거\n",
    "def drop_features(df):\n",
    "    df.drop(['PassengerId', 'Name', 'Ticket'], axis=1, inplace=True)\n",
    "    return df\n",
    "\n",
    "# LABEL ENCODING\n",
    "def format_features(df):\n",
    "    from sklearn.preprocessing import LabelEncoder\n",
    "    df['Cabin'] = df['Cabin'].str[:1] # 승선실번호 앞 글자만 따옴\n",
    "    features = ['Cabin', 'Sex', 'Embarked'] # 컬럼 이름을 리스트목록으로 저장\n",
    "    for feature in features:\n",
    "        le = LabelEncoder() # LabelEncoder 객체 생성\n",
    "        # le = le.fit(df[feature]) # 들어오는 데이터프레임의 목록을 받아 학습\n",
    "        # df[feature] = le.transform(df[feature]) # 숫자로 변환\n",
    "        df[feature] = le.fit_transform(df[feature]) # 위 두 줄을 함축\n",
    "        print(le.classes_) # 인코딩 속성값\n",
    "    return df\n",
    "\n",
    "# 앞에서 설정한 데이터 전처리 함수 호출\n",
    "def transform_features():\n",
    "    import pandas as pd\n",
    "    df = pd.read_csv('train.csv')\n",
    "    df = fillna(df)\n",
    "    df = drop_features(df)\n",
    "    df = format_features(df)\n",
    "    return df"
   ]
  },
  {
   "cell_type": "code",
   "execution_count": 4,
   "id": "53c5cdba-91bd-488a-a887-2f09a00c2e25",
   "metadata": {
    "tags": []
   },
   "outputs": [
    {
     "name": "stdout",
     "output_type": "stream",
     "text": [
      "['A' 'B' 'C' 'D' 'E' 'F' 'G' 'N' 'T']\n",
      "['female' 'male']\n",
      "['C' 'N' 'Q' 'S']\n"
     ]
    }
   ],
   "source": [
    "titanic_df = transform_features()"
   ]
  },
  {
   "cell_type": "code",
   "execution_count": 5,
   "id": "21fe327c-d755-4f64-9b48-9bcd43603c38",
   "metadata": {},
   "outputs": [],
   "source": [
    "from sklearn.model_selection import train_test_split\n",
    "X_df = titanic_df.drop(columns='Survived') # 입력\n",
    "y_df = titanic_df['Survived'] # 정답"
   ]
  },
  {
   "cell_type": "code",
   "execution_count": 6,
   "id": "bd09a1f6-f508-4a63-844e-c3e91e9d7619",
   "metadata": {},
   "outputs": [],
   "source": [
    "X_train, X_test, y_train, y_test = train_test_split(X_df, y_df, test_size=0.2, random_state=11)"
   ]
  },
  {
   "cell_type": "code",
   "execution_count": 7,
   "id": "d6d10850-e7bc-48f1-a0d7-68d685e78ae2",
   "metadata": {},
   "outputs": [],
   "source": [
    "from sklearn.metrics import accuracy_score"
   ]
  },
  {
   "cell_type": "code",
   "execution_count": 8,
   "id": "9455c546-c312-4d48-9342-e82854f160e5",
   "metadata": {},
   "outputs": [
    {
     "data": {
      "text/plain": [
       "0.8324022346368715"
      ]
     },
     "execution_count": 8,
     "metadata": {},
     "output_type": "execute_result"
    }
   ],
   "source": [
    "my = MyDummyClassifier()\n",
    "my.fit(X_train, y_train)\n",
    "pred = my.predict(X_test)\n",
    "accuracy_score(y_test, pred)"
   ]
  },
  {
   "cell_type": "markdown",
   "id": "7ba03a18-cf64-43ed-a51a-0131faf6de32",
   "metadata": {},
   "source": [
    "## 오차행렬 p150"
   ]
  },
  {
   "cell_type": "code",
   "execution_count": 9,
   "id": "345e19a5-d78d-4a4f-9617-da401f01af2e",
   "metadata": {},
   "outputs": [],
   "source": [
    "from sklearn.metrics import confusion_matrix"
   ]
  },
  {
   "cell_type": "code",
   "execution_count": 10,
   "id": "6d823657-7b84-4964-ad8f-e43b48134ce5",
   "metadata": {},
   "outputs": [
    {
     "data": {
      "text/plain": [
       "array([[103,  15],\n",
       "       [ 15,  46]], dtype=int64)"
      ]
     },
     "execution_count": 10,
     "metadata": {},
     "output_type": "execute_result"
    }
   ],
   "source": [
    "confusion_matrix(y_test, pred)\n",
    "# TN: 103, FN: 15, FP : 15, TP : 46"
   ]
  },
  {
   "cell_type": "code",
   "execution_count": 11,
   "id": "cd8e27f7-48aa-4e9f-8f4a-362c3b0668e8",
   "metadata": {},
   "outputs": [],
   "source": [
    "# 정밀도와 재현율"
   ]
  },
  {
   "cell_type": "code",
   "execution_count": 12,
   "id": "42bb59f3-385e-47b4-a19b-dd39b3c690ec",
   "metadata": {},
   "outputs": [],
   "source": [
    "from sklearn.metrics import recall_score, precision_score"
   ]
  },
  {
   "cell_type": "code",
   "execution_count": 13,
   "id": "0eb534f5-a215-46dd-b3d4-463eeb5714a2",
   "metadata": {},
   "outputs": [
    {
     "data": {
      "text/plain": [
       "0.7540983606557377"
      ]
     },
     "execution_count": 13,
     "metadata": {},
     "output_type": "execute_result"
    }
   ],
   "source": [
    "recall_score(y_test, pred)"
   ]
  },
  {
   "cell_type": "code",
   "execution_count": 14,
   "id": "dabe5543-eab0-4f11-9788-465a324163cf",
   "metadata": {},
   "outputs": [
    {
     "data": {
      "text/plain": [
       "0.7540983606557377"
      ]
     },
     "execution_count": 14,
     "metadata": {},
     "output_type": "execute_result"
    }
   ],
   "source": [
    "precision_score(y_test, pred)"
   ]
  },
  {
   "cell_type": "code",
   "execution_count": 15,
   "id": "bdecd513-5f42-4c2e-bb81-b0c6058aeade",
   "metadata": {},
   "outputs": [],
   "source": [
    "# 불균형할수록 위 점수가 확 떨어진다."
   ]
  },
  {
   "cell_type": "code",
   "execution_count": 16,
   "id": "73f5d1b8-ee30-4367-93de-65e311cb8ca8",
   "metadata": {},
   "outputs": [],
   "source": [
    "def get_clf_eval(y_test, pred):\n",
    "    from sklearn.metrics import accuracy_score, confusion_matrix, recall_score, precision_score\n",
    "    confusion = confusion_matrix(y_test, pred)\n",
    "    accuracy = accuracy_score(y_test, pred)\n",
    "    precision = precision_score(y_test, pred)\n",
    "    recall = recall_score(y_test, pred)\n",
    "    print('오차 행렬')\n",
    "    print(confusion)\n",
    "    print(f'정확도: {accuracy:.4f}, 정밀도: {precision:.4f}, 재현율: {recall:.4f}')"
   ]
  },
  {
   "cell_type": "code",
   "execution_count": 17,
   "id": "3092733d-3d68-4d41-aad6-36d169490091",
   "metadata": {},
   "outputs": [
    {
     "name": "stdout",
     "output_type": "stream",
     "text": [
      "오차 행렬\n",
      "[[103  15]\n",
      " [ 15  46]]\n",
      "정확도: 0.8324, 정밀도: 0.7541, 재현율: 0.7541\n"
     ]
    }
   ],
   "source": [
    "get_clf_eval(y_test, pred)"
   ]
  },
  {
   "cell_type": "markdown",
   "id": "85ea27c0-0024-4fe8-a9db-03a44e3de514",
   "metadata": {},
   "source": [
    "## 타이타닉 생존자 예측 p156"
   ]
  },
  {
   "cell_type": "code",
   "execution_count": 18,
   "id": "b42b86b8-f56b-46eb-95fb-bf46edd6305e",
   "metadata": {},
   "outputs": [],
   "source": [
    "from sklearn.linear_model import LogisticRegression"
   ]
  },
  {
   "cell_type": "code",
   "execution_count": 19,
   "id": "1008cb0d-404b-43e3-8659-144e67051584",
   "metadata": {},
   "outputs": [
    {
     "name": "stdout",
     "output_type": "stream",
     "text": [
      "['A' 'B' 'C' 'D' 'E' 'F' 'G' 'N' 'T']\n",
      "['female' 'male']\n",
      "['C' 'N' 'Q' 'S']\n"
     ]
    }
   ],
   "source": [
    "titanic_df = transform_features()\n",
    "from sklearn.model_selection import train_test_split\n",
    "X_df = titanic_df.drop(columns='Survived') # 입력\n",
    "y_df = titanic_df['Survived'] # 정답\n",
    "X_train, X_test, y_train, y_test = train_test_split(X_df,\n",
    "                                                    y_df,\n",
    "                                                    test_size=0.2,\n",
    "                                                    random_state=11)"
   ]
  },
  {
   "cell_type": "code",
   "execution_count": 20,
   "id": "0121752a-0bbe-4cc0-8c74-5534de6f56a9",
   "metadata": {},
   "outputs": [],
   "source": [
    "lr_clf = LogisticRegression(solver='liblinear') # 로지스틱 회귀 객체 생성"
   ]
  },
  {
   "cell_type": "code",
   "execution_count": 21,
   "id": "629009c7-737b-4947-9a5b-3eb4255f5b95",
   "metadata": {},
   "outputs": [
    {
     "data": {
      "text/plain": [
       "LogisticRegression(solver='liblinear')"
      ]
     },
     "execution_count": 21,
     "metadata": {},
     "output_type": "execute_result"
    }
   ],
   "source": [
    "lr_clf.fit(X_train, y_train) # 학습"
   ]
  },
  {
   "cell_type": "code",
   "execution_count": 22,
   "id": "afc447c8-9c62-4a75-b7b7-9da890a3b6fd",
   "metadata": {},
   "outputs": [
    {
     "name": "stdout",
     "output_type": "stream",
     "text": [
      "오차 행렬\n",
      "[[108  10]\n",
      " [ 14  47]]\n",
      "정확도: 0.8659, 정밀도: 0.8246, 재현율: 0.7705\n"
     ]
    }
   ],
   "source": [
    "pred = lr_clf.predict(X_test) # 결정값\n",
    "get_clf_eval(y_test, pred)"
   ]
  },
  {
   "cell_type": "markdown",
   "id": "bc3e9768-f0ae-48e3-bba4-084aaf05a5be",
   "metadata": {},
   "source": [
    "## 정밀도, 재현율 트레이드 오프 p157\n",
    "정밀도와 재현율이 함께 올라가면 좋겠지만,  \n",
    "정밀도가 올라가면 재현율이 떨어진다.  \n",
    "그래서 크로스되는 지점을 찾는 게 좋을 수 있다."
   ]
  },
  {
   "cell_type": "code",
   "execution_count": 23,
   "id": "651397e8-70dc-4ecc-93bd-05a3978cf59b",
   "metadata": {},
   "outputs": [],
   "source": [
    "pred_proba = lr_clf.predict_proba(X_test)"
   ]
  },
  {
   "cell_type": "code",
   "execution_count": 24,
   "id": "671f4ee5-44e8-4c87-8f51-a920712abb7a",
   "metadata": {},
   "outputs": [
    {
     "data": {
      "text/plain": [
       "(179, 2)"
      ]
     },
     "execution_count": 24,
     "metadata": {},
     "output_type": "execute_result"
    }
   ],
   "source": [
    "pred_proba.shape"
   ]
  },
  {
   "cell_type": "code",
   "execution_count": 25,
   "id": "59084b9b-74d3-40bc-849a-bacd02e1dc91",
   "metadata": {},
   "outputs": [
    {
     "data": {
      "text/plain": [
       "array([1, 0, 0, 0, 0, 0, 0, 1, 0, 1, 0, 0, 0, 0, 0, 0, 0, 0, 0, 1, 0, 0,\n",
       "       0, 0, 0, 0, 0, 0, 0, 0, 1, 1, 0, 1, 0, 0, 0, 1, 0, 0, 0, 0, 1, 1,\n",
       "       1, 1, 1, 0, 1, 0, 0, 0, 0, 1, 0, 0, 0, 0, 0, 0, 0, 0, 0, 0, 0, 0,\n",
       "       1, 1, 1, 0, 0, 0, 0, 1, 0, 0, 0, 0, 1, 0, 1, 1, 1, 0, 1, 1, 0, 0,\n",
       "       1, 0, 0, 0, 0, 0, 1, 0, 1, 0, 0, 1, 1, 0, 1, 0, 1, 0, 0, 0, 0, 0,\n",
       "       0, 0, 0, 1, 0, 0, 0, 0, 1, 0, 0, 0, 0, 0, 0, 0, 0, 0, 1, 0, 1, 0,\n",
       "       1, 1, 1, 0, 1, 0, 0, 1, 1, 0, 0, 0, 0, 1, 0, 0, 1, 0, 0, 1, 1, 0,\n",
       "       1, 1, 0, 0, 1, 1, 0, 1, 0, 1, 0, 1, 1, 0, 0, 1, 0, 1, 0, 0, 0, 0,\n",
       "       0, 0, 1], dtype=int64)"
      ]
     },
     "execution_count": 25,
     "metadata": {},
     "output_type": "execute_result"
    }
   ],
   "source": [
    "pred"
   ]
  },
  {
   "cell_type": "code",
   "execution_count": 26,
   "id": "728f76e2-44a3-4b13-ab0b-aefb92ff749e",
   "metadata": {},
   "outputs": [
    {
     "data": {
      "text/plain": [
       "array([[0.44935228, 0.55064772],\n",
       "       [0.86335513, 0.13664487],\n",
       "       [0.86429645, 0.13570355]])"
      ]
     },
     "execution_count": 26,
     "metadata": {},
     "output_type": "execute_result"
    }
   ],
   "source": [
    "# [0이 될 확률, 1이 될 확률]\n",
    "pred_proba[:3]"
   ]
  },
  {
   "cell_type": "code",
   "execution_count": 27,
   "id": "495c774b-08b6-4897-8da6-1f8e42f2bfae",
   "metadata": {},
   "outputs": [],
   "source": [
    "import numpy as np"
   ]
  },
  {
   "cell_type": "code",
   "execution_count": 28,
   "id": "c647790d-a9a6-409a-8490-0aa864b13a4b",
   "metadata": {},
   "outputs": [],
   "source": [
    "pred_proba_result = np.concatenate([pred_proba, pred.reshape(-1, 1)], axis=1)\n",
    "# concatenate : array끼리 붙임. 이때 형태(차원)를 똑같이 맞춰줌, 옆으로 붙일 거라 axis=1"
   ]
  },
  {
   "cell_type": "code",
   "execution_count": 29,
   "id": "2da0413d-7c2b-49ce-8bd3-db2efecbddc2",
   "metadata": {},
   "outputs": [
    {
     "data": {
      "text/plain": [
       "array([[0.44935228, 0.55064772, 1.        ],\n",
       "       [0.86335513, 0.13664487, 0.        ],\n",
       "       [0.86429645, 0.13570355, 0.        ]])"
      ]
     },
     "execution_count": 29,
     "metadata": {},
     "output_type": "execute_result"
    }
   ],
   "source": [
    "pred_proba_result[:3]\n",
    "# [[0일 확률, 1일 확률, 결정값], ... ]"
   ]
  },
  {
   "cell_type": "code",
   "execution_count": 30,
   "id": "cbdc4922-1bf9-4991-9441-2b7aede252e3",
   "metadata": {},
   "outputs": [],
   "source": [
    "# 0, 1이 될 확률의 임계값을 조정할 수 있다."
   ]
  },
  {
   "cell_type": "markdown",
   "id": "2088566b-848d-4a25-b587-c999357de165",
   "metadata": {},
   "source": [
    "### Binarizer p159"
   ]
  },
  {
   "cell_type": "code",
   "execution_count": 31,
   "id": "d8f73456-192f-4841-97be-93dc883a3a06",
   "metadata": {},
   "outputs": [],
   "source": [
    "from sklearn.preprocessing import Binarizer"
   ]
  },
  {
   "cell_type": "code",
   "execution_count": 32,
   "id": "5ea7ee28-87cc-4d07-ad0b-3258ab61f6b5",
   "metadata": {},
   "outputs": [
    {
     "name": "stdout",
     "output_type": "stream",
     "text": [
      "[[0. 0. 1.]\n",
      " [1. 0. 0.]\n",
      " [0. 0. 1.]]\n"
     ]
    }
   ],
   "source": [
    "X = [[1, -1, 2],\n",
    "    [2, 0, 0],\n",
    "    [0, 1.1, 1.2]]\n",
    "\n",
    "# X의 개별 원소들이 Threshold 값보다 같거나 작으면 0, 크면 1 반환\n",
    "binarizer = Binarizer(threshold=1.1)\n",
    "print((binarizer.fit_transform(X)))"
   ]
  },
  {
   "cell_type": "code",
   "execution_count": 33,
   "id": "694732c7-b989-4a8c-bb36-7ae7addb5295",
   "metadata": {},
   "outputs": [],
   "source": [
    "# Binarizer의 threshold 설정값. 분류 결정 임계값\n",
    "custom_threshold = 0.5\n",
    "\n",
    "# predict_proba() 반환값의 두 번째 컬럼, 즉 Positive 클래스 컬럼 하나만 추출, Binarizer 적용\n",
    "pred_proba_1 = pred_proba[:, 1].reshape(-1, 1) # [행은 전부 다:, 두 번째 컬럼 1]\n",
    "# reshape이 없으면 리스트의 1차원 형태로 반환된다."
   ]
  },
  {
   "cell_type": "code",
   "execution_count": 34,
   "id": "92ff7b1d-5c8c-4b23-af4e-5d92fb26df01",
   "metadata": {},
   "outputs": [],
   "source": [
    "# binarizer = Binarizer(threshold=custom_threshold).fit(pred_proba_1)\n",
    "# custom_predict = binarizer.transform(pred_proba_1)\n",
    "custom_predict = Binarizer(threshold=custom_threshold).fit_transform(pred_proba_1)"
   ]
  },
  {
   "cell_type": "code",
   "execution_count": 35,
   "id": "a02c502f-3058-4558-bff9-52078887663b",
   "metadata": {},
   "outputs": [
    {
     "name": "stdout",
     "output_type": "stream",
     "text": [
      "오차 행렬\n",
      "[[108  10]\n",
      " [ 14  47]]\n",
      "정확도: 0.8659, 정밀도: 0.8246, 재현율: 0.7705\n"
     ]
    }
   ],
   "source": [
    "get_clf_eval(y_test, custom_predict)\n",
    "# 오차 행렬\n",
    "# [[108  10]\n",
    "#  [ 14  47]]\n",
    "# 정확도: 0.8659, 정밀도: 0.8246, 재현율: 0.7705"
   ]
  },
  {
   "cell_type": "code",
   "execution_count": 36,
   "id": "ba1eb3c8-54cd-4201-961d-4947513205fa",
   "metadata": {},
   "outputs": [
    {
     "name": "stdout",
     "output_type": "stream",
     "text": [
      "오차 행렬\n",
      "[[97 21]\n",
      " [11 50]]\n",
      "정확도: 0.8212, 정밀도: 0.7042, 재현율: 0.8197\n"
     ]
    }
   ],
   "source": [
    "# 임계값 변경해서\n",
    "custom_threshold = 0.4\n",
    "# 0.5에 비해 재현율이 올라간다.\n",
    "\n",
    "pred_proba_1 = pred_proba[:, 1].reshape(-1, 1)\n",
    "custom_predict = Binarizer(threshold=custom_threshold).fit_transform(pred_proba_1)\n",
    "get_clf_eval(y_test, custom_predict)"
   ]
  },
  {
   "cell_type": "code",
   "execution_count": 37,
   "id": "30755590-3f8b-49be-b411-73ed55296009",
   "metadata": {},
   "outputs": [
    {
     "name": "stdout",
     "output_type": "stream",
     "text": [
      "오차 행렬\n",
      "[[113   5]\n",
      " [ 17  44]]\n",
      "정확도: 0.8771, 정밀도: 0.8980, 재현율: 0.7213\n"
     ]
    }
   ],
   "source": [
    "# 임계값 변경해서\n",
    "custom_threshold = 0.6\n",
    "# 0.5에 비해 정밀도가 올라간다.\n",
    "\n",
    "pred_proba_1 = pred_proba[:, 1].reshape(-1, 1)\n",
    "custom_predict = Binarizer(threshold=custom_threshold).fit_transform(pred_proba_1)\n",
    "get_clf_eval(y_test, custom_predict)"
   ]
  },
  {
   "cell_type": "markdown",
   "id": "8c0633b0-4529-4b77-9cef-448c8bd35bda",
   "metadata": {},
   "source": [
    "### 분류 결정 임계값이 낮아질수록\n",
    "### 1로 예측할 확률이 높아진다. -> 재현율 증가"
   ]
  },
  {
   "cell_type": "code",
   "execution_count": 38,
   "id": "1b1ca8b6-017a-42e6-8db8-273d2beb4e9a",
   "metadata": {},
   "outputs": [],
   "source": [
    "# 테스트를 수행할 모든 입계값을 리스트 객체로 저장\n",
    "thresholds = [0.4, 0.45, 0.5, 0.55, 0.6]"
   ]
  },
  {
   "cell_type": "code",
   "execution_count": 39,
   "id": "313e2c46-abf5-41ab-adaf-fe7840841ac4",
   "metadata": {},
   "outputs": [],
   "source": [
    "def get_eval_by_threshold(y_test, pred_proba_c1, thresholds):\n",
    "    # thresholds list 객체 내의 값을 차례로 iteration하면서 Evaluation 수행\n",
    "    for custom_threshold in thresholds:\n",
    "        binarizer = Binarizer(threshold=custom_threshold).fit(pred_proba_c1)\n",
    "        custom_predict = binarizer.transform(pred_proba_c1)\n",
    "        print('임계값:', custom_threshold)\n",
    "        get_clf_eval(y_test, custom_predict)"
   ]
  },
  {
   "cell_type": "code",
   "execution_count": 40,
   "id": "acc3778b-3026-49ef-a1e2-5b697567cde6",
   "metadata": {},
   "outputs": [
    {
     "name": "stdout",
     "output_type": "stream",
     "text": [
      "임계값: 0.4\n",
      "오차 행렬\n",
      "[[97 21]\n",
      " [11 50]]\n",
      "정확도: 0.8212, 정밀도: 0.7042, 재현율: 0.8197\n",
      "임계값: 0.45\n",
      "오차 행렬\n",
      "[[105  13]\n",
      " [ 13  48]]\n",
      "정확도: 0.8547, 정밀도: 0.7869, 재현율: 0.7869\n",
      "임계값: 0.5\n",
      "오차 행렬\n",
      "[[108  10]\n",
      " [ 14  47]]\n",
      "정확도: 0.8659, 정밀도: 0.8246, 재현율: 0.7705\n",
      "임계값: 0.55\n",
      "오차 행렬\n",
      "[[111   7]\n",
      " [ 16  45]]\n",
      "정확도: 0.8715, 정밀도: 0.8654, 재현율: 0.7377\n",
      "임계값: 0.6\n",
      "오차 행렬\n",
      "[[113   5]\n",
      " [ 17  44]]\n",
      "정확도: 0.8771, 정밀도: 0.8980, 재현율: 0.7213\n"
     ]
    }
   ],
   "source": [
    "get_eval_by_threshold(y_test, pred_proba_1, thresholds)\n",
    "# 임계값을 바꿔주면서 오차행렬과 값들을 확인한다."
   ]
  },
  {
   "cell_type": "code",
   "execution_count": 41,
   "id": "f8d506d1-b7b1-4b46-b47d-16b4384cff90",
   "metadata": {},
   "outputs": [],
   "source": [
    "# 수치만 봐서는 크로스되는 지점을 파악하기 어렵다."
   ]
  },
  {
   "cell_type": "code",
   "execution_count": 42,
   "id": "452abb14-e517-40c6-a4cb-f710ec5c1f33",
   "metadata": {},
   "outputs": [],
   "source": [
    "# p164 그래서 그래프로"
   ]
  },
  {
   "cell_type": "code",
   "execution_count": 43,
   "id": "85b285f7-9a87-46dc-9aa6-826a6e42215c",
   "metadata": {},
   "outputs": [],
   "source": [
    "from sklearn.metrics import precision_recall_curve"
   ]
  },
  {
   "cell_type": "code",
   "execution_count": 44,
   "id": "80407a86-da6e-4fe7-808f-2916e755e911",
   "metadata": {},
   "outputs": [
    {
     "name": "stdout",
     "output_type": "stream",
     "text": [
      "반환된 분류 결정 임계값 배열의 Shape: (147,)\n",
      "샘플 추출을 위한 임계값 배열의 index 10개: [  0  15  30  45  60  75  90 105 120 135]\n",
      "샘플용 10개의 임계값: [0.12 0.13 0.15 0.17 0.26 0.38 0.49 0.63 0.76 0.9 ]\n",
      "샘플 임계값별 정밀도: [0.379 0.424 0.455 0.519 0.618 0.676 0.797 0.93  0.964 1.   ]\n",
      "샘플 임계값별 재현율: [1.    0.967 0.902 0.902 0.902 0.82  0.77  0.656 0.443 0.213]\n"
     ]
    }
   ],
   "source": [
    "# 레이블 값이 1일 때의 예측 확률 추출\n",
    "pred_proba_class1 = lr_clf.predict_proba(X_test)[:, 1]\n",
    "\n",
    "# '실제값 데이터셋'(y_test)과 '레이블 값이 1일 때의 예측 확률'(pred_proba_class1)을 precision_recall_curve 인자로 입력\n",
    "# 정밀도, 재현율, 임계값 배열 반환\n",
    "precisions, recalls, thresholds = precision_recall_curve(y_test, pred_proba_class1)\n",
    "print('반환된 분류 결정 임계값 배열의 Shape:', thresholds.shape)\n",
    "\n",
    "# 반환된 '임계값 배열 row'가 147건이므로 샘플로 10건만 추출 -> 임계값을 15 step으로 추출\n",
    "thr_index = np.arange(0, thresholds.shape[0], 15)\n",
    "print('샘플 추출을 위한 임계값 배열의 index 10개:', thr_index)\n",
    "print('샘플용 10개의 임계값:', np.round(thresholds[thr_index], 2))\n",
    "\n",
    "# 15 step 단위로 추출된 임계값에 따른 정밀도와 재현율 값\n",
    "print('샘플 임계값별 정밀도:', np.round(precisions[thr_index], 3))\n",
    "print('샘플 임계값별 재현율:', np.round(recalls[thr_index], 3))\n"
   ]
  },
  {
   "cell_type": "code",
   "execution_count": 45,
   "id": "860e255a-2a6f-4de1-946f-55bd835bfc4b",
   "metadata": {},
   "outputs": [],
   "source": [
    "import matplotlib.pyplot as plt\n",
    "import matplotlib.ticker as ticker"
   ]
  },
  {
   "cell_type": "code",
   "execution_count": 46,
   "id": "3706a1a3-09a3-4c9e-9302-c3a377b61f12",
   "metadata": {},
   "outputs": [],
   "source": [
    "def precision_recall_curve_plot(y_test, pred_proba_c1):\n",
    "    # threshold ndarray와 이 threshold에 따른 정밀도, 재현율 ndarray 추출\n",
    "    precisions, recalls, thresholds = precision_recall_curve(y_test, pred_proba_c1)\n",
    "    \n",
    "    # 'X축을 threshold값'으로, 'Y축은 precisions정밀도(점선), recalls재현율 값'으로 각각 Plot 실행\n",
    "    plt.figure(figsize=(8, 6))\n",
    "    threshold_boundary = thresholds.shape[0]\n",
    "    plt.plot(thresholds, precisions[0:threshold_boundary], linestyle='--', label='precision')\n",
    "    plt.plot(thresholds, recalls[0:threshold_boundary], label='recall')\n",
    "    \n",
    "    # threshold 값 X축의 Scale을 0.1 단위로 변경\n",
    "    start, end = plt.xlim()\n",
    "    plt.xticks(np.round(np.arange(start, end, 0.1), 2))\n",
    "    \n",
    "    # X축, y축 label과 legend, 그리고 grid 설정\n",
    "    plt.xlabel('Threshold value'); plt.ylabel('Precision and Recall value')\n",
    "    plt.legend(); plt.grid()\n",
    "    plt.show()\n",
    "    \n"
   ]
  },
  {
   "cell_type": "code",
   "execution_count": 47,
   "id": "c930e127-03c7-4ce2-a62a-0cb9e29bea24",
   "metadata": {},
   "outputs": [
    {
     "data": {
      "image/png": "[encoded data removed]",
      "text/plain": [
       "<Figure size 576x432 with 1 Axes>"
      ]
     },
     "metadata": {
      "needs_background": "light"
     },
     "output_type": "display_data"
    }
   ],
   "source": [
    "precision_recall_curve_plot(y_test, pred_proba_class1)"
   ]
  },
  {
   "cell_type": "code",
   "execution_count": 48,
   "id": "0933cd13-7909-4b26-8459-8251267441e6",
   "metadata": {},
   "outputs": [
    {
     "data": {
      "text/plain": [
       "array([  0,  15,  30,  45,  60,  75,  90, 105, 120, 135])"
      ]
     },
     "execution_count": 48,
     "metadata": {},
     "output_type": "execute_result"
    }
   ],
   "source": [
    "thr_index"
   ]
  },
  {
   "cell_type": "code",
   "execution_count": null,
   "id": "2a1d4150-fd41-4919-9f3e-ff7468e2d214",
   "metadata": {},
   "outputs": [],
   "source": []
  },
  {
   "cell_type": "code",
   "execution_count": null,
   "id": "befafb8b-5675-4b3d-9731-922bf9732aba",
   "metadata": {},
   "outputs": [],
   "source": []
  },
  {
   "cell_type": "markdown",
   "id": "d16d3c59-240d-4670-b513-d867327267c1",
   "metadata": {},
   "source": [
    "# 20221006"
   ]
  },
  {
   "cell_type": "code",
   "execution_count": null,
   "id": "b8d92389-6773-48e7-b8c2-b33401a2ed69",
   "metadata": {},
   "outputs": [],
   "source": [
    "# 어제 복기\n",
    "# 오차행렬은 1인 것에 중점\n",
    "# Recall은 실제값이 1인 것에 중점 TP / (FN+TP):실재값, 암환자판별, 1인데 0이라고 하는 경우 문제\n",
    "# Precision은 예측값이 1인 것에 중점 FP / (FN+TP):실재값, 스팸메일판별, 0인데 1이라고 하는 경우 문제\n",
    "# 정밀도와 재현율 트레이드오프"
   ]
  },
  {
   "cell_type": "markdown",
   "id": "1d7108c6-44d0-4ca4-875c-31d749c03710",
   "metadata": {},
   "source": [
    "# p166. F1 스코어\n",
    "정밀도와 재현율이 서로 절절한 수치를 나타낼 때 F1 스코어가 상대적으로 높은 값을 가진다."
   ]
  },
  {
   "cell_type": "code",
   "execution_count": null,
   "id": "912d4ffe-38b2-4b1c-b3ec-e91ba0ea9822",
   "metadata": {},
   "outputs": [],
   "source": [
    "# F1 SCORE = (2*정밀도*재현율)/(정밀도+재현율)"
   ]
  },
  {
   "cell_type": "code",
   "execution_count": 49,
   "id": "a9ad201a-9cf0-4618-ba49-93809188bcb9",
   "metadata": {},
   "outputs": [],
   "source": [
    "from sklearn.metrics import f1_score"
   ]
  },
  {
   "cell_type": "code",
   "execution_count": 50,
   "id": "66f3dfae-a72a-44d2-8db8-d7c53990a44a",
   "metadata": {},
   "outputs": [],
   "source": [
    "f1 = f1_score(y_test, pred) # 정답, 예측결정값을 받음"
   ]
  },
  {
   "cell_type": "code",
   "execution_count": 55,
   "id": "378ffd6a-aa8f-4247-8366-db5aa00eaa2f",
   "metadata": {},
   "outputs": [
    {
     "name": "stdout",
     "output_type": "stream",
     "text": [
      "F1 스코어: 0.7966101694915254\n"
     ]
    }
   ],
   "source": [
    "print(f'F1 스코어: {f1}')"
   ]
  },
  {
   "cell_type": "code",
   "execution_count": 63,
   "id": "b71a377a-f2f0-44fb-8381-9d64a87428c2",
   "metadata": {},
   "outputs": [],
   "source": [
    "# 오차행렬, 정확도, 정밀도, 재현율, F1스코어 구해주는 함수\n",
    "def get_clf_eval(y_test, pred):\n",
    "    from sklearn.metrics import accuracy_score, confusion_matrix, recall_score, precision_score, f1_score\n",
    "    confusion = confusion_matrix(y_test, pred)\n",
    "    accuracy = accuracy_score(y_test, pred)\n",
    "    precision = precision_score(y_test, pred)\n",
    "    recall = recall_score(y_test, pred)\n",
    "    print('오차 행렬')\n",
    "    print(confusion)\n",
    "    print(f'정확도: {accuracy:.4f}, 정밀도: {precision:.4f}, 재현율: {recall:.4f}, F1스코어: {f1:.4f}')"
   ]
  },
  {
   "cell_type": "code",
   "execution_count": 53,
   "id": "c65f5c83-c370-4e4b-bb45-d99751d3943b",
   "metadata": {},
   "outputs": [
    {
     "name": "stdout",
     "output_type": "stream",
     "text": [
      "오차 행렬\n",
      "[[108  10]\n",
      " [ 14  47]]\n",
      "정확도: 0.8659, 정밀도: 0.8246, 재현율: 0.7705, F1스코어: 0.7966\n"
     ]
    }
   ],
   "source": [
    "get_clf_eval(y_test, pred)"
   ]
  },
  {
   "cell_type": "code",
   "execution_count": 58,
   "id": "d48c3545-ee07-45ce-9197-35e9bf7dfefa",
   "metadata": {},
   "outputs": [],
   "source": [
    "from sklearn.linear_model import LogisticRegression"
   ]
  },
  {
   "cell_type": "code",
   "execution_count": 59,
   "id": "53f64c7b-3abc-411f-a444-a01301c5f8df",
   "metadata": {},
   "outputs": [],
   "source": [
    "def get_eval_by_threshold(y_test, pred_proba_c1, thresholds):\n",
    "    # thresholds list 객체 내의 값을 차례로 iteration하면서 Evaluation 수행\n",
    "    for custom_threshold in thresholds:\n",
    "        binarizer = Binarizer(threshold=custom_threshold).fit(pred_proba_c1)\n",
    "        custom_predict = binarizer.transform(pred_proba_c1)\n",
    "        print('임계값:', custom_threshold)\n",
    "        get_clf_eval(y_test, custom_predict)"
   ]
  },
  {
   "cell_type": "code",
   "execution_count": 96,
   "id": "8436c6cb-cb7a-42ef-bd02-0d6671278677",
   "metadata": {},
   "outputs": [
    {
     "name": "stdout",
     "output_type": "stream",
     "text": [
      "임계값: 0.4\n",
      "오차 행렬\n",
      "[[97 21]\n",
      " [11 50]]\n",
      "정확도: 0.8212, 정밀도: 0.7042, 재현율: 0.8197, F1스코어: 0.7966\n",
      "임계값: 0.45\n",
      "오차 행렬\n",
      "[[105  13]\n",
      " [ 13  48]]\n",
      "정확도: 0.8547, 정밀도: 0.7869, 재현율: 0.7869, F1스코어: 0.7966\n",
      "임계값: 0.5\n",
      "오차 행렬\n",
      "[[108  10]\n",
      " [ 14  47]]\n",
      "정확도: 0.8659, 정밀도: 0.8246, 재현율: 0.7705, F1스코어: 0.7966\n",
      "임계값: 0.55\n",
      "오차 행렬\n",
      "[[111   7]\n",
      " [ 16  45]]\n",
      "정확도: 0.8715, 정밀도: 0.8654, 재현율: 0.7377, F1스코어: 0.7966\n",
      "임계값: 0.6\n",
      "오차 행렬\n",
      "[[113   5]\n",
      " [ 17  44]]\n",
      "정확도: 0.8771, 정밀도: 0.8980, 재현율: 0.7213, F1스코어: 0.7966\n"
     ]
    }
   ],
   "source": [
    "thresholds = [0.4, 0.45, 0.5, 0.55, 0.6]\n",
    "pred_proba = lr_clf.predict_proba(X_test) # 확률값을 받아서\n",
    "\n",
    "get_eval_by_threshold(y_test, pred_proba[:,1].reshape(-1, 1), thresholds) # pred_proba의 뒷열은 1일 확률"
   ]
  },
  {
   "cell_type": "markdown",
   "id": "aeeb1ed3-8ee0-4e96-8972-262be1f193de",
   "metadata": {},
   "source": [
    "## p.167, ROC곡선과 AUC"
   ]
  },
  {
   "cell_type": "code",
   "execution_count": 73,
   "id": "14c43031-4d1b-4810-ae76-cddd68d690d3",
   "metadata": {},
   "outputs": [],
   "source": [
    "from sklearn.metrics import roc_curve"
   ]
  },
  {
   "cell_type": "code",
   "execution_count": 97,
   "id": "7aa8ca7a-0aa5-443d-beae-ef0e44f4af10",
   "metadata": {},
   "outputs": [
    {
     "data": {
      "text/plain": [
       "[0.4, 0.45, 0.5, 0.55, 0.6]"
      ]
     },
     "execution_count": 97,
     "metadata": {},
     "output_type": "execute_result"
    }
   ],
   "source": [
    "thresholds"
   ]
  },
  {
   "cell_type": "code",
   "execution_count": 98,
   "id": "5694d744-d1f6-4e7e-b2eb-e8aa337d0faa",
   "metadata": {},
   "outputs": [
    {
     "ename": "AttributeError",
     "evalue": "'list' object has no attribute 'shape'",
     "output_type": "error",
     "traceback": [
      "\u001b[1;31m---------------------------------------------------------------------------\u001b[0m",
      "\u001b[1;31mAttributeError\u001b[0m                            Traceback (most recent call last)",
      "Input \u001b[1;32mIn [98]\u001b[0m, in \u001b[0;36m<cell line: 1>\u001b[1;34m()\u001b[0m\n\u001b[1;32m----> 1\u001b[0m \u001b[43mthresholds\u001b[49m\u001b[38;5;241;43m.\u001b[39;49m\u001b[43mshape\u001b[49m[\u001b[38;5;241m1\u001b[39m]\n",
      "\u001b[1;31mAttributeError\u001b[0m: 'list' object has no attribute 'shape'"
     ]
    }
   ],
   "source": [
    "thresholds.shape[1] # 책에서도 리스트로 할당했는디,; 어레이로 만들어줘야함\n",
    "# pred_proba_class1 = lr_clf.predict_proba(X_test) \"\"\"[:,1]\"\"\" 빼먹음"
   ]
  },
  {
   "cell_type": "code",
   "execution_count": 85,
   "id": "9ac403da-67ab-455e-90b0-78ca47021263",
   "metadata": {},
   "outputs": [],
   "source": [
    "thresholds = np.array(thresholds)"
   ]
  },
  {
   "cell_type": "code",
   "execution_count": 94,
   "id": "9e1a7007-189c-4449-9cae-a7ea21ba6ea2",
   "metadata": {},
   "outputs": [
    {
     "data": {
      "text/plain": [
       "48"
      ]
     },
     "execution_count": 94,
     "metadata": {},
     "output_type": "execute_result"
    }
   ],
   "source": [
    "thresholds.shape[0]"
   ]
  },
  {
   "cell_type": "code",
   "execution_count": 99,
   "id": "88345fe8-a0a9-4e99-af0f-1c86f2239ef7",
   "metadata": {},
   "outputs": [],
   "source": [
    "# 레이블 값이 1일 때의 예측 확률 추출\n",
    "# pred_proba_class1 : 1일 확률\n",
    "pred_proba_class1 = lr_clf.predict_proba(X_test)[:,1]\n",
    "\n",
    "# x축:FPR, y축:TPR, 임계값\n",
    "fprs, tprs, thresholds = roc_curve(y_test, pred_proba_class1)\n",
    "# 반환된 임계값 배열에서 임계값을 5step으로 샘플 데이터를 추출\n",
    "# thresholds[0]은 max(예측확률)+1로 임의 설정됨.\n",
    "# 이를 제외하기 위해 np.arange는 1부터 시작함\n",
    "thr_index = np.arange(1, thresholds.shape[0], 5)"
   ]
  },
  {
   "cell_type": "code",
   "execution_count": 100,
   "id": "1cbd06ec-bde7-49a3-a72c-3b54e9ddbad9",
   "metadata": {},
   "outputs": [
    {
     "data": {
      "text/plain": [
       "array([0.94, 0.73, 0.62, 0.52, 0.44, 0.28, 0.15, 0.14, 0.13, 0.12])"
      ]
     },
     "execution_count": 100,
     "metadata": {},
     "output_type": "execute_result"
    }
   ],
   "source": [
    "np.round(thresholds[thr_index], 2) # 소수 둘째 자리 까지"
   ]
  },
  {
   "cell_type": "code",
   "execution_count": 101,
   "id": "b798ba7b-7c60-4202-a09d-0121f83714d3",
   "metadata": {},
   "outputs": [
    {
     "data": {
      "text/plain": [
       "array([0.  , 0.01, 0.03, 0.08, 0.13, 0.25, 0.58, 0.61, 0.75, 0.85])"
      ]
     },
     "execution_count": 101,
     "metadata": {},
     "output_type": "execute_result"
    }
   ],
   "source": [
    "np.round(fprs[thr_index], 2)"
   ]
  },
  {
   "cell_type": "code",
   "execution_count": 102,
   "id": "cc66490f-aaf2-4479-9ddd-da6813bdd914",
   "metadata": {},
   "outputs": [
    {
     "data": {
      "text/plain": [
       "array([0.02, 0.49, 0.7 , 0.74, 0.8 , 0.89, 0.9 , 0.95, 0.97, 1.  ])"
      ]
     },
     "execution_count": 102,
     "metadata": {},
     "output_type": "execute_result"
    }
   ],
   "source": [
    "np.round(tprs[thr_index], 2)"
   ]
  },
  {
   "cell_type": "code",
   "execution_count": 104,
   "id": "c831604d-6bea-4506-aff2-cd247679f9dd",
   "metadata": {},
   "outputs": [
    {
     "data": {
      "image/png": "[encoded data removed]",
      "text/plain": [
       "<Figure size 432x288 with 1 Axes>"
      ]
     },
     "metadata": {
      "needs_background": "light"
     },
     "output_type": "display_data"
    }
   ],
   "source": [
    "# FPR 변화에 따른 TPR의 변화, ROC 곡선 시각화\n",
    "def roc_curve_plot(y_test, pred_proba_c1):\n",
    "    # 임계값에 따른 FPR, TPR 값 반환\n",
    "    fprs, tprs, thresholds = roc_curve(y_test, pred_proba_c1)\n",
    "    # ROC 곡선 그래프\n",
    "    plt.plot(fprs, tprs, label='ROC') # X축 FPR, y축 TPR\n",
    "    # 가운데 대각선 직선\n",
    "    plt.plot([0, 1], [0, 1], 'k--', label='Random') # k--:black, 점선\n",
    "    \n",
    "    # FPR X 축의 Scale을 0.1 단위로 변경, X,Y축 이름 설정\n",
    "    start, end = plt.xlim()\n",
    "    plt.xticks(np.round(np.arange(start, end, 0.1), 2)) # 소수 이하 둘째 자리\n",
    "    plt.xlim(0, 1); plt.ylim(0, 1) # x, y의 전체 크기 설정\n",
    "    plt.xlabel('FPR( 1  - Specificity )'); plt.ylabel('TPR( Recall )')\n",
    "    plt.legend()\n",
    "    \n",
    "roc_curve_plot(y_test, pred_proba_class1)"
   ]
  },
  {
   "cell_type": "code",
   "execution_count": 105,
   "id": "ba60839f-71ab-419c-8e35-77c3e72e38b4",
   "metadata": {},
   "outputs": [
    {
     "name": "stdout",
     "output_type": "stream",
     "text": [
      "ROC AUC 값: 0.8986524034454015\n"
     ]
    }
   ],
   "source": [
    "# p.171\n",
    "from sklearn.metrics import roc_auc_score\n",
    "\n",
    "roc_score = roc_auc_score(y_test, pred_proba_class1)\n",
    "print(f'ROC AUC 값: {roc_score}')"
   ]
  },
  {
   "cell_type": "code",
   "execution_count": 107,
   "id": "7274d714-8a7c-41a7-a0cd-417efeb92212",
   "metadata": {},
   "outputs": [],
   "source": [
    "def get_clf_eval(y_test, pred=None, pred_proba=None):\n",
    "    from sklearn.metrics import accuracy_score, confusion_matrix, recall_score, precision_score, f1_score, roc_auc_score\n",
    "    confusion = confusion_matrix(y_test, pred)\n",
    "    accuracy = accuracy_score(y_test, pred)\n",
    "    precision = precision_score(y_test, pred)\n",
    "    recall = recall_score(y_test, pred)\n",
    "    f1 = f1_score(y_test, pred)\n",
    "    roc_auc = roc_auc_score(y_test, pred_proba)\n",
    "    \n",
    "    print('오차 행렬')\n",
    "    print(confusion)\n",
    "    print(f'정확도: {accuracy:.4f}, 정밀도: {precision:.4f}, 재현율: {recall:.4f}, F1스코어: {f1:.4f}, AUC: {roc_auc:.4f}')"
   ]
  },
  {
   "cell_type": "code",
   "execution_count": 113,
   "id": "be1b01e5-f464-456c-adef-7481180e2532",
   "metadata": {},
   "outputs": [
    {
     "name": "stdout",
     "output_type": "stream",
     "text": [
      "오차 행렬\n",
      "[[108  10]\n",
      " [ 14  47]]\n",
      "정확도: 0.8659, 정밀도: 0.8246, 재현율: 0.7705, F1스코어: 0.7966, AUC: 0.8987\n"
     ]
    }
   ],
   "source": [
    "get_clf_eval(y_test, pred, pred_proba_class1)"
   ]
  },
  {
   "cell_type": "markdown",
   "id": "94cb244b-e4bd-41c1-a36c-98e3ca3a1db0",
   "metadata": {},
   "source": []
  },
  {
   "cell_type": "code",
   "execution_count": null,
   "id": "2aaa61db-26c1-4032-a17e-27fb8427bbd9",
   "metadata": {},
   "outputs": [],
   "source": []
  }
 ],
 "metadata": {
  "kernelspec": {
   "display_name": "Python 3 (ipykernel)",
   "language": "python",
   "name": "python3"
  },
  "language_info": {
   "codemirror_mode": {
    "name": "ipython",
    "version": 3
   },
   "file_extension": ".py",
   "mimetype": "text/x-python",
   "name": "python",
   "nbconvert_exporter": "python",
   "pygments_lexer": "ipython3",
   "version": "3.9.12"
  }
 },
 "nbformat": 4,
 "nbformat_minor": 5
}
