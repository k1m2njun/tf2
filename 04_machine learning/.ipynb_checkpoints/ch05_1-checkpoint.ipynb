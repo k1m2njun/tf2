{
 "cells": [
  {
   "cell_type": "code",
   "execution_count": null,
   "id": "6eb8442c-bbb7-4899-bcc7-e0fd515fb330",
   "metadata": {},
   "outputs": [],
   "source": [
    "# 315"
   ]
  },
  {
   "cell_type": "code",
   "execution_count": 57,
   "id": "b66c185d-b44d-44b0-849e-870a60cc83ee",
   "metadata": {},
   "outputs": [],
   "source": [
    "import numpy as np\n",
    "import matplotlib.pyplot as plt\n",
    "\n",
    "np.random.seed(0)"
   ]
  },
  {
   "cell_type": "code",
   "execution_count": 78,
   "id": "36e3cde9-dffc-4d8d-8180-ec813649f8db",
   "metadata": {},
   "outputs": [
    {
     "data": {
      "text/plain": [
       "<matplotlib.collections.PathCollection at 0x1ffaf4f4790>"
      ]
     },
     "execution_count": 78,
     "metadata": {},
     "output_type": "execute_result"
    },
    {
     "data": {
      "image/png": "[encoded data removed]",
      "text/plain": [
       "<Figure size 432x288 with 1 Axes>"
      ]
     },
     "metadata": {
      "needs_background": "light"
     },
     "output_type": "display_data"
    }
   ],
   "source": [
    "# y = 4x+6 을 근사 (w1=4, w0=6) 임의의 값은 노이즈를 위해 만듦\n",
    "# 즉 w1:가중치, w0:바이어스값\n",
    "X = 2*np.random.rand(100, 1)\n",
    "y  = 6 + 4 * X + np.random.rand(100, 1)\n",
    "\n",
    "# X, y 데이터 셋 산점도로 시각화\n",
    "plt.scatter(X, y)"
   ]
  },
  {
   "cell_type": "code",
   "execution_count": 79,
   "id": "c7d3c08c-7e8b-4ba4-98ad-410539c9a6f6",
   "metadata": {},
   "outputs": [],
   "source": [
    "# 비용 함수\n",
    "def get_cost(y, y_pred):\n",
    "    N = len(y)\n",
    "    cost = np.sum(np.sqare(y - y_pred))/N\n",
    "    return cost"
   ]
  },
  {
   "cell_type": "code",
   "execution_count": 80,
   "id": "1d3a6acf-ca01-4b06-8304-0b04328a3a6f",
   "metadata": {},
   "outputs": [],
   "source": [
    "# 가중치 업데이트\n",
    "def get_weight_updates(w1, w0, X, y, learning_rate=0.01):\n",
    "    N = len(y)\n",
    "    # 먼저 w1_update, w0_update를 각각 w1, w0의 shape와 동일한 크기를 가진 0 값으로 초기화\n",
    "    w1_update = np.zeros_like(w1)\n",
    "    w0_update = np.zeros_like(w0)\n",
    "    # 예측 배열 계산(행렬 간의 연산을 위해 앞뒤 행렬의 크기가 반대로되어야한다.)\n",
    "    y_pred = np.dot(X, w1.T) + w0 # w0: b 바이어스값\n",
    "    # 실제 값과 예측값의 차이 계산(비용함수)\n",
    "    diff = y - y_pred\n",
    "    \n",
    "    # w0_update를 dot 행렬 연산으로 구하기 위해 모두 1값을 가진 행렬 생성\n",
    "    w0_factors = np.ones((N,1))\n",
    "    \n",
    "    # w1, w0을 업데이트할 w1_update, w0_update 계산\n",
    "    w1_update = -(2/N) * learning_rate * (np.dot(X.T, diff))\n",
    "    w0_update = -(2/N) * learning_rate * (np.dot(w0_factors.T, diff))\n",
    "    \n",
    "    return w1_update, w0_update"
   ]
  },
  {
   "cell_type": "code",
   "execution_count": 81,
   "id": "265b320d-e3f7-4f31-bdd6-75e85932bec4",
   "metadata": {},
   "outputs": [],
   "source": [
    "# 경사하강법\n",
    "def gradient_descent_steps(X, y, iters=10000):\n",
    "    # w0, w1을 모두 0으로 초기화\n",
    "    w0 = np.zeros((1,1))\n",
    "    w1 = np.zeros((1,1))\n",
    "    \n",
    "    # 인자로 주어진 iters만큼 반복-\n",
    "    # get_weight_updates 함수 호출해 w1, w0 업데이트 수행\n",
    "    for ind in range(iters):\n",
    "        w1_update, w0_update = get_weight_updates(w1, w0, X, y, learning_rate=0.01)\n",
    "        w1 = w1 - w1_update # 경사하강법, +값이 나오면 빼주고, - 나오면 더해준다.\n",
    "        w0 = w0 - w0_update\n",
    "        \n",
    "    return w1, w0"
   ]
  },
  {
   "cell_type": "code",
   "execution_count": 82,
   "id": "ded4c38e-4c46-46c4-89ac-97a2d24a0540",
   "metadata": {},
   "outputs": [
    {
     "name": "stdout",
     "output_type": "stream",
     "text": [
      "[[4.08737216]] [[6.41063932]]\n"
     ]
    }
   ],
   "source": [
    "w1, w0 = gradient_descent_steps(X, y, iters=1000)\n",
    "print(w1, w0)"
   ]
  },
  {
   "cell_type": "code",
   "execution_count": 83,
   "id": "5300ea9c-0464-41b6-ac66-161bc335366c",
   "metadata": {},
   "outputs": [],
   "source": [
    "# y = 4x + 6 과 비슷하다."
   ]
  },
  {
   "cell_type": "code",
   "execution_count": 84,
   "id": "3a156223-4843-4326-840d-fd67c84e7306",
   "metadata": {},
   "outputs": [],
   "source": [
    "y_pred = w1[0,0]*X +w0"
   ]
  },
  {
   "cell_type": "code",
   "execution_count": 85,
   "id": "dfa10fb6-1522-4df8-8ac2-7a29c531c91f",
   "metadata": {},
   "outputs": [
    {
     "data": {
      "text/plain": [
       "array([[ 8.55681196],\n",
       "       [11.03259147]])"
      ]
     },
     "execution_count": 85,
     "metadata": {},
     "output_type": "execute_result"
    }
   ],
   "source": [
    "y[:2]"
   ]
  },
  {
   "cell_type": "code",
   "execution_count": 86,
   "id": "c57f7ef4-42e6-4436-a295-2800371ff490",
   "metadata": {},
   "outputs": [
    {
     "data": {
      "text/plain": [
       "array([[ 8.80291325],\n",
       "       [11.04178136]])"
      ]
     },
     "execution_count": 86,
     "metadata": {},
     "output_type": "execute_result"
    }
   ],
   "source": [
    "y_pred[:2]"
   ]
  },
  {
   "cell_type": "code",
   "execution_count": 87,
   "id": "453e182d-2595-4ed6-acc8-fe1899fef4af",
   "metadata": {},
   "outputs": [
    {
     "data": {
      "text/plain": [
       "[<matplotlib.lines.Line2D at 0x1ffb05407c0>]"
      ]
     },
     "execution_count": 87,
     "metadata": {},
     "output_type": "execute_result"
    },
    {
     "data": {
      "image/png": "[encoded data removed]",
      "text/plain": [
       "<Figure size 432x288 with 1 Axes>"
      ]
     },
     "metadata": {
      "needs_background": "light"
     },
     "output_type": "display_data"
    }
   ],
   "source": [
    "plt.scatter(X, y)\n",
    "plt.plot(X, y_pred)"
   ]
  },
  {
   "cell_type": "code",
   "execution_count": null,
   "id": "b039f9e2-c799-4198-aefc-9c93222d4282",
   "metadata": {},
   "outputs": [],
   "source": []
  }
 ],
 "metadata": {
  "kernelspec": {
   "display_name": "Python 3 (ipykernel)",
   "language": "python",
   "name": "python3"
  },
  "language_info": {
   "codemirror_mode": {
    "name": "ipython",
    "version": 3
   },
   "file_extension": ".py",
   "mimetype": "text/x-python",
   "name": "python",
   "nbconvert_exporter": "python",
   "pygments_lexer": "ipython3",
   "version": "3.9.12"
  }
 },
 "nbformat": 4,
 "nbformat_minor": 5
}
