{
 "cells": [
  {
   "cell_type": "code",
   "execution_count": 1,
   "id": "44cee4c4-0ec6-4910-8a83-f462afcbb001",
   "metadata": {},
   "outputs": [],
   "source": [
    "import sklearn # p.86"
   ]
  },
  {
   "cell_type": "code",
   "execution_count": 3,
   "id": "6f9d8e52-ff2d-4b92-8c2d-442380359be1",
   "metadata": {},
   "outputs": [
    {
     "data": {
      "text/plain": [
       "'1.0.2'"
      ]
     },
     "execution_count": 3,
     "metadata": {},
     "output_type": "execute_result"
    }
   ],
   "source": [
    "sklearn.__version__ # 사이킷런 버전 확인"
   ]
  },
  {
   "cell_type": "code",
   "execution_count": null,
   "id": "0b4976ae-d4da-4ca1-971c-64ed40d5f3c8",
   "metadata": {},
   "outputs": [],
   "source": [
    "# 붓꽃 품종 예측하기 : 분류, 지도학습"
   ]
  },
  {
   "cell_type": "code",
   "execution_count": 5,
   "id": "ace32998-acbc-4432-ae53-b08416159483",
   "metadata": {},
   "outputs": [],
   "source": [
    "from sklearn.datasets import load_iris # datasets, 샘플로 쓸 수 있는 데이터가 들어있다.\n",
    "from sklearn.tree import DecisionTreeClassifier # 의사결정나무(지도학습_분류), DecisionTree는 분류, 회귀를 사용할 수 있다.\n",
    "from sklearn.model_selection import train_test_split # 학습용 데이터와 미지의 데이터를 나눈다."
   ]
  },
  {
   "cell_type": "code",
   "execution_count": 6,
   "id": "d9537ba3-04e3-4d74-8a84-6649261f2990",
   "metadata": {},
   "outputs": [],
   "source": [
    "import pandas as pd\n",
    "\n",
    "# 붓꽃 데이터 세트를 로딩\n",
    "iris = load_iris() "
   ]
  },
  {
   "cell_type": "code",
   "execution_count": 9,
   "id": "4f778bf2-f742-4300-94bc-5110a84151ec",
   "metadata": {
    "tags": []
   },
   "outputs": [
    {
     "data": {
      "text/plain": [
       "{'data': array([[5.1, 3.5, 1.4, 0.2],\n",
       "        [4.9, 3. , 1.4, 0.2],\n",
       "        [4.7, 3.2, 1.3, 0.2],\n",
       "        [4.6, 3.1, 1.5, 0.2],\n",
       "        [5. , 3.6, 1.4, 0.2],\n",
       "        [5.4, 3.9, 1.7, 0.4],\n",
       "        [4.6, 3.4, 1.4, 0.3],\n",
       "        [5. , 3.4, 1.5, 0.2],\n",
       "        [4.4, 2.9, 1.4, 0.2],\n",
       "        [4.9, 3.1, 1.5, 0.1],\n",
       "        [5.4, 3.7, 1.5, 0.2],\n",
       "        [4.8, 3.4, 1.6, 0.2],\n",
       "        [4.8, 3. , 1.4, 0.1],\n",
       "        [4.3, 3. , 1.1, 0.1],\n",
       "        [5.8, 4. , 1.2, 0.2],\n",
       "        [5.7, 4.4, 1.5, 0.4],\n",
       "        [5.4, 3.9, 1.3, 0.4],\n",
       "        [5.1, 3.5, 1.4, 0.3],\n",
       "        [5.7, 3.8, 1.7, 0.3],\n",
       "        [5.1, 3.8, 1.5, 0.3],\n",
       "        [5.4, 3.4, 1.7, 0.2],\n",
       "        [5.1, 3.7, 1.5, 0.4],\n",
       "        [4.6, 3.6, 1. , 0.2],\n",
       "        [5.1, 3.3, 1.7, 0.5],\n",
       "        [4.8, 3.4, 1.9, 0.2],\n",
       "        [5. , 3. , 1.6, 0.2],\n",
       "        [5. , 3.4, 1.6, 0.4],\n",
       "        [5.2, 3.5, 1.5, 0.2],\n",
       "        [5.2, 3.4, 1.4, 0.2],\n",
       "        [4.7, 3.2, 1.6, 0.2],\n",
       "        [4.8, 3.1, 1.6, 0.2],\n",
       "        [5.4, 3.4, 1.5, 0.4],\n",
       "        [5.2, 4.1, 1.5, 0.1],\n",
       "        [5.5, 4.2, 1.4, 0.2],\n",
       "        [4.9, 3.1, 1.5, 0.2],\n",
       "        [5. , 3.2, 1.2, 0.2],\n",
       "        [5.5, 3.5, 1.3, 0.2],\n",
       "        [4.9, 3.6, 1.4, 0.1],\n",
       "        [4.4, 3. , 1.3, 0.2],\n",
       "        [5.1, 3.4, 1.5, 0.2],\n",
       "        [5. , 3.5, 1.3, 0.3],\n",
       "        [4.5, 2.3, 1.3, 0.3],\n",
       "        [4.4, 3.2, 1.3, 0.2],\n",
       "        [5. , 3.5, 1.6, 0.6],\n",
       "        [5.1, 3.8, 1.9, 0.4],\n",
       "        [4.8, 3. , 1.4, 0.3],\n",
       "        [5.1, 3.8, 1.6, 0.2],\n",
       "        [4.6, 3.2, 1.4, 0.2],\n",
       "        [5.3, 3.7, 1.5, 0.2],\n",
       "        [5. , 3.3, 1.4, 0.2],\n",
       "        [7. , 3.2, 4.7, 1.4],\n",
       "        [6.4, 3.2, 4.5, 1.5],\n",
       "        [6.9, 3.1, 4.9, 1.5],\n",
       "        [5.5, 2.3, 4. , 1.3],\n",
       "        [6.5, 2.8, 4.6, 1.5],\n",
       "        [5.7, 2.8, 4.5, 1.3],\n",
       "        [6.3, 3.3, 4.7, 1.6],\n",
       "        [4.9, 2.4, 3.3, 1. ],\n",
       "        [6.6, 2.9, 4.6, 1.3],\n",
       "        [5.2, 2.7, 3.9, 1.4],\n",
       "        [5. , 2. , 3.5, 1. ],\n",
       "        [5.9, 3. , 4.2, 1.5],\n",
       "        [6. , 2.2, 4. , 1. ],\n",
       "        [6.1, 2.9, 4.7, 1.4],\n",
       "        [5.6, 2.9, 3.6, 1.3],\n",
       "        [6.7, 3.1, 4.4, 1.4],\n",
       "        [5.6, 3. , 4.5, 1.5],\n",
       "        [5.8, 2.7, 4.1, 1. ],\n",
       "        [6.2, 2.2, 4.5, 1.5],\n",
       "        [5.6, 2.5, 3.9, 1.1],\n",
       "        [5.9, 3.2, 4.8, 1.8],\n",
       "        [6.1, 2.8, 4. , 1.3],\n",
       "        [6.3, 2.5, 4.9, 1.5],\n",
       "        [6.1, 2.8, 4.7, 1.2],\n",
       "        [6.4, 2.9, 4.3, 1.3],\n",
       "        [6.6, 3. , 4.4, 1.4],\n",
       "        [6.8, 2.8, 4.8, 1.4],\n",
       "        [6.7, 3. , 5. , 1.7],\n",
       "        [6. , 2.9, 4.5, 1.5],\n",
       "        [5.7, 2.6, 3.5, 1. ],\n",
       "        [5.5, 2.4, 3.8, 1.1],\n",
       "        [5.5, 2.4, 3.7, 1. ],\n",
       "        [5.8, 2.7, 3.9, 1.2],\n",
       "        [6. , 2.7, 5.1, 1.6],\n",
       "        [5.4, 3. , 4.5, 1.5],\n",
       "        [6. , 3.4, 4.5, 1.6],\n",
       "        [6.7, 3.1, 4.7, 1.5],\n",
       "        [6.3, 2.3, 4.4, 1.3],\n",
       "        [5.6, 3. , 4.1, 1.3],\n",
       "        [5.5, 2.5, 4. , 1.3],\n",
       "        [5.5, 2.6, 4.4, 1.2],\n",
       "        [6.1, 3. , 4.6, 1.4],\n",
       "        [5.8, 2.6, 4. , 1.2],\n",
       "        [5. , 2.3, 3.3, 1. ],\n",
       "        [5.6, 2.7, 4.2, 1.3],\n",
       "        [5.7, 3. , 4.2, 1.2],\n",
       "        [5.7, 2.9, 4.2, 1.3],\n",
       "        [6.2, 2.9, 4.3, 1.3],\n",
       "        [5.1, 2.5, 3. , 1.1],\n",
       "        [5.7, 2.8, 4.1, 1.3],\n",
       "        [6.3, 3.3, 6. , 2.5],\n",
       "        [5.8, 2.7, 5.1, 1.9],\n",
       "        [7.1, 3. , 5.9, 2.1],\n",
       "        [6.3, 2.9, 5.6, 1.8],\n",
       "        [6.5, 3. , 5.8, 2.2],\n",
       "        [7.6, 3. , 6.6, 2.1],\n",
       "        [4.9, 2.5, 4.5, 1.7],\n",
       "        [7.3, 2.9, 6.3, 1.8],\n",
       "        [6.7, 2.5, 5.8, 1.8],\n",
       "        [7.2, 3.6, 6.1, 2.5],\n",
       "        [6.5, 3.2, 5.1, 2. ],\n",
       "        [6.4, 2.7, 5.3, 1.9],\n",
       "        [6.8, 3. , 5.5, 2.1],\n",
       "        [5.7, 2.5, 5. , 2. ],\n",
       "        [5.8, 2.8, 5.1, 2.4],\n",
       "        [6.4, 3.2, 5.3, 2.3],\n",
       "        [6.5, 3. , 5.5, 1.8],\n",
       "        [7.7, 3.8, 6.7, 2.2],\n",
       "        [7.7, 2.6, 6.9, 2.3],\n",
       "        [6. , 2.2, 5. , 1.5],\n",
       "        [6.9, 3.2, 5.7, 2.3],\n",
       "        [5.6, 2.8, 4.9, 2. ],\n",
       "        [7.7, 2.8, 6.7, 2. ],\n",
       "        [6.3, 2.7, 4.9, 1.8],\n",
       "        [6.7, 3.3, 5.7, 2.1],\n",
       "        [7.2, 3.2, 6. , 1.8],\n",
       "        [6.2, 2.8, 4.8, 1.8],\n",
       "        [6.1, 3. , 4.9, 1.8],\n",
       "        [6.4, 2.8, 5.6, 2.1],\n",
       "        [7.2, 3. , 5.8, 1.6],\n",
       "        [7.4, 2.8, 6.1, 1.9],\n",
       "        [7.9, 3.8, 6.4, 2. ],\n",
       "        [6.4, 2.8, 5.6, 2.2],\n",
       "        [6.3, 2.8, 5.1, 1.5],\n",
       "        [6.1, 2.6, 5.6, 1.4],\n",
       "        [7.7, 3. , 6.1, 2.3],\n",
       "        [6.3, 3.4, 5.6, 2.4],\n",
       "        [6.4, 3.1, 5.5, 1.8],\n",
       "        [6. , 3. , 4.8, 1.8],\n",
       "        [6.9, 3.1, 5.4, 2.1],\n",
       "        [6.7, 3.1, 5.6, 2.4],\n",
       "        [6.9, 3.1, 5.1, 2.3],\n",
       "        [5.8, 2.7, 5.1, 1.9],\n",
       "        [6.8, 3.2, 5.9, 2.3],\n",
       "        [6.7, 3.3, 5.7, 2.5],\n",
       "        [6.7, 3. , 5.2, 2.3],\n",
       "        [6.3, 2.5, 5. , 1.9],\n",
       "        [6.5, 3. , 5.2, 2. ],\n",
       "        [6.2, 3.4, 5.4, 2.3],\n",
       "        [5.9, 3. , 5.1, 1.8]]),\n",
       " 'target': array([0, 0, 0, 0, 0, 0, 0, 0, 0, 0, 0, 0, 0, 0, 0, 0, 0, 0, 0, 0, 0, 0,\n",
       "        0, 0, 0, 0, 0, 0, 0, 0, 0, 0, 0, 0, 0, 0, 0, 0, 0, 0, 0, 0, 0, 0,\n",
       "        0, 0, 0, 0, 0, 0, 1, 1, 1, 1, 1, 1, 1, 1, 1, 1, 1, 1, 1, 1, 1, 1,\n",
       "        1, 1, 1, 1, 1, 1, 1, 1, 1, 1, 1, 1, 1, 1, 1, 1, 1, 1, 1, 1, 1, 1,\n",
       "        1, 1, 1, 1, 1, 1, 1, 1, 1, 1, 1, 1, 2, 2, 2, 2, 2, 2, 2, 2, 2, 2,\n",
       "        2, 2, 2, 2, 2, 2, 2, 2, 2, 2, 2, 2, 2, 2, 2, 2, 2, 2, 2, 2, 2, 2,\n",
       "        2, 2, 2, 2, 2, 2, 2, 2, 2, 2, 2, 2, 2, 2, 2, 2, 2, 2]),\n",
       " 'frame': None,\n",
       " 'target_names': array(['setosa', 'versicolor', 'virginica'], dtype='<U10'),\n",
       " 'DESCR': '.. _iris_dataset:\\n\\nIris plants dataset\\n--------------------\\n\\n**Data Set Characteristics:**\\n\\n    :Number of Instances: 150 (50 in each of three classes)\\n    :Number of Attributes: 4 numeric, predictive attributes and the class\\n    :Attribute Information:\\n        - sepal length in cm\\n        - sepal width in cm\\n        - petal length in cm\\n        - petal width in cm\\n        - class:\\n                - Iris-Setosa\\n                - Iris-Versicolour\\n                - Iris-Virginica\\n                \\n    :Summary Statistics:\\n\\n    ============== ==== ==== ======= ===== ====================\\n                    Min  Max   Mean    SD   Class Correlation\\n    ============== ==== ==== ======= ===== ====================\\n    sepal length:   4.3  7.9   5.84   0.83    0.7826\\n    sepal width:    2.0  4.4   3.05   0.43   -0.4194\\n    petal length:   1.0  6.9   3.76   1.76    0.9490  (high!)\\n    petal width:    0.1  2.5   1.20   0.76    0.9565  (high!)\\n    ============== ==== ==== ======= ===== ====================\\n\\n    :Missing Attribute Values: None\\n    :Class Distribution: 33.3% for each of 3 classes.\\n    :Creator: R.A. Fisher\\n    :Donor: Michael Marshall (MARSHALL%PLU@io.arc.nasa.gov)\\n    :Date: July, 1988\\n\\nThe famous Iris database, first used by Sir R.A. Fisher. The dataset is taken\\nfrom Fisher\\'s paper. Note that it\\'s the same as in R, but not as in the UCI\\nMachine Learning Repository, which has two wrong data points.\\n\\nThis is perhaps the best known database to be found in the\\npattern recognition literature.  Fisher\\'s paper is a classic in the field and\\nis referenced frequently to this day.  (See Duda & Hart, for example.)  The\\ndata set contains 3 classes of 50 instances each, where each class refers to a\\ntype of iris plant.  One class is linearly separable from the other 2; the\\nlatter are NOT linearly separable from each other.\\n\\n.. topic:: References\\n\\n   - Fisher, R.A. \"The use of multiple measurements in taxonomic problems\"\\n     Annual Eugenics, 7, Part II, 179-188 (1936); also in \"Contributions to\\n     Mathematical Statistics\" (John Wiley, NY, 1950).\\n   - Duda, R.O., & Hart, P.E. (1973) Pattern Classification and Scene Analysis.\\n     (Q327.D83) John Wiley & Sons.  ISBN 0-471-22361-1.  See page 218.\\n   - Dasarathy, B.V. (1980) \"Nosing Around the Neighborhood: A New System\\n     Structure and Classification Rule for Recognition in Partially Exposed\\n     Environments\".  IEEE Transactions on Pattern Analysis and Machine\\n     Intelligence, Vol. PAMI-2, No. 1, 67-71.\\n   - Gates, G.W. (1972) \"The Reduced Nearest Neighbor Rule\".  IEEE Transactions\\n     on Information Theory, May 1972, 431-433.\\n   - See also: 1988 MLC Proceedings, 54-64.  Cheeseman et al\"s AUTOCLASS II\\n     conceptual clustering system finds 3 classes in the data.\\n   - Many, many more ...',\n",
       " 'feature_names': ['sepal length (cm)',\n",
       "  'sepal width (cm)',\n",
       "  'petal length (cm)',\n",
       "  'petal width (cm)'],\n",
       " 'filename': 'iris.csv',\n",
       " 'data_module': 'sklearn.datasets.data'}"
      ]
     },
     "execution_count": 9,
     "metadata": {},
     "output_type": "execute_result"
    }
   ],
   "source": [
    "iris"
   ]
  },
  {
   "cell_type": "code",
   "execution_count": 8,
   "id": "ed1d33ff-ad15-492c-bb53-7aae6b0e0a31",
   "metadata": {},
   "outputs": [
    {
     "data": {
      "text/plain": [
       "sklearn.utils.Bunch"
      ]
     },
     "execution_count": 8,
     "metadata": {},
     "output_type": "execute_result"
    }
   ],
   "source": [
    "type(iris) # 딕셔너리가 아니네 ?"
   ]
  },
  {
   "cell_type": "code",
   "execution_count": 11,
   "id": "3482d398-f072-4c7d-bfb0-7a78efed7b8b",
   "metadata": {},
   "outputs": [
    {
     "data": {
      "text/plain": [
       "dict_keys(['data', 'target', 'frame', 'target_names', 'DESCR', 'feature_names', 'filename', 'data_module'])"
      ]
     },
     "execution_count": 11,
     "metadata": {},
     "output_type": "execute_result"
    }
   ],
   "source": [
    "iris.keys()"
   ]
  },
  {
   "cell_type": "code",
   "execution_count": 14,
   "id": "283be28d-8139-410f-b3ed-1e2b56c4a7d5",
   "metadata": {
    "collapsed": true,
    "jupyter": {
     "outputs_hidden": true
    },
    "tags": []
   },
   "outputs": [
    {
     "data": {
      "text/plain": [
       "array([[5.1, 3.5, 1.4, 0.2],\n",
       "       [4.9, 3. , 1.4, 0.2],\n",
       "       [4.7, 3.2, 1.3, 0.2],\n",
       "       [4.6, 3.1, 1.5, 0.2],\n",
       "       [5. , 3.6, 1.4, 0.2],\n",
       "       [5.4, 3.9, 1.7, 0.4],\n",
       "       [4.6, 3.4, 1.4, 0.3],\n",
       "       [5. , 3.4, 1.5, 0.2],\n",
       "       [4.4, 2.9, 1.4, 0.2],\n",
       "       [4.9, 3.1, 1.5, 0.1],\n",
       "       [5.4, 3.7, 1.5, 0.2],\n",
       "       [4.8, 3.4, 1.6, 0.2],\n",
       "       [4.8, 3. , 1.4, 0.1],\n",
       "       [4.3, 3. , 1.1, 0.1],\n",
       "       [5.8, 4. , 1.2, 0.2],\n",
       "       [5.7, 4.4, 1.5, 0.4],\n",
       "       [5.4, 3.9, 1.3, 0.4],\n",
       "       [5.1, 3.5, 1.4, 0.3],\n",
       "       [5.7, 3.8, 1.7, 0.3],\n",
       "       [5.1, 3.8, 1.5, 0.3],\n",
       "       [5.4, 3.4, 1.7, 0.2],\n",
       "       [5.1, 3.7, 1.5, 0.4],\n",
       "       [4.6, 3.6, 1. , 0.2],\n",
       "       [5.1, 3.3, 1.7, 0.5],\n",
       "       [4.8, 3.4, 1.9, 0.2],\n",
       "       [5. , 3. , 1.6, 0.2],\n",
       "       [5. , 3.4, 1.6, 0.4],\n",
       "       [5.2, 3.5, 1.5, 0.2],\n",
       "       [5.2, 3.4, 1.4, 0.2],\n",
       "       [4.7, 3.2, 1.6, 0.2],\n",
       "       [4.8, 3.1, 1.6, 0.2],\n",
       "       [5.4, 3.4, 1.5, 0.4],\n",
       "       [5.2, 4.1, 1.5, 0.1],\n",
       "       [5.5, 4.2, 1.4, 0.2],\n",
       "       [4.9, 3.1, 1.5, 0.2],\n",
       "       [5. , 3.2, 1.2, 0.2],\n",
       "       [5.5, 3.5, 1.3, 0.2],\n",
       "       [4.9, 3.6, 1.4, 0.1],\n",
       "       [4.4, 3. , 1.3, 0.2],\n",
       "       [5.1, 3.4, 1.5, 0.2],\n",
       "       [5. , 3.5, 1.3, 0.3],\n",
       "       [4.5, 2.3, 1.3, 0.3],\n",
       "       [4.4, 3.2, 1.3, 0.2],\n",
       "       [5. , 3.5, 1.6, 0.6],\n",
       "       [5.1, 3.8, 1.9, 0.4],\n",
       "       [4.8, 3. , 1.4, 0.3],\n",
       "       [5.1, 3.8, 1.6, 0.2],\n",
       "       [4.6, 3.2, 1.4, 0.2],\n",
       "       [5.3, 3.7, 1.5, 0.2],\n",
       "       [5. , 3.3, 1.4, 0.2],\n",
       "       [7. , 3.2, 4.7, 1.4],\n",
       "       [6.4, 3.2, 4.5, 1.5],\n",
       "       [6.9, 3.1, 4.9, 1.5],\n",
       "       [5.5, 2.3, 4. , 1.3],\n",
       "       [6.5, 2.8, 4.6, 1.5],\n",
       "       [5.7, 2.8, 4.5, 1.3],\n",
       "       [6.3, 3.3, 4.7, 1.6],\n",
       "       [4.9, 2.4, 3.3, 1. ],\n",
       "       [6.6, 2.9, 4.6, 1.3],\n",
       "       [5.2, 2.7, 3.9, 1.4],\n",
       "       [5. , 2. , 3.5, 1. ],\n",
       "       [5.9, 3. , 4.2, 1.5],\n",
       "       [6. , 2.2, 4. , 1. ],\n",
       "       [6.1, 2.9, 4.7, 1.4],\n",
       "       [5.6, 2.9, 3.6, 1.3],\n",
       "       [6.7, 3.1, 4.4, 1.4],\n",
       "       [5.6, 3. , 4.5, 1.5],\n",
       "       [5.8, 2.7, 4.1, 1. ],\n",
       "       [6.2, 2.2, 4.5, 1.5],\n",
       "       [5.6, 2.5, 3.9, 1.1],\n",
       "       [5.9, 3.2, 4.8, 1.8],\n",
       "       [6.1, 2.8, 4. , 1.3],\n",
       "       [6.3, 2.5, 4.9, 1.5],\n",
       "       [6.1, 2.8, 4.7, 1.2],\n",
       "       [6.4, 2.9, 4.3, 1.3],\n",
       "       [6.6, 3. , 4.4, 1.4],\n",
       "       [6.8, 2.8, 4.8, 1.4],\n",
       "       [6.7, 3. , 5. , 1.7],\n",
       "       [6. , 2.9, 4.5, 1.5],\n",
       "       [5.7, 2.6, 3.5, 1. ],\n",
       "       [5.5, 2.4, 3.8, 1.1],\n",
       "       [5.5, 2.4, 3.7, 1. ],\n",
       "       [5.8, 2.7, 3.9, 1.2],\n",
       "       [6. , 2.7, 5.1, 1.6],\n",
       "       [5.4, 3. , 4.5, 1.5],\n",
       "       [6. , 3.4, 4.5, 1.6],\n",
       "       [6.7, 3.1, 4.7, 1.5],\n",
       "       [6.3, 2.3, 4.4, 1.3],\n",
       "       [5.6, 3. , 4.1, 1.3],\n",
       "       [5.5, 2.5, 4. , 1.3],\n",
       "       [5.5, 2.6, 4.4, 1.2],\n",
       "       [6.1, 3. , 4.6, 1.4],\n",
       "       [5.8, 2.6, 4. , 1.2],\n",
       "       [5. , 2.3, 3.3, 1. ],\n",
       "       [5.6, 2.7, 4.2, 1.3],\n",
       "       [5.7, 3. , 4.2, 1.2],\n",
       "       [5.7, 2.9, 4.2, 1.3],\n",
       "       [6.2, 2.9, 4.3, 1.3],\n",
       "       [5.1, 2.5, 3. , 1.1],\n",
       "       [5.7, 2.8, 4.1, 1.3],\n",
       "       [6.3, 3.3, 6. , 2.5],\n",
       "       [5.8, 2.7, 5.1, 1.9],\n",
       "       [7.1, 3. , 5.9, 2.1],\n",
       "       [6.3, 2.9, 5.6, 1.8],\n",
       "       [6.5, 3. , 5.8, 2.2],\n",
       "       [7.6, 3. , 6.6, 2.1],\n",
       "       [4.9, 2.5, 4.5, 1.7],\n",
       "       [7.3, 2.9, 6.3, 1.8],\n",
       "       [6.7, 2.5, 5.8, 1.8],\n",
       "       [7.2, 3.6, 6.1, 2.5],\n",
       "       [6.5, 3.2, 5.1, 2. ],\n",
       "       [6.4, 2.7, 5.3, 1.9],\n",
       "       [6.8, 3. , 5.5, 2.1],\n",
       "       [5.7, 2.5, 5. , 2. ],\n",
       "       [5.8, 2.8, 5.1, 2.4],\n",
       "       [6.4, 3.2, 5.3, 2.3],\n",
       "       [6.5, 3. , 5.5, 1.8],\n",
       "       [7.7, 3.8, 6.7, 2.2],\n",
       "       [7.7, 2.6, 6.9, 2.3],\n",
       "       [6. , 2.2, 5. , 1.5],\n",
       "       [6.9, 3.2, 5.7, 2.3],\n",
       "       [5.6, 2.8, 4.9, 2. ],\n",
       "       [7.7, 2.8, 6.7, 2. ],\n",
       "       [6.3, 2.7, 4.9, 1.8],\n",
       "       [6.7, 3.3, 5.7, 2.1],\n",
       "       [7.2, 3.2, 6. , 1.8],\n",
       "       [6.2, 2.8, 4.8, 1.8],\n",
       "       [6.1, 3. , 4.9, 1.8],\n",
       "       [6.4, 2.8, 5.6, 2.1],\n",
       "       [7.2, 3. , 5.8, 1.6],\n",
       "       [7.4, 2.8, 6.1, 1.9],\n",
       "       [7.9, 3.8, 6.4, 2. ],\n",
       "       [6.4, 2.8, 5.6, 2.2],\n",
       "       [6.3, 2.8, 5.1, 1.5],\n",
       "       [6.1, 2.6, 5.6, 1.4],\n",
       "       [7.7, 3. , 6.1, 2.3],\n",
       "       [6.3, 3.4, 5.6, 2.4],\n",
       "       [6.4, 3.1, 5.5, 1.8],\n",
       "       [6. , 3. , 4.8, 1.8],\n",
       "       [6.9, 3.1, 5.4, 2.1],\n",
       "       [6.7, 3.1, 5.6, 2.4],\n",
       "       [6.9, 3.1, 5.1, 2.3],\n",
       "       [5.8, 2.7, 5.1, 1.9],\n",
       "       [6.8, 3.2, 5.9, 2.3],\n",
       "       [6.7, 3.3, 5.7, 2.5],\n",
       "       [6.7, 3. , 5.2, 2.3],\n",
       "       [6.3, 2.5, 5. , 1.9],\n",
       "       [6.5, 3. , 5.2, 2. ],\n",
       "       [6.2, 3.4, 5.4, 2.3],\n",
       "       [5.9, 3. , 5.1, 1.8]])"
      ]
     },
     "execution_count": 14,
     "metadata": {},
     "output_type": "execute_result"
    }
   ],
   "source": [
    "iris.data # 네 개의 값으로 이루어진 2차원 배열"
   ]
  },
  {
   "cell_type": "code",
   "execution_count": 20,
   "id": "ce7a1398-1cb4-405a-9246-4741870e468b",
   "metadata": {},
   "outputs": [
    {
     "data": {
      "text/plain": [
       "(150, 4)"
      ]
     },
     "execution_count": 20,
     "metadata": {},
     "output_type": "execute_result"
    }
   ],
   "source": [
    "iris.data.shape # 150행 4열"
   ]
  },
  {
   "cell_type": "code",
   "execution_count": 15,
   "id": "03c9cc9d-b1ef-40af-a9d9-cda6429932a3",
   "metadata": {},
   "outputs": [
    {
     "data": {
      "text/plain": [
       "array([0, 0, 0, 0, 0, 0, 0, 0, 0, 0, 0, 0, 0, 0, 0, 0, 0, 0, 0, 0, 0, 0,\n",
       "       0, 0, 0, 0, 0, 0, 0, 0, 0, 0, 0, 0, 0, 0, 0, 0, 0, 0, 0, 0, 0, 0,\n",
       "       0, 0, 0, 0, 0, 0, 1, 1, 1, 1, 1, 1, 1, 1, 1, 1, 1, 1, 1, 1, 1, 1,\n",
       "       1, 1, 1, 1, 1, 1, 1, 1, 1, 1, 1, 1, 1, 1, 1, 1, 1, 1, 1, 1, 1, 1,\n",
       "       1, 1, 1, 1, 1, 1, 1, 1, 1, 1, 1, 1, 2, 2, 2, 2, 2, 2, 2, 2, 2, 2,\n",
       "       2, 2, 2, 2, 2, 2, 2, 2, 2, 2, 2, 2, 2, 2, 2, 2, 2, 2, 2, 2, 2, 2,\n",
       "       2, 2, 2, 2, 2, 2, 2, 2, 2, 2, 2, 2, 2, 2, 2, 2, 2, 2])"
      ]
     },
     "execution_count": 15,
     "metadata": {},
     "output_type": "execute_result"
    }
   ],
   "source": [
    "iris.target # 입력값, 출력값은 숫자로만 가능"
   ]
  },
  {
   "cell_type": "code",
   "execution_count": 18,
   "id": "95b7f470-f67c-4c12-b789-7698f045adaa",
   "metadata": {},
   "outputs": [
    {
     "data": {
      "text/plain": [
       "array(['setosa', 'versicolor', 'virginica'], dtype='<U10')"
      ]
     },
     "execution_count": 18,
     "metadata": {},
     "output_type": "execute_result"
    }
   ],
   "source": [
    "iris.target_names"
   ]
  },
  {
   "cell_type": "code",
   "execution_count": 19,
   "id": "5fe02fae-6b1e-42c0-84a9-2221decdb535",
   "metadata": {},
   "outputs": [
    {
     "data": {
      "text/plain": [
       "['sepal length (cm)',\n",
       " 'sepal width (cm)',\n",
       " 'petal length (cm)',\n",
       " 'petal width (cm)']"
      ]
     },
     "execution_count": 19,
     "metadata": {},
     "output_type": "execute_result"
    }
   ],
   "source": [
    "iris.feature_names # 컬럼"
   ]
  },
  {
   "cell_type": "code",
   "execution_count": 22,
   "id": "df8f03cb-525e-42db-95cc-712c69ba585c",
   "metadata": {},
   "outputs": [],
   "source": [
    "iris_df = pd.DataFrame(data=iris.data, columns=iris.feature_names)"
   ]
  },
  {
   "cell_type": "code",
   "execution_count": 23,
   "id": "bd41f2c2-a31b-4e0f-a564-e94b0df0fcc6",
   "metadata": {},
   "outputs": [],
   "source": [
    "iris_df['label'] = iris.target"
   ]
  },
  {
   "cell_type": "code",
   "execution_count": 33,
   "id": "cbd584dd-f968-479c-9d13-10ee114195cb",
   "metadata": {},
   "outputs": [
    {
     "data": {
      "text/html": [
       "<div>\n",
       "<style scoped>\n",
       "    .dataframe tbody tr th:only-of-type {\n",
       "        vertical-align: middle;\n",
       "    }\n",
       "\n",
       "    .dataframe tbody tr th {\n",
       "        vertical-align: top;\n",
       "    }\n",
       "\n",
       "    .dataframe thead th {\n",
       "        text-align: right;\n",
       "    }\n",
       "</style>\n",
       "<table border=\"1\" class=\"dataframe\">\n",
       "  <thead>\n",
       "    <tr style=\"text-align: right;\">\n",
       "      <th></th>\n",
       "      <th>sepal length (cm)</th>\n",
       "      <th>sepal width (cm)</th>\n",
       "      <th>petal length (cm)</th>\n",
       "      <th>petal width (cm)</th>\n",
       "      <th>label</th>\n",
       "    </tr>\n",
       "  </thead>\n",
       "  <tbody>\n",
       "    <tr>\n",
       "      <th>127</th>\n",
       "      <td>6.1</td>\n",
       "      <td>3.0</td>\n",
       "      <td>4.9</td>\n",
       "      <td>1.8</td>\n",
       "      <td>2</td>\n",
       "    </tr>\n",
       "    <tr>\n",
       "      <th>54</th>\n",
       "      <td>6.5</td>\n",
       "      <td>2.8</td>\n",
       "      <td>4.6</td>\n",
       "      <td>1.5</td>\n",
       "      <td>1</td>\n",
       "    </tr>\n",
       "    <tr>\n",
       "      <th>63</th>\n",
       "      <td>6.1</td>\n",
       "      <td>2.9</td>\n",
       "      <td>4.7</td>\n",
       "      <td>1.4</td>\n",
       "      <td>1</td>\n",
       "    </tr>\n",
       "    <tr>\n",
       "      <th>50</th>\n",
       "      <td>7.0</td>\n",
       "      <td>3.2</td>\n",
       "      <td>4.7</td>\n",
       "      <td>1.4</td>\n",
       "      <td>1</td>\n",
       "    </tr>\n",
       "    <tr>\n",
       "      <th>136</th>\n",
       "      <td>6.3</td>\n",
       "      <td>3.4</td>\n",
       "      <td>5.6</td>\n",
       "      <td>2.4</td>\n",
       "      <td>2</td>\n",
       "    </tr>\n",
       "  </tbody>\n",
       "</table>\n",
       "</div>"
      ],
      "text/plain": [
       "     sepal length (cm)  sepal width (cm)  petal length (cm)  petal width (cm)  \\\n",
       "127                6.1               3.0                4.9               1.8   \n",
       "54                 6.5               2.8                4.6               1.5   \n",
       "63                 6.1               2.9                4.7               1.4   \n",
       "50                 7.0               3.2                4.7               1.4   \n",
       "136                6.3               3.4                5.6               2.4   \n",
       "\n",
       "     label  \n",
       "127      2  \n",
       "54       1  \n",
       "63       1  \n",
       "50       1  \n",
       "136      2  "
      ]
     },
     "execution_count": 33,
     "metadata": {},
     "output_type": "execute_result"
    }
   ],
   "source": [
    "iris_df.sample(5)"
   ]
  },
  {
   "cell_type": "code",
   "execution_count": 34,
   "id": "fdd49041-a1a0-41f7-add8-c831c8c173fc",
   "metadata": {},
   "outputs": [
    {
     "data": {
      "text/plain": [
       "0    50\n",
       "1    50\n",
       "2    50\n",
       "Name: label, dtype: int64"
      ]
     },
     "execution_count": 34,
     "metadata": {},
     "output_type": "execute_result"
    }
   ],
   "source": [
    "iris_df['label'].value_counts()"
   ]
  },
  {
   "cell_type": "code",
   "execution_count": 35,
   "id": "e37815e3-8562-4d89-a94f-ee799950fb75",
   "metadata": {
    "collapsed": true,
    "jupyter": {
     "outputs_hidden": true
    },
    "tags": []
   },
   "outputs": [
    {
     "data": {
      "text/plain": [
       "[array([[5.1, 3.5, 1.4, 0.2],\n",
       "        [6.9, 3.2, 5.7, 2.3],\n",
       "        [7.7, 2.8, 6.7, 2. ],\n",
       "        [5. , 3.3, 1.4, 0.2],\n",
       "        [4.7, 3.2, 1.6, 0.2],\n",
       "        [7.7, 2.6, 6.9, 2.3],\n",
       "        [7.6, 3. , 6.6, 2.1],\n",
       "        [6.7, 3. , 5. , 1.7],\n",
       "        [5.5, 3.5, 1.3, 0.2],\n",
       "        [6. , 2.7, 5.1, 1.6],\n",
       "        [5. , 2. , 3.5, 1. ],\n",
       "        [7.9, 3.8, 6.4, 2. ],\n",
       "        [4.6, 3.4, 1.4, 0.3],\n",
       "        [6.9, 3.1, 4.9, 1.5],\n",
       "        [6.5, 3. , 5.8, 2.2],\n",
       "        [5.1, 2.5, 3. , 1.1],\n",
       "        [6.6, 2.9, 4.6, 1.3],\n",
       "        [5. , 3.2, 1.2, 0.2],\n",
       "        [7.4, 2.8, 6.1, 1.9],\n",
       "        [5.1, 3.8, 1.6, 0.2],\n",
       "        [6.8, 3.2, 5.9, 2.3],\n",
       "        [6.9, 3.1, 5.1, 2.3],\n",
       "        [5.9, 3. , 4.2, 1.5],\n",
       "        [4.9, 2.5, 4.5, 1.7],\n",
       "        [6.7, 3.1, 4.7, 1.5],\n",
       "        [4.4, 3.2, 1.3, 0.2],\n",
       "        [5.4, 3.4, 1.7, 0.2],\n",
       "        [6.5, 2.8, 4.6, 1.5],\n",
       "        [5.1, 3.7, 1.5, 0.4],\n",
       "        [5. , 3.4, 1.6, 0.4],\n",
       "        [6.1, 2.6, 5.6, 1.4],\n",
       "        [6.5, 3. , 5.5, 1.8],\n",
       "        [6.3, 2.5, 5. , 1.9],\n",
       "        [5.2, 3.4, 1.4, 0.2],\n",
       "        [5. , 3.6, 1.4, 0.2],\n",
       "        [5.4, 3.4, 1.5, 0.4],\n",
       "        [6.1, 2.8, 4.7, 1.2],\n",
       "        [5.1, 3.4, 1.5, 0.2],\n",
       "        [5.6, 3. , 4.1, 1.3],\n",
       "        [6.3, 2.7, 4.9, 1.8],\n",
       "        [7.1, 3. , 5.9, 2.1],\n",
       "        [5.5, 2.6, 4.4, 1.2],\n",
       "        [5. , 2.3, 3.3, 1. ],\n",
       "        [6.3, 3.4, 5.6, 2.4],\n",
       "        [5.8, 2.7, 5.1, 1.9],\n",
       "        [5.5, 4.2, 1.4, 0.2],\n",
       "        [5.6, 2.7, 4.2, 1.3],\n",
       "        [6.2, 2.9, 4.3, 1.3],\n",
       "        [6.7, 2.5, 5.8, 1.8],\n",
       "        [6.1, 3. , 4.9, 1.8],\n",
       "        [6.7, 3.1, 5.6, 2.4],\n",
       "        [4.6, 3.2, 1.4, 0.2],\n",
       "        [7.7, 3.8, 6.7, 2.2],\n",
       "        [5.3, 3.7, 1.5, 0.2],\n",
       "        [5.7, 3.8, 1.7, 0.3],\n",
       "        [5. , 3.5, 1.6, 0.6],\n",
       "        [5.1, 3.5, 1.4, 0.3],\n",
       "        [6.3, 3.3, 6. , 2.5],\n",
       "        [4.4, 3. , 1.3, 0.2],\n",
       "        [5. , 3. , 1.6, 0.2],\n",
       "        [5.1, 3.8, 1.5, 0.3],\n",
       "        [6. , 2.9, 4.5, 1.5],\n",
       "        [5.2, 4.1, 1.5, 0.1],\n",
       "        [6.3, 2.5, 4.9, 1.5],\n",
       "        [6.2, 2.2, 4.5, 1.5],\n",
       "        [6.4, 3.1, 5.5, 1.8],\n",
       "        [6.3, 2.3, 4.4, 1.3],\n",
       "        [4.4, 2.9, 1.4, 0.2],\n",
       "        [4.6, 3.1, 1.5, 0.2],\n",
       "        [4.9, 3. , 1.4, 0.2],\n",
       "        [5.2, 2.7, 3.9, 1.4],\n",
       "        [5.7, 2.8, 4.1, 1.3],\n",
       "        [7. , 3.2, 4.7, 1.4],\n",
       "        [6.7, 3.3, 5.7, 2.5],\n",
       "        [5.5, 2.3, 4. , 1.3],\n",
       "        [5.4, 3.9, 1.7, 0.4],\n",
       "        [5.7, 3. , 4.2, 1.2],\n",
       "        [6.4, 3.2, 5.3, 2.3],\n",
       "        [5. , 3.5, 1.3, 0.3],\n",
       "        [6.2, 2.8, 4.8, 1.8],\n",
       "        [6.7, 3.3, 5.7, 2.1],\n",
       "        [5.7, 2.8, 4.5, 1.3],\n",
       "        [5. , 3.4, 1.5, 0.2],\n",
       "        [5.8, 4. , 1.2, 0.2],\n",
       "        [5.1, 3.8, 1.9, 0.4],\n",
       "        [5.6, 2.8, 4.9, 2. ],\n",
       "        [4.9, 2.4, 3.3, 1. ],\n",
       "        [5.4, 3.7, 1.5, 0.2],\n",
       "        [7.3, 2.9, 6.3, 1.8],\n",
       "        [5.5, 2.5, 4. , 1.3],\n",
       "        [7.7, 3. , 6.1, 2.3],\n",
       "        [5.2, 3.5, 1.5, 0.2],\n",
       "        [5.1, 3.3, 1.7, 0.5],\n",
       "        [5.7, 2.9, 4.2, 1.3],\n",
       "        [5.7, 2.6, 3.5, 1. ],\n",
       "        [6. , 3. , 4.8, 1.8],\n",
       "        [5.6, 2.9, 3.6, 1.3],\n",
       "        [6.4, 2.8, 5.6, 2.1],\n",
       "        [5.8, 2.8, 5.1, 2.4],\n",
       "        [5.9, 3.2, 4.8, 1.8],\n",
       "        [5.8, 2.7, 4.1, 1. ],\n",
       "        [6.2, 3.4, 5.4, 2.3],\n",
       "        [6.5, 3. , 5.2, 2. ],\n",
       "        [4.9, 3.6, 1.4, 0.1],\n",
       "        [6.4, 2.9, 4.3, 1.3],\n",
       "        [7.2, 3. , 5.8, 1.6],\n",
       "        [4.9, 3.1, 1.5, 0.2],\n",
       "        [6.4, 2.8, 5.6, 2.2],\n",
       "        [7.2, 3.2, 6. , 1.8],\n",
       "        [4.8, 3. , 1.4, 0.3],\n",
       "        [5.8, 2.6, 4. , 1.2],\n",
       "        [7.2, 3.6, 6.1, 2.5],\n",
       "        [4.8, 3.4, 1.9, 0.2],\n",
       "        [5.8, 2.7, 3.9, 1.2],\n",
       "        [6.1, 2.8, 4. , 1.3],\n",
       "        [6.8, 2.8, 4.8, 1.4],\n",
       "        [4.3, 3. , 1.1, 0.1],\n",
       "        [5.5, 2.4, 3.7, 1. ],\n",
       "        [6.1, 3. , 4.6, 1.4],\n",
       "        [5.5, 2.4, 3.8, 1.1]]),\n",
       " array([[6.8, 3. , 5.5, 2.1],\n",
       "        [6.7, 3. , 5.2, 2.3],\n",
       "        [6.3, 2.8, 5.1, 1.5],\n",
       "        [6.3, 3.3, 4.7, 1.6],\n",
       "        [6.4, 2.7, 5.3, 1.9],\n",
       "        [4.9, 3.1, 1.5, 0.1],\n",
       "        [6.7, 3.1, 4.4, 1.4],\n",
       "        [5.7, 4.4, 1.5, 0.4],\n",
       "        [4.8, 3.1, 1.6, 0.2],\n",
       "        [6.1, 2.9, 4.7, 1.4],\n",
       "        [6. , 2.2, 5. , 1.5],\n",
       "        [6. , 2.2, 4. , 1. ],\n",
       "        [5.4, 3. , 4.5, 1.5],\n",
       "        [5.7, 2.5, 5. , 2. ],\n",
       "        [6.9, 3.1, 5.4, 2.1],\n",
       "        [4.5, 2.3, 1.3, 0.3],\n",
       "        [6.3, 2.9, 5.6, 1.8],\n",
       "        [5.6, 3. , 4.5, 1.5],\n",
       "        [6.5, 3.2, 5.1, 2. ],\n",
       "        [5.8, 2.7, 5.1, 1.9],\n",
       "        [5.6, 2.5, 3.9, 1.1],\n",
       "        [4.7, 3.2, 1.3, 0.2],\n",
       "        [4.6, 3.6, 1. , 0.2],\n",
       "        [6.4, 3.2, 4.5, 1.5],\n",
       "        [4.8, 3. , 1.4, 0.1],\n",
       "        [4.8, 3.4, 1.6, 0.2],\n",
       "        [5.9, 3. , 5.1, 1.8],\n",
       "        [6.6, 3. , 4.4, 1.4],\n",
       "        [5.4, 3.9, 1.3, 0.4],\n",
       "        [6. , 3.4, 4.5, 1.6]]),\n",
       " array([0, 2, 2, 0, 0, 2, 2, 1, 0, 1, 1, 2, 0, 1, 2, 1, 1, 0, 2, 0, 2, 2,\n",
       "        1, 2, 1, 0, 0, 1, 0, 0, 2, 2, 2, 0, 0, 0, 1, 0, 1, 2, 2, 1, 1, 2,\n",
       "        2, 0, 1, 1, 2, 2, 2, 0, 2, 0, 0, 0, 0, 2, 0, 0, 0, 1, 0, 1, 1, 2,\n",
       "        1, 0, 0, 0, 1, 1, 1, 2, 1, 0, 1, 2, 0, 2, 2, 1, 0, 0, 0, 2, 1, 0,\n",
       "        2, 1, 2, 0, 0, 1, 1, 2, 1, 2, 2, 1, 1, 2, 2, 0, 1, 2, 0, 2, 2, 0,\n",
       "        1, 2, 0, 1, 1, 1, 0, 1, 1, 1]),\n",
       " array([2, 2, 2, 1, 2, 0, 1, 0, 0, 1, 2, 1, 1, 2, 2, 0, 2, 1, 2, 2, 1, 0,\n",
       "        0, 1, 0, 0, 2, 1, 0, 1])]"
      ]
     },
     "execution_count": 35,
     "metadata": {},
     "output_type": "execute_result"
    }
   ],
   "source": [
    "train_test_split(iris.data, iris.target, test_size=0.2, random_state=11) # *array를 여러개 넣을 수 있다. data:입력값, target:출력값, test_size는 나누는 비율\n",
    "# 리스트 안에 array가 4개 있다. iris.data를 8:2로, iris.target을 8:2로 나눔."
   ]
  },
  {
   "cell_type": "code",
   "execution_count": 90,
   "id": "6d6f544c-791f-4f3c-8bdf-f39104fcb0fd",
   "metadata": {},
   "outputs": [],
   "source": [
    "# 4개의 array를 차례대로 변수에 저장한다. 통상 입력값을 대문자 X, 결과값을 소문자 y로 쓴다.\n",
    "X_train, X_test, y_train, y_test = train_test_split(iris.data,\n",
    "                                                    iris.target,\n",
    "                                                    test_size=0.2,)\n",
    "                                                    # random_state=11)"
   ]
  },
  {
   "cell_type": "code",
   "execution_count": 91,
   "id": "9544cb93-4aa8-422d-b767-a87d98854b6e",
   "metadata": {},
   "outputs": [],
   "source": [
    "dt_clf = DecisionTreeClassifier() #random_state=11"
   ]
  },
  {
   "cell_type": "code",
   "execution_count": 92,
   "id": "88e11244-004b-471d-9e00-180d3c162fb7",
   "metadata": {},
   "outputs": [
    {
     "data": {
      "text/plain": [
       "DecisionTreeClassifier()"
      ]
     },
     "execution_count": 92,
     "metadata": {},
     "output_type": "execute_result"
    }
   ],
   "source": [
    "# 학습 수행\n",
    "# 분기되는 조건을 찾는다.\n",
    "dt_clf.fit(X_train, y_train)"
   ]
  },
  {
   "cell_type": "code",
   "execution_count": 93,
   "id": "7d9c27e1-7d1d-41b1-b5f8-4b0cb6f18af4",
   "metadata": {},
   "outputs": [],
   "source": [
    "# 학습이 완료된 DEcisionTreeClassifier 객체에서 테스트 데이터 세트로 예측 수행\n",
    "y_pred = dt_clf.predict(X_test)"
   ]
  },
  {
   "cell_type": "code",
   "execution_count": 94,
   "id": "c16b4f09-59b6-4308-9e28-5d6022d017f8",
   "metadata": {},
   "outputs": [
    {
     "data": {
      "text/plain": [
       "array([1, 1, 2, 1, 2, 0, 1, 1, 1, 1, 2, 1, 0, 1, 1, 1, 2, 0, 2, 0, 0, 2,\n",
       "       0, 0, 1, 1, 0, 2, 1, 2])"
      ]
     },
     "execution_count": 94,
     "metadata": {},
     "output_type": "execute_result"
    }
   ],
   "source": [
    "y_test # 예측과 정답(y)을 비교해봄."
   ]
  },
  {
   "cell_type": "code",
   "execution_count": 95,
   "id": "3abd4394-2419-40f6-a5ff-6ec9d31bb2b1",
   "metadata": {},
   "outputs": [],
   "source": [
    "from sklearn.metrics import accuracy_score # 정확도 측정"
   ]
  },
  {
   "cell_type": "code",
   "execution_count": 96,
   "id": "89fa4e21-802e-4563-b919-de9d6b2fd91d",
   "metadata": {},
   "outputs": [
    {
     "data": {
      "text/plain": [
       "0.9333333333333333"
      ]
     },
     "execution_count": 96,
     "metadata": {},
     "output_type": "execute_result"
    }
   ],
   "source": [
    "accuracy_score(y_test, y_pred)"
   ]
  },
  {
   "cell_type": "code",
   "execution_count": 66,
   "id": "78956f3e-777c-4eb3-956c-1455e732e896",
   "metadata": {},
   "outputs": [
    {
     "data": {
      "text/plain": [
       "array([0])"
      ]
     },
     "execution_count": 66,
     "metadata": {},
     "output_type": "execute_result"
    }
   ],
   "source": [
    "# 모델에 넣을 때 전처리를 해야하고 숫자여야하고 NaN값이 없어야한다.\n",
    "# 입력값을 넣고 결과값 받기\n",
    "dt_clf.predict([[5.4, 3.3, 1.7, 1.2]]) # 학습한 데이터형태와 같은 형태의 데이터가 들어가야한다\n",
    "# 품종이 virsicolor (array([1]))"
   ]
  },
  {
   "cell_type": "code",
   "execution_count": 67,
   "id": "c2b668bc-a4f5-4c05-a0a5-cd2405bd63e9",
   "metadata": {},
   "outputs": [],
   "source": [
    "# 무엇을 예측하고 싶은지 - 데이터 수집 - 전처리 - 학습/테스트 데이터 분류 - 학습 - 학습된 모델로 테스트 데이터 예측, 검증 - 사용"
   ]
  },
  {
   "cell_type": "code",
   "execution_count": 68,
   "id": "68ab01bd-9bcb-43fd-b398-fe745a5cbbad",
   "metadata": {},
   "outputs": [],
   "source": [
    "# 학습은 fit(), 예측은 predict(), 변경은 transform()"
   ]
  },
  {
   "cell_type": "code",
   "execution_count": 76,
   "id": "d92af5b0-0224-453f-82d4-7e6073a68dca",
   "metadata": {},
   "outputs": [
    {
     "data": {
      "text/plain": [
       "1.0"
      ]
     },
     "execution_count": 76,
     "metadata": {},
     "output_type": "execute_result"
    }
   ],
   "source": [
    "dt_clf = DecisionTreeClassifier(random_state=11)\n",
    "dt_clf.fit(iris.data, iris.target)\n",
    "pred = dt_clf.predict(iris.data)\n",
    "accuracy_score(iris.target, pred)\n",
    "# 학습 데이터 세트를 기반으로 예측했기 때문에 1.0이 나온다.\n",
    "# 학습용, 검증용 데이터의 분리가 이루어져야한다."
   ]
  },
  {
   "cell_type": "code",
   "execution_count": null,
   "id": "031ab332-7005-42a7-af65-ab1b8e0a66ba",
   "metadata": {},
   "outputs": [],
   "source": [
    "# 같은 데이터라고 하더라도 어떻게 분리가 되어있느냐에 따라 결과가 달라질 수 있다.\n",
    "# 교차검증,\n",
    "# 과소적합 : 데이터의 수집이 덜되어 학습이 덜 된 경우\n",
    "# 과대적합 : 데이터에 대해서 학습이 너무 디테일하게 되어있는 경우 -> 오히려 성능이 떨어지는 문제가 발생한다.\n",
    "# 딥러닝에서 문제가 발생하진 않는가 ?"
   ]
  },
  {
   "cell_type": "code",
   "execution_count": null,
   "id": "72612174-91c8-4c94-b3bb-7aaa8aca1c60",
   "metadata": {},
   "outputs": [],
   "source": []
  }
 ],
 "metadata": {
  "kernelspec": {
   "display_name": "Python 3 (ipykernel)",
   "language": "python",
   "name": "python3"
  },
  "language_info": {
   "codemirror_mode": {
    "name": "ipython",
    "version": 3
   },
   "file_extension": ".py",
   "mimetype": "text/x-python",
   "name": "python",
   "nbconvert_exporter": "python",
   "pygments_lexer": "ipython3",
   "version": "3.9.12"
  }
 },
 "nbformat": 4,
 "nbformat_minor": 5
}
