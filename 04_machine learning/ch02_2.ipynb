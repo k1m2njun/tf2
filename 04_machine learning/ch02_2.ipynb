{
 "cells": [
  {
   "cell_type": "code",
   "execution_count": null,
   "id": "bbbe3db3-baf6-4cd8-b872-1b4e0eb5441f",
   "metadata": {},
   "outputs": [],
   "source": [
    "# p.100"
   ]
  },
  {
   "cell_type": "code",
   "execution_count": 1,
   "id": "de21b367-1987-4f1c-a929-cd703d57e39a",
   "metadata": {},
   "outputs": [],
   "source": [
    "import numpy as np\n",
    "from sklearn.tree import DecisionTreeClassifier\n",
    "from sklearn.metrics import accuracy_score\n",
    "from sklearn.model_selection import KFold, StratifiedKFold\n",
    "from sklearn.datasets import load_iris"
   ]
  },
  {
   "cell_type": "code",
   "execution_count": 2,
   "id": "033f0e6f-f24a-4510-ad77-16173b1ee056",
   "metadata": {
    "collapsed": true,
    "jupyter": {
     "outputs_hidden": true
    },
    "tags": []
   },
   "outputs": [
    {
     "data": {
      "text/plain": [
       "{'data': array([[5.1, 3.5, 1.4, 0.2],\n",
       "        [4.9, 3. , 1.4, 0.2],\n",
       "        [4.7, 3.2, 1.3, 0.2],\n",
       "        [4.6, 3.1, 1.5, 0.2],\n",
       "        [5. , 3.6, 1.4, 0.2],\n",
       "        [5.4, 3.9, 1.7, 0.4],\n",
       "        [4.6, 3.4, 1.4, 0.3],\n",
       "        [5. , 3.4, 1.5, 0.2],\n",
       "        [4.4, 2.9, 1.4, 0.2],\n",
       "        [4.9, 3.1, 1.5, 0.1],\n",
       "        [5.4, 3.7, 1.5, 0.2],\n",
       "        [4.8, 3.4, 1.6, 0.2],\n",
       "        [4.8, 3. , 1.4, 0.1],\n",
       "        [4.3, 3. , 1.1, 0.1],\n",
       "        [5.8, 4. , 1.2, 0.2],\n",
       "        [5.7, 4.4, 1.5, 0.4],\n",
       "        [5.4, 3.9, 1.3, 0.4],\n",
       "        [5.1, 3.5, 1.4, 0.3],\n",
       "        [5.7, 3.8, 1.7, 0.3],\n",
       "        [5.1, 3.8, 1.5, 0.3],\n",
       "        [5.4, 3.4, 1.7, 0.2],\n",
       "        [5.1, 3.7, 1.5, 0.4],\n",
       "        [4.6, 3.6, 1. , 0.2],\n",
       "        [5.1, 3.3, 1.7, 0.5],\n",
       "        [4.8, 3.4, 1.9, 0.2],\n",
       "        [5. , 3. , 1.6, 0.2],\n",
       "        [5. , 3.4, 1.6, 0.4],\n",
       "        [5.2, 3.5, 1.5, 0.2],\n",
       "        [5.2, 3.4, 1.4, 0.2],\n",
       "        [4.7, 3.2, 1.6, 0.2],\n",
       "        [4.8, 3.1, 1.6, 0.2],\n",
       "        [5.4, 3.4, 1.5, 0.4],\n",
       "        [5.2, 4.1, 1.5, 0.1],\n",
       "        [5.5, 4.2, 1.4, 0.2],\n",
       "        [4.9, 3.1, 1.5, 0.2],\n",
       "        [5. , 3.2, 1.2, 0.2],\n",
       "        [5.5, 3.5, 1.3, 0.2],\n",
       "        [4.9, 3.6, 1.4, 0.1],\n",
       "        [4.4, 3. , 1.3, 0.2],\n",
       "        [5.1, 3.4, 1.5, 0.2],\n",
       "        [5. , 3.5, 1.3, 0.3],\n",
       "        [4.5, 2.3, 1.3, 0.3],\n",
       "        [4.4, 3.2, 1.3, 0.2],\n",
       "        [5. , 3.5, 1.6, 0.6],\n",
       "        [5.1, 3.8, 1.9, 0.4],\n",
       "        [4.8, 3. , 1.4, 0.3],\n",
       "        [5.1, 3.8, 1.6, 0.2],\n",
       "        [4.6, 3.2, 1.4, 0.2],\n",
       "        [5.3, 3.7, 1.5, 0.2],\n",
       "        [5. , 3.3, 1.4, 0.2],\n",
       "        [7. , 3.2, 4.7, 1.4],\n",
       "        [6.4, 3.2, 4.5, 1.5],\n",
       "        [6.9, 3.1, 4.9, 1.5],\n",
       "        [5.5, 2.3, 4. , 1.3],\n",
       "        [6.5, 2.8, 4.6, 1.5],\n",
       "        [5.7, 2.8, 4.5, 1.3],\n",
       "        [6.3, 3.3, 4.7, 1.6],\n",
       "        [4.9, 2.4, 3.3, 1. ],\n",
       "        [6.6, 2.9, 4.6, 1.3],\n",
       "        [5.2, 2.7, 3.9, 1.4],\n",
       "        [5. , 2. , 3.5, 1. ],\n",
       "        [5.9, 3. , 4.2, 1.5],\n",
       "        [6. , 2.2, 4. , 1. ],\n",
       "        [6.1, 2.9, 4.7, 1.4],\n",
       "        [5.6, 2.9, 3.6, 1.3],\n",
       "        [6.7, 3.1, 4.4, 1.4],\n",
       "        [5.6, 3. , 4.5, 1.5],\n",
       "        [5.8, 2.7, 4.1, 1. ],\n",
       "        [6.2, 2.2, 4.5, 1.5],\n",
       "        [5.6, 2.5, 3.9, 1.1],\n",
       "        [5.9, 3.2, 4.8, 1.8],\n",
       "        [6.1, 2.8, 4. , 1.3],\n",
       "        [6.3, 2.5, 4.9, 1.5],\n",
       "        [6.1, 2.8, 4.7, 1.2],\n",
       "        [6.4, 2.9, 4.3, 1.3],\n",
       "        [6.6, 3. , 4.4, 1.4],\n",
       "        [6.8, 2.8, 4.8, 1.4],\n",
       "        [6.7, 3. , 5. , 1.7],\n",
       "        [6. , 2.9, 4.5, 1.5],\n",
       "        [5.7, 2.6, 3.5, 1. ],\n",
       "        [5.5, 2.4, 3.8, 1.1],\n",
       "        [5.5, 2.4, 3.7, 1. ],\n",
       "        [5.8, 2.7, 3.9, 1.2],\n",
       "        [6. , 2.7, 5.1, 1.6],\n",
       "        [5.4, 3. , 4.5, 1.5],\n",
       "        [6. , 3.4, 4.5, 1.6],\n",
       "        [6.7, 3.1, 4.7, 1.5],\n",
       "        [6.3, 2.3, 4.4, 1.3],\n",
       "        [5.6, 3. , 4.1, 1.3],\n",
       "        [5.5, 2.5, 4. , 1.3],\n",
       "        [5.5, 2.6, 4.4, 1.2],\n",
       "        [6.1, 3. , 4.6, 1.4],\n",
       "        [5.8, 2.6, 4. , 1.2],\n",
       "        [5. , 2.3, 3.3, 1. ],\n",
       "        [5.6, 2.7, 4.2, 1.3],\n",
       "        [5.7, 3. , 4.2, 1.2],\n",
       "        [5.7, 2.9, 4.2, 1.3],\n",
       "        [6.2, 2.9, 4.3, 1.3],\n",
       "        [5.1, 2.5, 3. , 1.1],\n",
       "        [5.7, 2.8, 4.1, 1.3],\n",
       "        [6.3, 3.3, 6. , 2.5],\n",
       "        [5.8, 2.7, 5.1, 1.9],\n",
       "        [7.1, 3. , 5.9, 2.1],\n",
       "        [6.3, 2.9, 5.6, 1.8],\n",
       "        [6.5, 3. , 5.8, 2.2],\n",
       "        [7.6, 3. , 6.6, 2.1],\n",
       "        [4.9, 2.5, 4.5, 1.7],\n",
       "        [7.3, 2.9, 6.3, 1.8],\n",
       "        [6.7, 2.5, 5.8, 1.8],\n",
       "        [7.2, 3.6, 6.1, 2.5],\n",
       "        [6.5, 3.2, 5.1, 2. ],\n",
       "        [6.4, 2.7, 5.3, 1.9],\n",
       "        [6.8, 3. , 5.5, 2.1],\n",
       "        [5.7, 2.5, 5. , 2. ],\n",
       "        [5.8, 2.8, 5.1, 2.4],\n",
       "        [6.4, 3.2, 5.3, 2.3],\n",
       "        [6.5, 3. , 5.5, 1.8],\n",
       "        [7.7, 3.8, 6.7, 2.2],\n",
       "        [7.7, 2.6, 6.9, 2.3],\n",
       "        [6. , 2.2, 5. , 1.5],\n",
       "        [6.9, 3.2, 5.7, 2.3],\n",
       "        [5.6, 2.8, 4.9, 2. ],\n",
       "        [7.7, 2.8, 6.7, 2. ],\n",
       "        [6.3, 2.7, 4.9, 1.8],\n",
       "        [6.7, 3.3, 5.7, 2.1],\n",
       "        [7.2, 3.2, 6. , 1.8],\n",
       "        [6.2, 2.8, 4.8, 1.8],\n",
       "        [6.1, 3. , 4.9, 1.8],\n",
       "        [6.4, 2.8, 5.6, 2.1],\n",
       "        [7.2, 3. , 5.8, 1.6],\n",
       "        [7.4, 2.8, 6.1, 1.9],\n",
       "        [7.9, 3.8, 6.4, 2. ],\n",
       "        [6.4, 2.8, 5.6, 2.2],\n",
       "        [6.3, 2.8, 5.1, 1.5],\n",
       "        [6.1, 2.6, 5.6, 1.4],\n",
       "        [7.7, 3. , 6.1, 2.3],\n",
       "        [6.3, 3.4, 5.6, 2.4],\n",
       "        [6.4, 3.1, 5.5, 1.8],\n",
       "        [6. , 3. , 4.8, 1.8],\n",
       "        [6.9, 3.1, 5.4, 2.1],\n",
       "        [6.7, 3.1, 5.6, 2.4],\n",
       "        [6.9, 3.1, 5.1, 2.3],\n",
       "        [5.8, 2.7, 5.1, 1.9],\n",
       "        [6.8, 3.2, 5.9, 2.3],\n",
       "        [6.7, 3.3, 5.7, 2.5],\n",
       "        [6.7, 3. , 5.2, 2.3],\n",
       "        [6.3, 2.5, 5. , 1.9],\n",
       "        [6.5, 3. , 5.2, 2. ],\n",
       "        [6.2, 3.4, 5.4, 2.3],\n",
       "        [5.9, 3. , 5.1, 1.8]]),\n",
       " 'target': array([0, 0, 0, 0, 0, 0, 0, 0, 0, 0, 0, 0, 0, 0, 0, 0, 0, 0, 0, 0, 0, 0,\n",
       "        0, 0, 0, 0, 0, 0, 0, 0, 0, 0, 0, 0, 0, 0, 0, 0, 0, 0, 0, 0, 0, 0,\n",
       "        0, 0, 0, 0, 0, 0, 1, 1, 1, 1, 1, 1, 1, 1, 1, 1, 1, 1, 1, 1, 1, 1,\n",
       "        1, 1, 1, 1, 1, 1, 1, 1, 1, 1, 1, 1, 1, 1, 1, 1, 1, 1, 1, 1, 1, 1,\n",
       "        1, 1, 1, 1, 1, 1, 1, 1, 1, 1, 1, 1, 2, 2, 2, 2, 2, 2, 2, 2, 2, 2,\n",
       "        2, 2, 2, 2, 2, 2, 2, 2, 2, 2, 2, 2, 2, 2, 2, 2, 2, 2, 2, 2, 2, 2,\n",
       "        2, 2, 2, 2, 2, 2, 2, 2, 2, 2, 2, 2, 2, 2, 2, 2, 2, 2]),\n",
       " 'frame': None,\n",
       " 'target_names': array(['setosa', 'versicolor', 'virginica'], dtype='<U10'),\n",
       " 'DESCR': '.. _iris_dataset:\\n\\nIris plants dataset\\n--------------------\\n\\n**Data Set Characteristics:**\\n\\n    :Number of Instances: 150 (50 in each of three classes)\\n    :Number of Attributes: 4 numeric, predictive attributes and the class\\n    :Attribute Information:\\n        - sepal length in cm\\n        - sepal width in cm\\n        - petal length in cm\\n        - petal width in cm\\n        - class:\\n                - Iris-Setosa\\n                - Iris-Versicolour\\n                - Iris-Virginica\\n                \\n    :Summary Statistics:\\n\\n    ============== ==== ==== ======= ===== ====================\\n                    Min  Max   Mean    SD   Class Correlation\\n    ============== ==== ==== ======= ===== ====================\\n    sepal length:   4.3  7.9   5.84   0.83    0.7826\\n    sepal width:    2.0  4.4   3.05   0.43   -0.4194\\n    petal length:   1.0  6.9   3.76   1.76    0.9490  (high!)\\n    petal width:    0.1  2.5   1.20   0.76    0.9565  (high!)\\n    ============== ==== ==== ======= ===== ====================\\n\\n    :Missing Attribute Values: None\\n    :Class Distribution: 33.3% for each of 3 classes.\\n    :Creator: R.A. Fisher\\n    :Donor: Michael Marshall (MARSHALL%PLU@io.arc.nasa.gov)\\n    :Date: July, 1988\\n\\nThe famous Iris database, first used by Sir R.A. Fisher. The dataset is taken\\nfrom Fisher\\'s paper. Note that it\\'s the same as in R, but not as in the UCI\\nMachine Learning Repository, which has two wrong data points.\\n\\nThis is perhaps the best known database to be found in the\\npattern recognition literature.  Fisher\\'s paper is a classic in the field and\\nis referenced frequently to this day.  (See Duda & Hart, for example.)  The\\ndata set contains 3 classes of 50 instances each, where each class refers to a\\ntype of iris plant.  One class is linearly separable from the other 2; the\\nlatter are NOT linearly separable from each other.\\n\\n.. topic:: References\\n\\n   - Fisher, R.A. \"The use of multiple measurements in taxonomic problems\"\\n     Annual Eugenics, 7, Part II, 179-188 (1936); also in \"Contributions to\\n     Mathematical Statistics\" (John Wiley, NY, 1950).\\n   - Duda, R.O., & Hart, P.E. (1973) Pattern Classification and Scene Analysis.\\n     (Q327.D83) John Wiley & Sons.  ISBN 0-471-22361-1.  See page 218.\\n   - Dasarathy, B.V. (1980) \"Nosing Around the Neighborhood: A New System\\n     Structure and Classification Rule for Recognition in Partially Exposed\\n     Environments\".  IEEE Transactions on Pattern Analysis and Machine\\n     Intelligence, Vol. PAMI-2, No. 1, 67-71.\\n   - Gates, G.W. (1972) \"The Reduced Nearest Neighbor Rule\".  IEEE Transactions\\n     on Information Theory, May 1972, 431-433.\\n   - See also: 1988 MLC Proceedings, 54-64.  Cheeseman et al\"s AUTOCLASS II\\n     conceptual clustering system finds 3 classes in the data.\\n   - Many, many more ...',\n",
       " 'feature_names': ['sepal length (cm)',\n",
       "  'sepal width (cm)',\n",
       "  'petal length (cm)',\n",
       "  'petal width (cm)'],\n",
       " 'filename': 'iris.csv',\n",
       " 'data_module': 'sklearn.datasets.data'}"
      ]
     },
     "execution_count": 2,
     "metadata": {},
     "output_type": "execute_result"
    }
   ],
   "source": [
    "iris = load_iris()\n",
    "iris"
   ]
  },
  {
   "cell_type": "code",
   "execution_count": 3,
   "id": "adf0d8c8-8129-4acc-acb7-c05b0497a1b6",
   "metadata": {},
   "outputs": [],
   "source": [
    "dt_clf = DecisionTreeClassifier(random_state=156)"
   ]
  },
  {
   "cell_type": "code",
   "execution_count": 12,
   "id": "2f1ae98b-5564-4fa3-b5f4-4099379011b3",
   "metadata": {},
   "outputs": [
    {
     "data": {
      "text/plain": [
       "30"
      ]
     },
     "execution_count": 12,
     "metadata": {},
     "output_type": "execute_result"
    }
   ],
   "source": [
    "len(X_test)"
   ]
  },
  {
   "cell_type": "code",
   "execution_count": 9,
   "id": "140ae525-446f-43a8-be2d-5f3bfc158051",
   "metadata": {
    "tags": []
   },
   "outputs": [
    {
     "name": "stdout",
     "output_type": "stream",
     "text": [
      "1차 교차검증\n",
      "학습데이터크기:(120, 4), 검증데이터크기:(30, 4), 정확도:1.0\n",
      "학습데이터 인덱스:[0 0 0 0 0 0 0 0 0 0 0 0 0 0 0 0 0 0 0 0 1 1 1 1 1 1 1 1 1 1 1 1 1 1 1 1 1\n",
      " 1 1 1 1 1 1 1 1 1 1 1 1 1 1 1 1 1 1 1 1 1 1 1 1 1 1 1 1 1 1 1 1 1 2 2 2 2\n",
      " 2 2 2 2 2 2 2 2 2 2 2 2 2 2 2 2 2 2 2 2 2 2 2 2 2 2 2 2 2 2 2 2 2 2 2 2 2\n",
      " 2 2 2 2 2 2 2 2 2]\n",
      "검증데이터:[0 0 0 0 0 0 0 0 0 0 0 0 0 0 0 0 0 0 0 0 0 0 0 0 0 0 0 0 0 0]\n",
      "2차 교차검증\n",
      "학습데이터크기:(120, 4), 검증데이터크기:(30, 4), 정확도:0.9666666666666667\n",
      "학습데이터 인덱스:[0 0 0 0 0 0 0 0 0 0 0 0 0 0 0 0 0 0 0 0 0 0 0 0 0 0 0 0 0 0 1 1 1 1 1 1 1\n",
      " 1 1 1 1 1 1 1 1 1 1 1 1 1 1 1 1 1 1 1 1 1 1 1 1 1 1 1 1 1 1 1 1 1 2 2 2 2\n",
      " 2 2 2 2 2 2 2 2 2 2 2 2 2 2 2 2 2 2 2 2 2 2 2 2 2 2 2 2 2 2 2 2 2 2 2 2 2\n",
      " 2 2 2 2 2 2 2 2 2]\n",
      "검증데이터:[0 0 0 0 0 0 0 0 0 0 0 0 0 0 0 0 0 0 0 0 1 1 1 1 1 1 1 1 1 1]\n",
      "3차 교차검증\n",
      "학습데이터크기:(120, 4), 검증데이터크기:(30, 4), 정확도:0.8666666666666667\n",
      "학습데이터 인덱스:[0 0 0 0 0 0 0 0 0 0 0 0 0 0 0 0 0 0 0 0 0 0 0 0 0 0 0 0 0 0 0 0 0 0 0 0 0\n",
      " 0 0 0 0 0 0 0 0 0 0 0 0 0 1 1 1 1 1 1 1 1 1 1 1 1 1 1 1 1 1 1 1 1 2 2 2 2\n",
      " 2 2 2 2 2 2 2 2 2 2 2 2 2 2 2 2 2 2 2 2 2 2 2 2 2 2 2 2 2 2 2 2 2 2 2 2 2\n",
      " 2 2 2 2 2 2 2 2 2]\n",
      "검증데이터:[1 1 1 1 1 1 1 1 1 1 1 1 1 1 1 1 1 1 1 1 1 1 1 1 1 1 1 1 1 1]\n",
      "4차 교차검증\n",
      "학습데이터크기:(120, 4), 검증데이터크기:(30, 4), 정확도:0.9333333333333333\n",
      "학습데이터 인덱스:[0 0 0 0 0 0 0 0 0 0 0 0 0 0 0 0 0 0 0 0 0 0 0 0 0 0 0 0 0 0 0 0 0 0 0 0 0\n",
      " 0 0 0 0 0 0 0 0 0 0 0 0 0 1 1 1 1 1 1 1 1 1 1 1 1 1 1 1 1 1 1 1 1 1 1 1 1\n",
      " 1 1 1 1 1 1 1 1 1 1 1 1 1 1 1 1 2 2 2 2 2 2 2 2 2 2 2 2 2 2 2 2 2 2 2 2 2\n",
      " 2 2 2 2 2 2 2 2 2]\n",
      "검증데이터:[1 1 1 1 1 1 1 1 1 1 2 2 2 2 2 2 2 2 2 2 2 2 2 2 2 2 2 2 2 2]\n",
      "5차 교차검증\n",
      "학습데이터크기:(120, 4), 검증데이터크기:(30, 4), 정확도:0.7333333333333333\n",
      "학습데이터 인덱스:[0 0 0 0 0 0 0 0 0 0 0 0 0 0 0 0 0 0 0 0 0 0 0 0 0 0 0 0 0 0 0 0 0 0 0 0 0\n",
      " 0 0 0 0 0 0 0 0 0 0 0 0 0 1 1 1 1 1 1 1 1 1 1 1 1 1 1 1 1 1 1 1 1 1 1 1 1\n",
      " 1 1 1 1 1 1 1 1 1 1 1 1 1 1 1 1 1 1 1 1 1 1 1 1 1 1 2 2 2 2 2 2 2 2 2 2 2\n",
      " 2 2 2 2 2 2 2 2 2]\n",
      "검증데이터:[2 2 2 2 2 2 2 2 2 2 2 2 2 2 2 2 2 2 2 2 2 2 2 2 2 2 2 2 2 2]\n",
      "평균정확도: 0.9\n"
     ]
    }
   ],
   "source": [
    "kfold = KFold(n_splits=5)\n",
    "cv_accuracy = [] # KFold 5등분하고 검증을 5번하니 그때마다 정확도가 다름. 그 정확도의 평균값을 쓸 것.\n",
    "n_iter = 0 # 몇 번 도는지 초기값\n",
    "for train_index, test_index in kfold.split(iris.data):\n",
    "    # print(train_index)\n",
    "    # print(test_index)\n",
    "    X_train, X_test = iris.data[train_index], iris.data[test_index]\n",
    "    y_train, y_test = iris.target[train_index], iris.target[test_index]\n",
    "    # print(X_train, X_test)\n",
    "    # print(y_train, y_test)\n",
    "    dt_clf.fit(X_train, y_train) #학습\n",
    "    pred = dt_clf.predict(X_test)\n",
    "    n_iter += 1\n",
    "    accuracy = accuracy_score(y_test, pred) # 답, 예측값 정확도 검증\n",
    "    cv_accuracy.append(accuracy)\n",
    "    print(f'{n_iter}차 교차검증')\n",
    "    print(f'학습데이터크기:{X_train.shape}, 검증데이터크기:{X_test.shape}, 정확도:{accuracy}')\n",
    "    print(f'학습데이터 인덱스:{y_train}')\n",
    "    print(f'검증데이터:{y_test}')\n",
    "print('평균정확도:',np.mean(cv_accuracy))"
   ]
  },
  {
   "cell_type": "code",
   "execution_count": 13,
   "id": "ca4762ea-bfd6-4621-b79d-66e119799bdf",
   "metadata": {},
   "outputs": [
    {
     "name": "stdout",
     "output_type": "stream",
     "text": [
      "1차 교차검증\n",
      "학습데이터크기:(120, 4), 검증데이터크기:(30, 4), 정확도:0.9\n",
      "학습데이터 인덱스:[  0   1   2   3   4   5   6   7   8   9  10  11  12  13  14  15  17  18\n",
      "  19  20  22  23  25  26  27  28  31  32  34  35  36  37  38  39  40  41\n",
      "  42  44  46  48  49  50  51  53  55  57  58  59  61  62  63  64  65  66\n",
      "  67  68  69  70  71  72  73  74  75  78  79  80  81  82  83  84  85  86\n",
      "  87  88  90  91  92  93  94  95  96  97  99 101 102 103 104 105 107 108\n",
      " 110 111 112 114 115 117 118 119 120 121 122 124 125 127 129 130 133 134\n",
      " 135 137 138 139 141 143 144 145 146 147 148 149]\n",
      "검증데이터:[0 0 0 0 0 0 0 0 0 1 1 1 1 1 1 1 1 2 2 2 2 2 2 2 2 2 2 2 2 2]\n",
      "2차 교차검증\n",
      "학습데이터크기:(120, 4), 검증데이터크기:(30, 4), 정확도:0.9666666666666667\n",
      "학습데이터 인덱스:[  0   1   2   3   7   9  11  12  13  14  15  16  17  19  20  21  22  23\n",
      "  24  25  26  27  29  30  31  32  33  35  36  37  38  39  40  42  43  44\n",
      "  45  46  47  48  49  50  51  52  53  54  55  56  57  58  59  60  61  62\n",
      "  63  64  65  66  67  68  69  70  71  72  73  74  76  77  78  79  80  81\n",
      "  82  83  84  86  87  88  89  91  92  93  94  95  96  97  98 100 102 105\n",
      " 106 108 109 110 111 113 114 116 117 119 123 124 126 128 129 131 132 134\n",
      " 136 137 138 139 140 141 142 143 144 145 146 148]\n",
      "검증데이터:[0 0 0 0 0 0 0 0 0 1 1 1 1 2 2 2 2 2 2 2 2 2 2 2 2 2 2 2 2 2]\n",
      "3차 교차검증\n",
      "학습데이터크기:(120, 4), 검증데이터크기:(30, 4), 정확도:0.9666666666666667\n",
      "학습데이터 인덱스:[  0   2   3   4   5   6   7   8  10  11  12  13  15  16  17  18  19  21\n",
      "  23  24  25  28  29  30  31  32  33  34  35  36  37  39  40  41  42  43\n",
      "  44  45  47  49  50  52  53  54  55  56  57  58  60  61  62  63  65  66\n",
      "  67  70  71  75  76  77  78  79  80  81  82  83  85  87  89  90  92  93\n",
      "  94  97  98  99 100 101 102 103 104 105 106 107 108 109 110 112 113 114\n",
      " 115 116 118 120 121 122 123 124 125 126 127 128 129 130 131 132 133 134\n",
      " 135 136 137 138 140 141 142 144 146 147 148 149]\n",
      "검증데이터:[0 0 0 0 0 0 0 0 0 0 1 1 1 1 1 1 1 1 1 1 1 1 1 1 2 2 2 2 2 2]\n",
      "4차 교차검증\n",
      "학습데이터크기:(120, 4), 검증데이터크기:(30, 4), 정확도:0.9666666666666667\n",
      "학습데이터 인덱스:[  0   1   2   4   5   6   7   8   9  10  11  14  15  16  18  20  21  22\n",
      "  23  24  25  26  27  28  29  30  33  34  35  36  38  39  40  41  43  45\n",
      "  46  47  48  49  50  51  52  54  56  57  59  60  61  62  64  66  68  69\n",
      "  70  72  73  74  75  76  77  79  80  82  84  85  86  87  88  89  90  91\n",
      "  92  94  95  96  98  99 100 101 103 104 106 107 109 110 111 112 113 115\n",
      " 116 117 118 119 120 121 122 123 124 125 126 127 128 129 130 131 132 133\n",
      " 135 136 138 139 140 142 143 144 145 147 148 149]\n",
      "검증데이터:[0 0 0 0 0 0 0 0 0 0 1 1 1 1 1 1 1 1 1 1 1 1 2 2 2 2 2 2 2 2]\n",
      "5차 교차검증\n",
      "학습데이터크기:(120, 4), 검증데이터크기:(30, 4), 정확도:0.9\n",
      "학습데이터 인덱스:[  1   3   4   5   6   8   9  10  12  13  14  16  17  18  19  20  21  22\n",
      "  24  26  27  28  29  30  31  32  33  34  37  38  41  42  43  44  45  46\n",
      "  47  48  51  52  53  54  55  56  58  59  60  63  64  65  67  68  69  71\n",
      "  72  73  74  75  76  77  78  81  83  84  85  86  88  89  90  91  93  95\n",
      "  96  97  98  99 100 101 102 103 104 105 106 107 108 109 111 112 113 114\n",
      " 115 116 117 118 119 120 121 122 123 125 126 127 128 130 131 132 133 134\n",
      " 135 136 137 139 140 141 142 143 145 146 147 149]\n",
      "검증데이터:[0 0 0 0 0 0 0 0 0 0 0 0 1 1 1 1 1 1 1 1 1 1 1 1 2 2 2 2 2 2]\n",
      "평균정확도: 0.9400000000000001\n"
     ]
    }
   ],
   "source": [
    "kfold = KFold(n_splits=5, shuffle=True) # 섞어서 진행하니 매번 결과가 다르다.\n",
    "cv_accuracy = [] \n",
    "n_iter = 0\n",
    "for train_index, test_index in kfold.split(iris.data):\n",
    "    # print(train_index)\n",
    "    # print(test_index)\n",
    "    X_train, X_test = iris.data[train_index], iris.data[test_index]\n",
    "    y_train, y_test = iris.target[train_index], iris.target[test_index]\n",
    "    # print(X_train, X_test)\n",
    "    # print(y_train, y_test)\n",
    "    dt_clf.fit(X_train, y_train)\n",
    "    pred = dt_clf.predict(X_test)\n",
    "    n_iter += 1\n",
    "    accuracy = accuracy_score(y_test, pred)\n",
    "    cv_accuracy.append(accuracy)\n",
    "    print(f'{n_iter}차 교차검증')\n",
    "    print(f'학습데이터크기:{X_train.shape}, 검증데이터크기:{X_test.shape}, 정확도:{accuracy}')\n",
    "    print(f'학습데이터 인덱스:{train_index}')\n",
    "    print(f'검증데이터:{y_test}')\n",
    "print('평균정확도:',np.mean(cv_accuracy))"
   ]
  },
  {
   "cell_type": "code",
   "execution_count": 102,
   "id": "d213fccd-850e-4197-a1cf-a94500c69a47",
   "metadata": {},
   "outputs": [],
   "source": [
    "# 비율 자체가 불균형이 있다면 shuffle 만으로는 해결이 안되기 때문에\n",
    "# 비율을 정해줄 수 있다."
   ]
  },
  {
   "cell_type": "code",
   "execution_count": 14,
   "id": "6acbbcce-4d7f-425c-be89-53bc65922c66",
   "metadata": {},
   "outputs": [],
   "source": [
    "import pandas as pd"
   ]
  },
  {
   "cell_type": "code",
   "execution_count": 104,
   "id": "3c73c938-a9d0-4303-aea1-5b1204af0bf3",
   "metadata": {},
   "outputs": [
    {
     "data": {
      "text/plain": [
       "0    50\n",
       "1    50\n",
       "2    50\n",
       "Name: label, dtype: int64"
      ]
     },
     "execution_count": 104,
     "metadata": {},
     "output_type": "execute_result"
    }
   ],
   "source": [
    "iris_df = pd.DataFrame(data=iris.data, columns=iris.feature_names)\n",
    "iris_df['label'] = iris.target\n",
    "iris_df['label'].value_counts()"
   ]
  },
  {
   "cell_type": "code",
   "execution_count": 109,
   "id": "05005fe0-e7c3-475d-9d1a-48e3547b0e4c",
   "metadata": {},
   "outputs": [
    {
     "name": "stdout",
     "output_type": "stream",
     "text": [
      "1차 교차검증\n",
      "1    35\n",
      "0    33\n",
      "2    32\n",
      "Name: label, dtype: int64\n",
      "2    18\n",
      "0    17\n",
      "1    15\n",
      "Name: label, dtype: int64\n",
      "2차 교차검증\n",
      "0    35\n",
      "2    34\n",
      "1    31\n",
      "Name: label, dtype: int64\n",
      "1    19\n",
      "2    16\n",
      "0    15\n",
      "Name: label, dtype: int64\n",
      "3차 교차검증\n",
      "1    34\n",
      "2    34\n",
      "0    32\n",
      "Name: label, dtype: int64\n",
      "0    18\n",
      "1    16\n",
      "2    16\n",
      "Name: label, dtype: int64\n"
     ]
    }
   ],
   "source": [
    "kfold = KFold(n_splits=3, shuffle=False)\n",
    "n_iter = 0\n",
    "for train_index, test_index in kfold.split(iris_df):\n",
    "    # print(train_index)\n",
    "    # print(test_index)\n",
    "    train = iris_df['label'].iloc[train_index]\n",
    "    test = iris_df['label'].iloc[test_index]\n",
    "    n_iter += 1\n",
    "    print(f'{n_iter}차 교차검증')\n",
    "    print(train.value_counts())\n",
    "    print(test.value_counts())"
   ]
  },
  {
   "cell_type": "code",
   "execution_count": 127,
   "id": "5c09f325-8ae0-4e2c-8c2f-dd32d363495d",
   "metadata": {},
   "outputs": [
    {
     "name": "stdout",
     "output_type": "stream",
     "text": [
      "1차 교차검증\n",
      "2    34\n",
      "0    33\n",
      "1    33\n",
      "Name: label, dtype: int64\n",
      "0    17\n",
      "1    17\n",
      "2    16\n",
      "Name: label, dtype: int64\n",
      "2차 교차검증\n",
      "1    34\n",
      "0    33\n",
      "2    33\n",
      "Name: label, dtype: int64\n",
      "0    17\n",
      "2    17\n",
      "1    16\n",
      "Name: label, dtype: int64\n",
      "3차 교차검증\n",
      "0    34\n",
      "1    33\n",
      "2    33\n",
      "Name: label, dtype: int64\n",
      "1    17\n",
      "2    17\n",
      "0    16\n",
      "Name: label, dtype: int64\n"
     ]
    }
   ],
   "source": [
    "skf = StratifiedKFold(n_splits=3, shuffle=True) # 비율을 갖게 맞춰준다. shuffle=True 로 해도 섞은다음 비율을 맞춰준다.\n",
    "n_iter = 0\n",
    "for train_index, test_index in skf.split(iris_df, iris_df['label']): # split에 타겟값도 같이 들어가야한다.\n",
    "    # print(train_index)\n",
    "    # print(test_index)\n",
    "    train = iris_df['label'].iloc[train_index]\n",
    "    test = iris_df['label'].iloc[test_index]\n",
    "    n_iter += 1\n",
    "    print(f'{n_iter}차 교차검증')\n",
    "    print(train.value_counts())\n",
    "    print(test.value_counts())"
   ]
  },
  {
   "cell_type": "code",
   "execution_count": 21,
   "id": "1a32ab17-917b-4526-9ee9-540f750ca945",
   "metadata": {},
   "outputs": [
    {
     "name": "stdout",
     "output_type": "stream",
     "text": [
      "1차 교차검증\n",
      "학습데이터크기:(120, 4), 검증데이터크기:(30, 4), 정확도:0.9333333333333333\n",
      "학습데이터 인덱스:[  1   2   3   4   5   6   7   8   9  10  11  12  14  15  16  19  20  21\n",
      "  23  24  25  26  29  30  31  33  34  35  36  37  38  39  40  41  42  43\n",
      "  44  45  47  49  50  51  53  54  55  56  57  58  59  61  62  63  64  65\n",
      "  66  67  68  69  70  71  73  74  76  77  78  81  82  83  84  85  86  87\n",
      "  88  89  90  91  92  95  96  97 100 101 102 103 105 106 107 108 109 110\n",
      " 111 113 114 115 116 117 118 120 121 123 125 126 127 128 129 130 131 132\n",
      " 133 135 136 137 138 139 140 142 143 144 145 147]\n",
      "검증데이터:[0 0 0 0 0 0 0 0 0 0 1 1 1 1 1 1 1 1 1 1 2 2 2 2 2 2 2 2 2 2]\n",
      "2차 교차검증\n",
      "학습데이터크기:(120, 4), 검증데이터크기:(30, 4), 정확도:0.9666666666666667\n",
      "학습데이터 인덱스:[  0   1   2   3   4   5   6   7   8  10  11  12  13  15  17  18  19  20\n",
      "  21  22  24  27  28  29  30  32  33  35  36  39  40  41  42  43  44  45\n",
      "  46  47  48  49  51  52  53  55  56  57  58  59  60  61  64  67  68  69\n",
      "  70  72  73  74  75  76  77  79  80  81  82  83  86  87  88  89  90  91\n",
      "  92  93  94  95  96  97  98  99 100 101 102 103 104 105 107 108 110 112\n",
      " 113 114 115 116 118 119 120 121 122 123 124 126 127 128 129 130 131 132\n",
      " 133 134 136 138 139 141 143 144 145 146 148 149]\n",
      "검증데이터:[0 0 0 0 0 0 0 0 0 0 1 1 1 1 1 1 1 1 1 1 2 2 2 2 2 2 2 2 2 2]\n",
      "3차 교차검증\n",
      "학습데이터크기:(120, 4), 검증데이터크기:(30, 4), 정확도:0.9333333333333333\n",
      "학습데이터 인덱스:[  0   1   4   5   6   7   9  11  12  13  14  16  17  18  19  20  21  22\n",
      "  23  24  25  26  27  28  29  31  32  33  34  35  36  37  38  40  42  44\n",
      "  45  46  47  48  50  51  52  53  54  55  56  57  59  60  61  62  63  65\n",
      "  66  70  71  72  73  75  76  77  78  79  80  81  82  83  84  85  86  87\n",
      "  89  90  92  93  94  97  98  99 100 102 103 104 105 106 107 108 109 110\n",
      " 111 112 113 114 116 117 119 120 122 123 124 125 127 129 130 131 133 134\n",
      " 135 136 137 140 141 142 143 145 146 147 148 149]\n",
      "검증데이터:[0 0 0 0 0 0 0 0 0 0 1 1 1 1 1 1 1 1 1 1 2 2 2 2 2 2 2 2 2 2]\n",
      "4차 교차검증\n",
      "학습데이터크기:(120, 4), 검증데이터크기:(30, 4), 정확도:0.9333333333333333\n",
      "학습데이터 인덱스:[  0   2   3   4   7   8   9  10  12  13  14  15  16  17  18  19  20  21\n",
      "  22  23  24  25  26  27  28  30  31  32  34  35  37  38  39  40  41  42\n",
      "  43  46  48  49  50  51  52  53  54  57  58  60  61  62  63  64  65  66\n",
      "  67  68  69  70  71  72  73  74  75  77  78  79  80  84  85  86  87  88\n",
      "  89  91  93  94  95  96  98  99 101 102 104 105 106 107 108 109 110 111\n",
      " 112 115 116 117 118 119 120 121 122 123 124 125 126 128 130 132 134 135\n",
      " 136 137 138 139 140 141 142 144 146 147 148 149]\n",
      "검증데이터:[0 0 0 0 0 0 0 0 0 0 1 1 1 1 1 1 1 1 1 1 2 2 2 2 2 2 2 2 2 2]\n",
      "5차 교차검증\n",
      "학습데이터크기:(120, 4), 검증데이터크기:(30, 4), 정확도:0.9333333333333333\n",
      "학습데이터 인덱스:[  0   1   2   3   5   6   8   9  10  11  13  14  15  16  17  18  22  23\n",
      "  25  26  27  28  29  30  31  32  33  34  36  37  38  39  41  43  44  45\n",
      "  46  47  48  49  50  52  54  55  56  58  59  60  62  63  64  65  66  67\n",
      "  68  69  71  72  74  75  76  78  79  80  81  82  83  84  85  88  90  91\n",
      "  92  93  94  95  96  97  98  99 100 101 103 104 106 109 111 112 113 114\n",
      " 115 117 118 119 121 122 124 125 126 127 128 129 131 132 133 134 135 137\n",
      " 138 139 140 141 142 143 144 145 146 147 148 149]\n",
      "검증데이터:[0 0 0 0 0 0 0 0 0 0 1 1 1 1 1 1 1 1 1 1 2 2 2 2 2 2 2 2 2 2]\n",
      "평균정확도: 0.9400000000000001\n"
     ]
    }
   ],
   "source": [
    "stra = StratifiedKFold(n_splits=5, shuffle=True) # 섞어서 진행하니 매번 결과가 다르다.\n",
    "cv_accuracy = [] \n",
    "n_iter = 0\n",
    "for train_index, test_index in stra.split(iris.data, iris.target):\n",
    "    X_train, X_test = iris.data[train_index], iris.data[test_index]\n",
    "    y_train, y_test = iris.target[train_index], iris.target[test_index]\n",
    "    dt_clf.fit(X_train, y_train)\n",
    "    pred = dt_clf.predict(X_test)\n",
    "    n_iter += 1\n",
    "    accuracy = accuracy_score(y_test, pred)\n",
    "    cv_accuracy.append(accuracy)\n",
    "    print(f'{n_iter}차 교차검증')\n",
    "    print(f'학습데이터크기:{X_train.shape}, 검증데이터크기:{X_test.shape}, 정확도:{accuracy}')\n",
    "    print(f'학습데이터 인덱스:{train_index}')\n",
    "    print(f'검증데이터:{y_test}')\n",
    "print('평균정확도:',np.mean(cv_accuracy))"
   ]
  },
  {
   "cell_type": "code",
   "execution_count": null,
   "id": "839fe5e3-4b80-40e1-a180-3cf770dc11cc",
   "metadata": {},
   "outputs": [],
   "source": [
    "# 과대적합 때문에 교차검증을 하는데,\n",
    "# 데이터를 나눠서 교차검증을 할 때, 데이터의 비율을 맞춰서 해야한다."
   ]
  },
  {
   "cell_type": "code",
   "execution_count": 257,
   "id": "0e2fef25-a2f0-41b6-9994-d42270f706bb",
   "metadata": {},
   "outputs": [],
   "source": [
    "# 간편한 교차 검증"
   ]
  },
  {
   "cell_type": "code",
   "execution_count": 23,
   "id": "817a0102-9800-4d98-80c8-5bee5a4d871d",
   "metadata": {},
   "outputs": [],
   "source": [
    "from sklearn.model_selection import cross_val_score"
   ]
  },
  {
   "cell_type": "code",
   "execution_count": 33,
   "id": "3e0dd370-6f51-4399-95a1-5eeed02b987e",
   "metadata": {},
   "outputs": [
    {
     "data": {
      "text/plain": [
       "array([0.98, 0.94, 0.98])"
      ]
     },
     "execution_count": 33,
     "metadata": {},
     "output_type": "execute_result"
    }
   ],
   "source": [
    "cross_val_score(dt_clf, iris.data, iris.target, scoring='accuracy', cv=3) # estimator : dt_clf = DecisionTreeClassifier(random_state=156)"
   ]
  },
  {
   "cell_type": "code",
   "execution_count": null,
   "id": "c1a8584f-9127-4007-8c74-443e81ae2f55",
   "metadata": {},
   "outputs": [],
   "source": [
    "# 3개로 나눠 2개는 학습, 1개는 검증 - 교차검증한 결과임"
   ]
  },
  {
   "cell_type": "code",
   "execution_count": null,
   "id": "02504a7d-5c5f-4d97-8925-47a4776466da",
   "metadata": {},
   "outputs": [],
   "source": [
    "# 일반, 하이퍼 파라미터\n",
    "# 하이버 파라미터 : 컴퓨터가 못찾아 내가 직접 세팅해주어야함. 이 세팅에 따라 결과가 달라진다.\n",
    "# 이것을 일일이 돌려보기엔 시간과 노력이 많이 드니\n",
    "# GridSearchCV"
   ]
  },
  {
   "cell_type": "code",
   "execution_count": 34,
   "id": "270acb89-c06b-41dc-9109-38db3673b44e",
   "metadata": {},
   "outputs": [],
   "source": [
    "from sklearn.model_selection import GridSearchCV, train_test_split"
   ]
  },
  {
   "cell_type": "code",
   "execution_count": 35,
   "id": "1af14594-e9b6-4839-bec2-3e112560b27d",
   "metadata": {
    "tags": []
   },
   "outputs": [],
   "source": [
    "iris = load_iris()"
   ]
  },
  {
   "cell_type": "code",
   "execution_count": 36,
   "id": "b2de9007-98dd-4695-873d-02a4f4151d26",
   "metadata": {},
   "outputs": [],
   "source": [
    "X_train, X_test, y_train, y_test = train_test_split(iris.data,\n",
    "                                                    iris.target,\n",
    "                                                    test_size=0.2,\n",
    "                                                    random_state=121)\n",
    "dtree = DecisionTreeClassifier()\n",
    "\n",
    "parameters = {'max_depth':[1, 2, 3],\n",
    "              'min_samples_split':[2, 3]}"
   ]
  },
  {
   "cell_type": "code",
   "execution_count": 37,
   "id": "0288aa0d-32e7-4111-b51c-42637c5e96e3",
   "metadata": {},
   "outputs": [],
   "source": [
    "grid_dtree = GridSearchCV(dtree, parameters, cv=3, refit=True) # refit : True로 하면 가장 결과가 좋은 것에 대해 다시 학습함"
   ]
  },
  {
   "cell_type": "code",
   "execution_count": 38,
   "id": "757ca323-f7ae-4222-85c3-590d847cb494",
   "metadata": {},
   "outputs": [
    {
     "data": {
      "text/plain": [
       "GridSearchCV(cv=3, estimator=DecisionTreeClassifier(),\n",
       "             param_grid={'max_depth': [1, 2, 3], 'min_samples_split': [2, 3]})"
      ]
     },
     "execution_count": 38,
     "metadata": {},
     "output_type": "execute_result"
    }
   ],
   "source": [
    "grid_dtree.fit(X_train, y_train) # 학습 3*2회 * 3개의 폴드세트 = 18회 학습"
   ]
  },
  {
   "cell_type": "code",
   "execution_count": 275,
   "id": "eaaf4796-b159-431c-a93b-f1d0c8440912",
   "metadata": {},
   "outputs": [
    {
     "data": {
      "text/plain": [
       "{'mean_fit_time': array([0.        , 0.        , 0.00033704, 0.00068593, 0.00033736,\n",
       "        0.00034618]),\n",
       " 'std_fit_time': array([0.        , 0.        , 0.00047665, 0.00048503, 0.0004771 ,\n",
       "        0.00048958]),\n",
       " 'mean_score_time': array([0.00120076, 0.        , 0.        , 0.        , 0.        ,\n",
       "        0.        ]),\n",
       " 'std_score_time': array([0.00169812, 0.        , 0.        , 0.        , 0.        ,\n",
       "        0.        ]),\n",
       " 'param_max_depth': masked_array(data=[1, 1, 2, 2, 3, 3],\n",
       "              mask=[False, False, False, False, False, False],\n",
       "        fill_value='?',\n",
       "             dtype=object),\n",
       " 'param_min_samples_split': masked_array(data=[2, 3, 2, 3, 2, 3],\n",
       "              mask=[False, False, False, False, False, False],\n",
       "        fill_value='?',\n",
       "             dtype=object),\n",
       " 'params': [{'max_depth': 1, 'min_samples_split': 2},\n",
       "  {'max_depth': 1, 'min_samples_split': 3},\n",
       "  {'max_depth': 2, 'min_samples_split': 2},\n",
       "  {'max_depth': 2, 'min_samples_split': 3},\n",
       "  {'max_depth': 3, 'min_samples_split': 2},\n",
       "  {'max_depth': 3, 'min_samples_split': 3}],\n",
       " 'split0_test_score': array([0.7  , 0.7  , 0.925, 0.925, 0.975, 0.975]),\n",
       " 'split1_test_score': array([0.7, 0.7, 1. , 1. , 1. , 1. ]),\n",
       " 'split2_test_score': array([0.7 , 0.7 , 0.95, 0.95, 0.95, 0.95]),\n",
       " 'mean_test_score': array([0.7       , 0.7       , 0.95833333, 0.95833333, 0.975     ,\n",
       "        0.975     ]),\n",
       " 'std_test_score': array([1.11022302e-16, 1.11022302e-16, 3.11804782e-02, 3.11804782e-02,\n",
       "        2.04124145e-02, 2.04124145e-02]),\n",
       " 'rank_test_score': array([5, 5, 3, 3, 1, 1])}"
      ]
     },
     "execution_count": 275,
     "metadata": {},
     "output_type": "execute_result"
    }
   ],
   "source": [
    "grid_dtree.cv_results_"
   ]
  },
  {
   "cell_type": "code",
   "execution_count": 277,
   "id": "47132b1a-443d-426a-b8d6-67aa8a1e7b80",
   "metadata": {},
   "outputs": [
    {
     "data": {
      "text/html": [
       "<div>\n",
       "<style scoped>\n",
       "    .dataframe tbody tr th:only-of-type {\n",
       "        vertical-align: middle;\n",
       "    }\n",
       "\n",
       "    .dataframe tbody tr th {\n",
       "        vertical-align: top;\n",
       "    }\n",
       "\n",
       "    .dataframe thead th {\n",
       "        text-align: right;\n",
       "    }\n",
       "</style>\n",
       "<table border=\"1\" class=\"dataframe\">\n",
       "  <thead>\n",
       "    <tr style=\"text-align: right;\">\n",
       "      <th></th>\n",
       "      <th>mean_fit_time</th>\n",
       "      <th>std_fit_time</th>\n",
       "      <th>mean_score_time</th>\n",
       "      <th>std_score_time</th>\n",
       "      <th>param_max_depth</th>\n",
       "      <th>param_min_samples_split</th>\n",
       "      <th>params</th>\n",
       "      <th>split0_test_score</th>\n",
       "      <th>split1_test_score</th>\n",
       "      <th>split2_test_score</th>\n",
       "      <th>mean_test_score</th>\n",
       "      <th>std_test_score</th>\n",
       "      <th>rank_test_score</th>\n",
       "    </tr>\n",
       "  </thead>\n",
       "  <tbody>\n",
       "    <tr>\n",
       "      <th>0</th>\n",
       "      <td>0.000000</td>\n",
       "      <td>0.000000</td>\n",
       "      <td>0.001201</td>\n",
       "      <td>0.001698</td>\n",
       "      <td>1</td>\n",
       "      <td>2</td>\n",
       "      <td>{'max_depth': 1, 'min_samples_split': 2}</td>\n",
       "      <td>0.700</td>\n",
       "      <td>0.7</td>\n",
       "      <td>0.70</td>\n",
       "      <td>0.700000</td>\n",
       "      <td>1.110223e-16</td>\n",
       "      <td>5</td>\n",
       "    </tr>\n",
       "    <tr>\n",
       "      <th>1</th>\n",
       "      <td>0.000000</td>\n",
       "      <td>0.000000</td>\n",
       "      <td>0.000000</td>\n",
       "      <td>0.000000</td>\n",
       "      <td>1</td>\n",
       "      <td>3</td>\n",
       "      <td>{'max_depth': 1, 'min_samples_split': 3}</td>\n",
       "      <td>0.700</td>\n",
       "      <td>0.7</td>\n",
       "      <td>0.70</td>\n",
       "      <td>0.700000</td>\n",
       "      <td>1.110223e-16</td>\n",
       "      <td>5</td>\n",
       "    </tr>\n",
       "    <tr>\n",
       "      <th>2</th>\n",
       "      <td>0.000337</td>\n",
       "      <td>0.000477</td>\n",
       "      <td>0.000000</td>\n",
       "      <td>0.000000</td>\n",
       "      <td>2</td>\n",
       "      <td>2</td>\n",
       "      <td>{'max_depth': 2, 'min_samples_split': 2}</td>\n",
       "      <td>0.925</td>\n",
       "      <td>1.0</td>\n",
       "      <td>0.95</td>\n",
       "      <td>0.958333</td>\n",
       "      <td>3.118048e-02</td>\n",
       "      <td>3</td>\n",
       "    </tr>\n",
       "    <tr>\n",
       "      <th>3</th>\n",
       "      <td>0.000686</td>\n",
       "      <td>0.000485</td>\n",
       "      <td>0.000000</td>\n",
       "      <td>0.000000</td>\n",
       "      <td>2</td>\n",
       "      <td>3</td>\n",
       "      <td>{'max_depth': 2, 'min_samples_split': 3}</td>\n",
       "      <td>0.925</td>\n",
       "      <td>1.0</td>\n",
       "      <td>0.95</td>\n",
       "      <td>0.958333</td>\n",
       "      <td>3.118048e-02</td>\n",
       "      <td>3</td>\n",
       "    </tr>\n",
       "    <tr>\n",
       "      <th>4</th>\n",
       "      <td>0.000337</td>\n",
       "      <td>0.000477</td>\n",
       "      <td>0.000000</td>\n",
       "      <td>0.000000</td>\n",
       "      <td>3</td>\n",
       "      <td>2</td>\n",
       "      <td>{'max_depth': 3, 'min_samples_split': 2}</td>\n",
       "      <td>0.975</td>\n",
       "      <td>1.0</td>\n",
       "      <td>0.95</td>\n",
       "      <td>0.975000</td>\n",
       "      <td>2.041241e-02</td>\n",
       "      <td>1</td>\n",
       "    </tr>\n",
       "  </tbody>\n",
       "</table>\n",
       "</div>"
      ],
      "text/plain": [
       "   mean_fit_time  std_fit_time  mean_score_time  std_score_time  \\\n",
       "0       0.000000      0.000000         0.001201        0.001698   \n",
       "1       0.000000      0.000000         0.000000        0.000000   \n",
       "2       0.000337      0.000477         0.000000        0.000000   \n",
       "3       0.000686      0.000485         0.000000        0.000000   \n",
       "4       0.000337      0.000477         0.000000        0.000000   \n",
       "\n",
       "  param_max_depth param_min_samples_split  \\\n",
       "0               1                       2   \n",
       "1               1                       3   \n",
       "2               2                       2   \n",
       "3               2                       3   \n",
       "4               3                       2   \n",
       "\n",
       "                                     params  split0_test_score  \\\n",
       "0  {'max_depth': 1, 'min_samples_split': 2}              0.700   \n",
       "1  {'max_depth': 1, 'min_samples_split': 3}              0.700   \n",
       "2  {'max_depth': 2, 'min_samples_split': 2}              0.925   \n",
       "3  {'max_depth': 2, 'min_samples_split': 3}              0.925   \n",
       "4  {'max_depth': 3, 'min_samples_split': 2}              0.975   \n",
       "\n",
       "   split1_test_score  split2_test_score  mean_test_score  std_test_score  \\\n",
       "0                0.7               0.70         0.700000    1.110223e-16   \n",
       "1                0.7               0.70         0.700000    1.110223e-16   \n",
       "2                1.0               0.95         0.958333    3.118048e-02   \n",
       "3                1.0               0.95         0.958333    3.118048e-02   \n",
       "4                1.0               0.95         0.975000    2.041241e-02   \n",
       "\n",
       "   rank_test_score  \n",
       "0                5  \n",
       "1                5  \n",
       "2                3  \n",
       "3                3  \n",
       "4                1  "
      ]
     },
     "execution_count": 277,
     "metadata": {},
     "output_type": "execute_result"
    }
   ],
   "source": [
    "scores_df = pd.DataFrame(grid_dtree.cv_results_)\n",
    "scores_df.head()"
   ]
  },
  {
   "cell_type": "code",
   "execution_count": 278,
   "id": "cc3c2bb7-bc46-4ed7-b24f-64ed1b01b821",
   "metadata": {},
   "outputs": [
    {
     "data": {
      "text/plain": [
       "Index(['mean_fit_time', 'std_fit_time', 'mean_score_time', 'std_score_time',\n",
       "       'param_max_depth', 'param_min_samples_split', 'params',\n",
       "       'split0_test_score', 'split1_test_score', 'split2_test_score',\n",
       "       'mean_test_score', 'std_test_score', 'rank_test_score'],\n",
       "      dtype='object')"
      ]
     },
     "execution_count": 278,
     "metadata": {},
     "output_type": "execute_result"
    }
   ],
   "source": [
    "scores_df.columns"
   ]
  },
  {
   "cell_type": "code",
   "execution_count": 279,
   "id": "39d34ca1-0b6a-4775-971a-907486f7d3d0",
   "metadata": {},
   "outputs": [
    {
     "data": {
      "text/html": [
       "<div>\n",
       "<style scoped>\n",
       "    .dataframe tbody tr th:only-of-type {\n",
       "        vertical-align: middle;\n",
       "    }\n",
       "\n",
       "    .dataframe tbody tr th {\n",
       "        vertical-align: top;\n",
       "    }\n",
       "\n",
       "    .dataframe thead th {\n",
       "        text-align: right;\n",
       "    }\n",
       "</style>\n",
       "<table border=\"1\" class=\"dataframe\">\n",
       "  <thead>\n",
       "    <tr style=\"text-align: right;\">\n",
       "      <th></th>\n",
       "      <th>params</th>\n",
       "      <th>mean_test_score</th>\n",
       "      <th>rank_test_score</th>\n",
       "      <th>split0_test_score</th>\n",
       "      <th>split1_test_score</th>\n",
       "      <th>split2_test_score</th>\n",
       "    </tr>\n",
       "  </thead>\n",
       "  <tbody>\n",
       "    <tr>\n",
       "      <th>0</th>\n",
       "      <td>{'max_depth': 1, 'min_samples_split': 2}</td>\n",
       "      <td>0.700000</td>\n",
       "      <td>5</td>\n",
       "      <td>0.700</td>\n",
       "      <td>0.7</td>\n",
       "      <td>0.70</td>\n",
       "    </tr>\n",
       "    <tr>\n",
       "      <th>1</th>\n",
       "      <td>{'max_depth': 1, 'min_samples_split': 3}</td>\n",
       "      <td>0.700000</td>\n",
       "      <td>5</td>\n",
       "      <td>0.700</td>\n",
       "      <td>0.7</td>\n",
       "      <td>0.70</td>\n",
       "    </tr>\n",
       "    <tr>\n",
       "      <th>2</th>\n",
       "      <td>{'max_depth': 2, 'min_samples_split': 2}</td>\n",
       "      <td>0.958333</td>\n",
       "      <td>3</td>\n",
       "      <td>0.925</td>\n",
       "      <td>1.0</td>\n",
       "      <td>0.95</td>\n",
       "    </tr>\n",
       "    <tr>\n",
       "      <th>3</th>\n",
       "      <td>{'max_depth': 2, 'min_samples_split': 3}</td>\n",
       "      <td>0.958333</td>\n",
       "      <td>3</td>\n",
       "      <td>0.925</td>\n",
       "      <td>1.0</td>\n",
       "      <td>0.95</td>\n",
       "    </tr>\n",
       "    <tr>\n",
       "      <th>4</th>\n",
       "      <td>{'max_depth': 3, 'min_samples_split': 2}</td>\n",
       "      <td>0.975000</td>\n",
       "      <td>1</td>\n",
       "      <td>0.975</td>\n",
       "      <td>1.0</td>\n",
       "      <td>0.95</td>\n",
       "    </tr>\n",
       "    <tr>\n",
       "      <th>5</th>\n",
       "      <td>{'max_depth': 3, 'min_samples_split': 3}</td>\n",
       "      <td>0.975000</td>\n",
       "      <td>1</td>\n",
       "      <td>0.975</td>\n",
       "      <td>1.0</td>\n",
       "      <td>0.95</td>\n",
       "    </tr>\n",
       "  </tbody>\n",
       "</table>\n",
       "</div>"
      ],
      "text/plain": [
       "                                     params  mean_test_score  rank_test_score  \\\n",
       "0  {'max_depth': 1, 'min_samples_split': 2}         0.700000                5   \n",
       "1  {'max_depth': 1, 'min_samples_split': 3}         0.700000                5   \n",
       "2  {'max_depth': 2, 'min_samples_split': 2}         0.958333                3   \n",
       "3  {'max_depth': 2, 'min_samples_split': 3}         0.958333                3   \n",
       "4  {'max_depth': 3, 'min_samples_split': 2}         0.975000                1   \n",
       "5  {'max_depth': 3, 'min_samples_split': 3}         0.975000                1   \n",
       "\n",
       "   split0_test_score  split1_test_score  split2_test_score  \n",
       "0              0.700                0.7               0.70  \n",
       "1              0.700                0.7               0.70  \n",
       "2              0.925                1.0               0.95  \n",
       "3              0.925                1.0               0.95  \n",
       "4              0.975                1.0               0.95  \n",
       "5              0.975                1.0               0.95  "
      ]
     },
     "execution_count": 279,
     "metadata": {},
     "output_type": "execute_result"
    }
   ],
   "source": [
    "scores_df[['params', 'mean_test_score', 'rank_test_score',\n",
    "           'split0_test_score', 'split1_test_score', 'split2_test_score']]"
   ]
  },
  {
   "cell_type": "code",
   "execution_count": 280,
   "id": "9be5c377-6d41-461f-899c-75e026540a59",
   "metadata": {},
   "outputs": [
    {
     "data": {
      "text/plain": [
       "{'max_depth': 3, 'min_samples_split': 2}"
      ]
     },
     "execution_count": 280,
     "metadata": {},
     "output_type": "execute_result"
    }
   ],
   "source": [
    "grid_dtree.best_params_"
   ]
  },
  {
   "cell_type": "code",
   "execution_count": 282,
   "id": "b8c9b334-88db-42a4-b16d-c63d2ae29c6b",
   "metadata": {},
   "outputs": [
    {
     "data": {
      "text/plain": [
       "0.975"
      ]
     },
     "execution_count": 282,
     "metadata": {},
     "output_type": "execute_result"
    }
   ],
   "source": [
    "grid_dtree.best_score_"
   ]
  },
  {
   "cell_type": "code",
   "execution_count": 283,
   "id": "3b161941-7754-4fef-a6b2-b5607a7852a5",
   "metadata": {},
   "outputs": [],
   "source": [
    "pred = grid_dtree.best_estimator_.predict(X_test)"
   ]
  },
  {
   "cell_type": "code",
   "execution_count": 284,
   "id": "48283d40-a080-4f85-97c1-00cb5b4413fd",
   "metadata": {},
   "outputs": [
    {
     "data": {
      "text/plain": [
       "0.9666666666666667"
      ]
     },
     "execution_count": 284,
     "metadata": {},
     "output_type": "execute_result"
    }
   ],
   "source": [
    "accuracy_score(y_test, pred)"
   ]
  },
  {
   "cell_type": "code",
   "execution_count": null,
   "id": "e6f07c05-18d5-438d-8836-91dd502b23dc",
   "metadata": {},
   "outputs": [],
   "source": [
    "# p.116 전처리"
   ]
  },
  {
   "cell_type": "code",
   "execution_count": null,
   "id": "4350e3f1-6a18-4451-9a10-3797054f088d",
   "metadata": {},
   "outputs": [],
   "source": [
    "# G I G O,"
   ]
  },
  {
   "cell_type": "code",
   "execution_count": null,
   "id": "091e23bf-6edf-4291-b88d-5e7d06b295b0",
   "metadata": {},
   "outputs": [],
   "source": []
  }
 ],
 "metadata": {
  "kernelspec": {
   "display_name": "Python 3 (ipykernel)",
   "language": "python",
   "name": "python3"
  },
  "language_info": {
   "codemirror_mode": {
    "name": "ipython",
    "version": 3
   },
   "file_extension": ".py",
   "mimetype": "text/x-python",
   "name": "python",
   "nbconvert_exporter": "python",
   "pygments_lexer": "ipython3",
   "version": "3.9.12"
  }
 },
 "nbformat": 4,
 "nbformat_minor": 5
}
