{
 "cells": [
  {
   "cell_type": "code",
   "execution_count": 12,
   "id": "4969a189-07e9-4427-9a5b-66bb0acbe67e",
   "metadata": {},
   "outputs": [],
   "source": [
    "# Null 처리 함수\n",
    "def fillna(df):\n",
    "    df['Age'].fillna(df['Age'].mean(), inplace=True)\n",
    "    df['Cabin'].fillna('N', inplace=True)\n",
    "    df['Embarked'].fillna('N', inplace=True)\n",
    "    df['Fare'].fillna(0, inplace=True) # 요금 누락값 0원으로 채우기\n",
    "    return df\n",
    "\n",
    "# 머신러닝 알고리즘에 불필요한 피처 제거\n",
    "def drop_features(df):\n",
    "    df.drop(['PassengerId', 'Name', 'Ticket'], axis=1, inplace=True)\n",
    "    return df\n",
    "\n",
    "# LABEL ENCODING\n",
    "def format_features(df):\n",
    "    from sklearn.preprocessing import LabelEncoder\n",
    "    df['Cabin'] = df['Cabin'].str[:1] # 승선실번호 앞 글자만 따옴\n",
    "    features = ['Cabin', 'Sex', 'Embarked'] # 컬럼 이름을 리스트목록으로 저장\n",
    "    for feature in features:\n",
    "        le = LabelEncoder() # LabelEncoder 객체 생성\n",
    "        # le = le.fit(df[feature]) # 들어오는 데이터프레임의 목록을 받아 학습\n",
    "        # df[feature] = le.transform(df[feature]) # 숫자로 변환\n",
    "        df[feature] = le.fit_transform(df[feature]) # 위 두 줄을 함축\n",
    "        print(le.classes_) # 인코딩 속성값\n",
    "    return df\n",
    "\n",
    "# 앞에서 설정한 데이터 전처리 함수 호출\n",
    "def transform_features():\n",
    "    import pandas as pd\n",
    "    df = pd.read_csv('train.csv')\n",
    "    df = fillna(df)\n",
    "    df = drop_features(df)\n",
    "    df = format_features(df)\n",
    "    return df"
   ]
  },
  {
   "cell_type": "code",
   "execution_count": 13,
   "id": "afab418f-8486-4baf-ab3a-08373f6ccb78",
   "metadata": {},
   "outputs": [
    {
     "name": "stdout",
     "output_type": "stream",
     "text": [
      "['A' 'B' 'C' 'D' 'E' 'F' 'G' 'N' 'T']\n",
      "['female' 'male']\n",
      "['C' 'N' 'Q' 'S']\n"
     ]
    }
   ],
   "source": [
    "titanic_df = transform_features()"
   ]
  },
  {
   "cell_type": "code",
   "execution_count": 14,
   "id": "1678d2b1-2576-4ef1-9ab7-2fd7d8203ce1",
   "metadata": {},
   "outputs": [
    {
     "data": {
      "text/html": [
       "<div>\n",
       "<style scoped>\n",
       "    .dataframe tbody tr th:only-of-type {\n",
       "        vertical-align: middle;\n",
       "    }\n",
       "\n",
       "    .dataframe tbody tr th {\n",
       "        vertical-align: top;\n",
       "    }\n",
       "\n",
       "    .dataframe thead th {\n",
       "        text-align: right;\n",
       "    }\n",
       "</style>\n",
       "<table border=\"1\" class=\"dataframe\">\n",
       "  <thead>\n",
       "    <tr style=\"text-align: right;\">\n",
       "      <th></th>\n",
       "      <th>Survived</th>\n",
       "      <th>Pclass</th>\n",
       "      <th>Sex</th>\n",
       "      <th>Age</th>\n",
       "      <th>SibSp</th>\n",
       "      <th>Parch</th>\n",
       "      <th>Fare</th>\n",
       "      <th>Cabin</th>\n",
       "      <th>Embarked</th>\n",
       "    </tr>\n",
       "  </thead>\n",
       "  <tbody>\n",
       "    <tr>\n",
       "      <th>0</th>\n",
       "      <td>0</td>\n",
       "      <td>3</td>\n",
       "      <td>1</td>\n",
       "      <td>22.0</td>\n",
       "      <td>1</td>\n",
       "      <td>0</td>\n",
       "      <td>7.2500</td>\n",
       "      <td>7</td>\n",
       "      <td>3</td>\n",
       "    </tr>\n",
       "    <tr>\n",
       "      <th>1</th>\n",
       "      <td>1</td>\n",
       "      <td>1</td>\n",
       "      <td>0</td>\n",
       "      <td>38.0</td>\n",
       "      <td>1</td>\n",
       "      <td>0</td>\n",
       "      <td>71.2833</td>\n",
       "      <td>2</td>\n",
       "      <td>0</td>\n",
       "    </tr>\n",
       "    <tr>\n",
       "      <th>2</th>\n",
       "      <td>1</td>\n",
       "      <td>3</td>\n",
       "      <td>0</td>\n",
       "      <td>26.0</td>\n",
       "      <td>0</td>\n",
       "      <td>0</td>\n",
       "      <td>7.9250</td>\n",
       "      <td>7</td>\n",
       "      <td>3</td>\n",
       "    </tr>\n",
       "    <tr>\n",
       "      <th>3</th>\n",
       "      <td>1</td>\n",
       "      <td>1</td>\n",
       "      <td>0</td>\n",
       "      <td>35.0</td>\n",
       "      <td>1</td>\n",
       "      <td>0</td>\n",
       "      <td>53.1000</td>\n",
       "      <td>2</td>\n",
       "      <td>3</td>\n",
       "    </tr>\n",
       "    <tr>\n",
       "      <th>4</th>\n",
       "      <td>0</td>\n",
       "      <td>3</td>\n",
       "      <td>1</td>\n",
       "      <td>35.0</td>\n",
       "      <td>0</td>\n",
       "      <td>0</td>\n",
       "      <td>8.0500</td>\n",
       "      <td>7</td>\n",
       "      <td>3</td>\n",
       "    </tr>\n",
       "  </tbody>\n",
       "</table>\n",
       "</div>"
      ],
      "text/plain": [
       "   Survived  Pclass  Sex   Age  SibSp  Parch     Fare  Cabin  Embarked\n",
       "0         0       3    1  22.0      1      0   7.2500      7         3\n",
       "1         1       1    0  38.0      1      0  71.2833      2         0\n",
       "2         1       3    0  26.0      0      0   7.9250      7         3\n",
       "3         1       1    0  35.0      1      0  53.1000      2         3\n",
       "4         0       3    1  35.0      0      0   8.0500      7         3"
      ]
     },
     "execution_count": 14,
     "metadata": {},
     "output_type": "execute_result"
    }
   ],
   "source": [
    "titanic_df.head()"
   ]
  },
  {
   "cell_type": "code",
   "execution_count": 23,
   "id": "63b4da87-e9b0-4d3c-82ea-f2bb2df67f40",
   "metadata": {},
   "outputs": [],
   "source": [
    "# from sklearn.preprocessing import LabelEncoder"
   ]
  },
  {
   "cell_type": "code",
   "execution_count": null,
   "id": "1afa92d3-2901-47d6-8104-5d7a1a7ce87a",
   "metadata": {},
   "outputs": [],
   "source": [
    "# encoder = LabelEncoder()"
   ]
  },
  {
   "cell_type": "code",
   "execution_count": 28,
   "id": "ff491bd8-73bd-4564-9bd6-5fea20e1e7d7",
   "metadata": {
    "collapsed": true,
    "jupyter": {
     "outputs_hidden": true
    },
    "tags": []
   },
   "outputs": [
    {
     "ename": "NameError",
     "evalue": "name 'inverse_transform' is not defined",
     "output_type": "error",
     "traceback": [
      "\u001b[1;31m---------------------------------------------------------------------------\u001b[0m",
      "\u001b[1;31mNameError\u001b[0m                                 Traceback (most recent call last)",
      "Input \u001b[1;32mIn [28]\u001b[0m, in \u001b[0;36m<cell line: 1>\u001b[1;34m()\u001b[0m\n\u001b[1;32m----> 1\u001b[0m LabelEncoder(\u001b[43minverse_transform\u001b[49m(titanic_df[\u001b[38;5;124m'\u001b[39m\u001b[38;5;124mSex\u001b[39m\u001b[38;5;124m'\u001b[39m]))\n",
      "\u001b[1;31mNameError\u001b[0m: name 'inverse_transform' is not defined"
     ]
    }
   ],
   "source": [
    "# encoder.inverse_transform(titanic_df['Sex'])"
   ]
  },
  {
   "cell_type": "code",
   "execution_count": 29,
   "id": "99fb39c3-0a5d-4e1d-afba-24b161d9987a",
   "metadata": {},
   "outputs": [],
   "source": [
    "from sklearn.model_selection import train_test_split"
   ]
  },
  {
   "cell_type": "markdown",
   "id": "68a50ade-bd04-4e5e-8fb8-19d6c4336c56",
   "metadata": {},
   "source": [
    "## 데이터 분리"
   ]
  },
  {
   "cell_type": "code",
   "execution_count": 32,
   "id": "968f9c69-0b2f-4bdc-86cf-14d72616b28c",
   "metadata": {},
   "outputs": [],
   "source": [
    "X_df = titanic_df.drop(columns='Survived') # 입력\n",
    "y_df = titanic_df['Survived'] # 정답"
   ]
  },
  {
   "cell_type": "code",
   "execution_count": 33,
   "id": "4939e3bb-754b-4b31-aec0-1356d4ef036c",
   "metadata": {},
   "outputs": [],
   "source": [
    "X_train, X_test, y_train, y_test = train_test_split(X_df,\n",
    "                                                    y_df,\n",
    "                                                    test_size=0.2,\n",
    "                                                    random_state=11)"
   ]
  },
  {
   "cell_type": "code",
   "execution_count": 35,
   "id": "c80e2094-c557-49b9-bead-91624c0fec0a",
   "metadata": {},
   "outputs": [],
   "source": [
    "# 라이브러리 임포트\n",
    "from sklearn.tree import DecisionTreeClassifier\n",
    "from sklearn.ensemble import RandomForestClassifier\n",
    "from sklearn.linear_model import LogisticRegression\n",
    "from sklearn.metrics import accuracy_score"
   ]
  },
  {
   "cell_type": "code",
   "execution_count": 36,
   "id": "4addcab4-e136-42ef-89af-c2ce3d41d9cb",
   "metadata": {},
   "outputs": [],
   "source": [
    "# 결정트리, Random Forest, 로지스틱 회귀를 위한 사이킷런 Classifier 클래스 모델 생성\n",
    "dt_clf = DecisionTreeClassifier(random_state=11)\n",
    "rf_clf = RandomForestClassifier(random_state=11)\n",
    "lr_clf = LogisticRegression(solver='liblinear')\n",
    "# solver : 로지스틱 회귀의 최적화 알고리즘을 liblinear로 설정\n",
    "# 일반적으로 작은 데이터 셋에서의 이진 분류는 liblinear가 성능이 약간 더 좋은 경향이 있다."
   ]
  },
  {
   "cell_type": "code",
   "execution_count": 38,
   "id": "b99028d8-7901-4670-8d48-03016a2d95be",
   "metadata": {},
   "outputs": [
    {
     "name": "stdout",
     "output_type": "stream",
     "text": [
      "DecisionTreeClassifier 정확도: 0.7877094972067039\n"
     ]
    }
   ],
   "source": [
    "# DecisionTreeClassifier 학습/예측/평가\n",
    "dt_clf.fit(X_train, y_train)\n",
    "dt_pred = dt_clf.predict(X_test)\n",
    "print(f'DecisionTreeClassifier 정확도: {accuracy_score(y_test, dt_pred)}')"
   ]
  },
  {
   "cell_type": "code",
   "execution_count": 39,
   "id": "0b784c9d-29da-41c4-b803-e4de1c397e69",
   "metadata": {},
   "outputs": [
    {
     "name": "stdout",
     "output_type": "stream",
     "text": [
      "RandomForestClassifier 정확도: 0.8547486033519553\n"
     ]
    }
   ],
   "source": [
    "# RandomForestClassifier 학습/예측/평가 : DecisionTreeClassifier 100개 모여서 학습함\n",
    "rf_clf.fit(X_train, y_train)\n",
    "rf_pred = rf_clf.predict(X_test)\n",
    "print(f'RandomForestClassifier 정확도: {accuracy_score(y_test, rf_pred)}')"
   ]
  },
  {
   "cell_type": "code",
   "execution_count": 41,
   "id": "cee473d5-8530-40fc-98eb-b475f47957c5",
   "metadata": {},
   "outputs": [
    {
     "name": "stdout",
     "output_type": "stream",
     "text": [
      "LogisticRegression 정확도: 0.8659\n"
     ]
    }
   ],
   "source": [
    "# LogisticRegression 학습/예측/평가\n",
    "lr_clf.fit(X_train, y_train)\n",
    "lr_pred = lr_clf.predict(X_test)\n",
    "print(f'LogisticRegression 정확도: {accuracy_score(y_test, lr_pred):.4f}')"
   ]
  },
  {
   "cell_type": "markdown",
   "id": "2ac6062d-7208-42b1-bf50-9c3377532206",
   "metadata": {},
   "source": [
    "## 교차검증"
   ]
  },
  {
   "cell_type": "code",
   "execution_count": 50,
   "id": "c6c84b97-f1c9-406d-b4c1-1801ca2785ab",
   "metadata": {},
   "outputs": [],
   "source": [
    "# 폴드 셋가 5개인 KFold 객체 생성,\n",
    "# 폴드 수만큼 예측결과 저장을 위한 리스트 객체 생성\n",
    "def exec_kfold(clf, folds=5): # 지정매개변수 folds=5\n",
    "    from sklearn.model_selection import KFold\n",
    "    import numpy as np\n",
    "    kfold = KFold(n_splits=folds)\n",
    "    scores = []\n",
    "    \n",
    "    # KFold 교차 검증 수행\n",
    "    for iter_count, (train_index, test_index) in enumerate(kfold.split(X_df)):\n",
    "        # 데이터, 인덱스값이 같이 필요할 때 enumerate\n",
    "        # X_titanic_df 데이터에서 교차 검증별 학습과 검증 데이터를 가리키는 index 생성\n",
    "        X_train, X_test = X_df.values[train_index], X_df.values[test_index]\n",
    "        y_train, y_test = y_df.values[train_index], y_df.values[test_index]\n",
    "        # 컬럼과 인덱스를 제외한 값만 뽑는다.\n",
    "        # Classifier 학습/예측/정확도 계산\n",
    "        clf.fit(X_train, y_train)\n",
    "        predictions = clf.predict(X_test)\n",
    "        accuracy = accuracy_score(y_test, predictions)\n",
    "        scores.append(accuracy) # 예측결과를 scores 리스트에 저장\n",
    "        print(f'교차 검증 {iter_count+1} 정확도: {accuracy:.4f}')\n",
    "        \n",
    "    # 5개 폴드에서의 평균 정확도 계산\n",
    "    print(f'평균 정확도: {np.mean(scores):.4}')"
   ]
  },
  {
   "cell_type": "code",
   "execution_count": 57,
   "id": "56cae31c-f451-46fd-8ccd-24b432126213",
   "metadata": {},
   "outputs": [
    {
     "name": "stdout",
     "output_type": "stream",
     "text": [
      "교차 검증 1 정확도: 0.7542\n",
      "교차 검증 2 정확도: 0.7809\n",
      "교차 검증 3 정확도: 0.7865\n",
      "교차 검증 4 정확도: 0.7697\n",
      "교차 검증 5 정확도: 0.8202\n",
      "평균 정확도: 0.7823\n"
     ]
    }
   ],
   "source": [
    "exec_kfold(dt_clf) # DecisionTreeClassifier 정확도: 0.7877094972067039"
   ]
  },
  {
   "cell_type": "code",
   "execution_count": 58,
   "id": "5e3b352f-9c74-4c4f-9345-371c835717e8",
   "metadata": {},
   "outputs": [
    {
     "name": "stdout",
     "output_type": "stream",
     "text": [
      "교차 검증 1 정확도: 0.7933\n",
      "교차 검증 2 정확도: 0.8090\n",
      "교차 검증 3 정확도: 0.8371\n",
      "교차 검증 4 정확도: 0.7753\n",
      "교차 검증 5 정확도: 0.8596\n",
      "평균 정확도: 0.8148\n"
     ]
    }
   ],
   "source": [
    "exec_kfold(rf_clf) # RandomForestClassifier 정확도: 0.8547486033519553"
   ]
  },
  {
   "cell_type": "code",
   "execution_count": 59,
   "id": "35ec83e9-48ca-441b-8c4a-539a763f0c0a",
   "metadata": {},
   "outputs": [
    {
     "name": "stdout",
     "output_type": "stream",
     "text": [
      "교차 검증 1 정확도: 0.7933\n",
      "교차 검증 2 정확도: 0.7921\n",
      "교차 검증 3 정확도: 0.7753\n",
      "교차 검증 4 정확도: 0.7472\n",
      "교차 검증 5 정확도: 0.8427\n",
      "평균 정확도: 0.7901\n"
     ]
    }
   ],
   "source": [
    "exec_kfold(lr_clf) # LogisticRegression 정확도: 0.8659"
   ]
  },
  {
   "cell_type": "code",
   "execution_count": null,
   "id": "01f18345-7a34-4aef-b29b-1f3fa33463ca",
   "metadata": {},
   "outputs": [],
   "source": [
    "# 교차검증을 했을 때 실제 적용했을 때와 비슷한 결과를 얻을 수 있다."
   ]
  },
  {
   "cell_type": "markdown",
   "id": "05c2cfb0-fa16-4cd8-92d7-dd48aa2dfa59",
   "metadata": {},
   "source": [
    "## cross_val_score 교차검증 API\n",
    "StratifiedKFold를 이용해 폴드 세트를 분할한다."
   ]
  },
  {
   "cell_type": "code",
   "execution_count": 62,
   "id": "8151f842-95c8-42f6-9bcc-82c86f6d8639",
   "metadata": {},
   "outputs": [],
   "source": [
    "from sklearn.model_selection import cross_val_score\n",
    "import numpy as np"
   ]
  },
  {
   "cell_type": "code",
   "execution_count": 61,
   "id": "f3124582-49c4-492b-8560-de9f3035c71e",
   "metadata": {},
   "outputs": [
    {
     "data": {
      "text/plain": [
       "array([0.74301676, 0.7752809 , 0.79213483, 0.78651685, 0.84269663])"
      ]
     },
     "execution_count": 61,
     "metadata": {},
     "output_type": "execute_result"
    }
   ],
   "source": [
    "cross_val_score(dt_clf, X_df, y_df, cv=5)"
   ]
  },
  {
   "cell_type": "code",
   "execution_count": 64,
   "id": "da7ee3ad-e374-4fb6-8019-95ff56cbacdc",
   "metadata": {},
   "outputs": [
    {
     "name": "stdout",
     "output_type": "stream",
     "text": [
      "개별정확도: [0.74301676 0.7752809  0.79213483 0.78651685 0.84269663], 평균 정확도: 0.7879291946519366\n"
     ]
    }
   ],
   "source": [
    "# DecisionTreeClassifier\n",
    "score = cross_val_score(dt_clf, X_df, y_df, cv=5)\n",
    "print(f'개별정확도: {score}, 평균 정확도: {np.mean(score)}')\n",
    "# 교차 검증 1 정확도: 0.7542\n",
    "# 교차 검증 2 정확도: 0.7809\n",
    "# 교차 검증 3 정확도: 0.7865\n",
    "# 교차 검증 4 정확도: 0.7697\n",
    "# 교차 검증 5 정확도: 0.8202\n",
    "# 평균 정확도: 0.7823"
   ]
  },
  {
   "cell_type": "code",
   "execution_count": 65,
   "id": "08895206-be1e-413a-b551-de12ce8d6087",
   "metadata": {},
   "outputs": [
    {
     "name": "stdout",
     "output_type": "stream",
     "text": [
      "개별정확도: [0.79329609 0.79775281 0.84831461 0.76404494 0.86516854], 평균 정확도: 0.8137153976523758\n"
     ]
    }
   ],
   "source": [
    "# RandomForestClassifier\n",
    "score = cross_val_score(rf_clf, X_df, y_df, cv=5)\n",
    "print(f'개별정확도: {score}, 평균 정확도: {np.mean(score)}')\n",
    "# 교차 검증 1 정확도: 0.7933\n",
    "# 교차 검증 2 정확도: 0.8090\n",
    "# 교차 검증 3 정확도: 0.8371\n",
    "# 교차 검증 4 정확도: 0.7753\n",
    "# 교차 검증 5 정확도: 0.8596\n",
    "# 평균 정확도: 0.8148"
   ]
  },
  {
   "cell_type": "code",
   "execution_count": 66,
   "id": "b9f30e67-ff5a-42f8-ad7d-0e21e06d9024",
   "metadata": {},
   "outputs": [
    {
     "name": "stdout",
     "output_type": "stream",
     "text": [
      "개별정확도: [0.7877095  0.79213483 0.7752809  0.76404494 0.82022472], 평균 정확도: 0.7878789780930262\n"
     ]
    }
   ],
   "source": [
    "# LogisticRegression\n",
    "score = cross_val_score(lr_clf, X_df, y_df, cv=5)\n",
    "print(f'개별정확도: {score}, 평균 정확도: {np.mean(score)}')\n",
    "# 교차 검증 1 정확도: 0.7933\n",
    "# 교차 검증 2 정확도: 0.7921\n",
    "# 교차 검증 3 정확도: 0.7753\n",
    "# 교차 검증 4 정확도: 0.7472\n",
    "# 교차 검증 5 정확도: 0.8427\n",
    "# 평균 정확도: 0.7901"
   ]
  },
  {
   "cell_type": "markdown",
   "id": "bbf1bdba-bd49-410b-b700-a6cb54b928dc",
   "metadata": {},
   "source": [
    "# GridSearchCV\n",
    "파라미터 튜닝까지 한 번에."
   ]
  },
  {
   "cell_type": "markdown",
   "id": "ce1408af-4fbe-48bc-9d3e-17c8b3c74c12",
   "metadata": {},
   "source": [
    "### DecisionTreeClassifier GridSearchCV"
   ]
  },
  {
   "cell_type": "code",
   "execution_count": 67,
   "id": "238bdae1-7d8e-4237-83b3-aa9980109b29",
   "metadata": {},
   "outputs": [],
   "source": [
    "from sklearn.model_selection import GridSearchCV\n",
    "# 파라미터 값이 달라서 로지스틱회귀는 할 수 없다."
   ]
  },
  {
   "cell_type": "code",
   "execution_count": 68,
   "id": "81bdfdfd-f53f-4862-b2d3-86a9950da8e4",
   "metadata": {},
   "outputs": [],
   "source": [
    "parameters = {'max_depth':[2, 3, 5, 10],\n",
    "              'min_samples_split':[2, 3, 5],\n",
    "              'min_samples_leaf':[1, 5, 8]}"
   ]
  },
  {
   "cell_type": "code",
   "execution_count": 71,
   "id": "66ae0785-f2d1-4d50-8ab6-e65940d9e4f9",
   "metadata": {},
   "outputs": [
    {
     "data": {
      "text/plain": [
       "GridSearchCV(cv=5, estimator=DecisionTreeClassifier(random_state=11),\n",
       "             param_grid={'max_depth': [2, 3, 5, 10],\n",
       "                         'min_samples_leaf': [1, 5, 8],\n",
       "                         'min_samples_split': [2, 3, 5]},\n",
       "             scoring='accuracy')"
      ]
     },
     "execution_count": 71,
     "metadata": {},
     "output_type": "execute_result"
    }
   ],
   "source": [
    "grid_clf = GridSearchCV(dt_clf, param_grid=parameters, scoring='accuracy', cv=5) # 객체 생성\n",
    "grid_clf.fit(X_train, y_train) # 학습"
   ]
  },
  {
   "cell_type": "code",
   "execution_count": 73,
   "id": "c2ae782f-d9f3-470f-8dcf-02a585b397c1",
   "metadata": {},
   "outputs": [
    {
     "name": "stdout",
     "output_type": "stream",
     "text": [
      "GridSearchCV 최적 하이퍼 파라미터 : {'max_depth': 3, 'min_samples_leaf': 5, 'min_samples_split': 2}\n",
      "GridSearchCV 최고 정확도 : 0.7992\n"
     ]
    }
   ],
   "source": [
    "print('GridSearchCV 최적 하이퍼 파라미터 :', grid_clf.best_params_)\n",
    "print(f'GridSearchCV 최고 정확도 : {grid_clf.best_score_:.4f}')"
   ]
  },
  {
   "cell_type": "code",
   "execution_count": 75,
   "id": "754fff0d-cee5-4a24-8b78-740cd3c244de",
   "metadata": {},
   "outputs": [],
   "source": [
    "pred = grid_clf.best_estimator_.predict(X_test) # 하이퍼 파라미터로 학습된 Estimator로 예측"
   ]
  },
  {
   "cell_type": "code",
   "execution_count": 76,
   "id": "2f2e3f29-de84-4125-a540-0c36f626050f",
   "metadata": {},
   "outputs": [
    {
     "data": {
      "text/plain": [
       "0.8715083798882681"
      ]
     },
     "execution_count": 76,
     "metadata": {},
     "output_type": "execute_result"
    }
   ],
   "source": [
    "accuracy_score(y_test, pred) # 검증"
   ]
  },
  {
   "cell_type": "markdown",
   "id": "7aa3ffad-cee4-4c2c-8294-c954111a5d2a",
   "metadata": {},
   "source": [
    "### RandomForestClassifier GridSearchCV"
   ]
  },
  {
   "cell_type": "code",
   "execution_count": 79,
   "id": "d0b74d61-50f9-4b65-9906-7e07b192d625",
   "metadata": {},
   "outputs": [
    {
     "name": "stdout",
     "output_type": "stream",
     "text": [
      "GridSearchCV 최적 하이퍼 파라미터 : {'max_depth': 5, 'min_samples_leaf': 1, 'min_samples_split': 2}\n",
      "GridSearchCV 최고 정확도 : 0.8146\n"
     ]
    }
   ],
   "source": [
    "grid_clf = GridSearchCV(rf_clf, param_grid=parameters, scoring='accuracy', cv=5) # 객체 생성\n",
    "grid_clf.fit(X_train, y_train)\n",
    "\n",
    "print('GridSearchCV 최적 하이퍼 파라미터 :', grid_clf.best_params_)\n",
    "print(f'GridSearchCV 최고 정확도 : {grid_clf.best_score_:.4f}')\n",
    "\n",
    "pred = grid_clf.best_estimator_.predict(X_test)"
   ]
  },
  {
   "cell_type": "code",
   "execution_count": 80,
   "id": "a4bf766c-08f1-4e91-b4de-3fe08de5a917",
   "metadata": {},
   "outputs": [
    {
     "data": {
      "text/plain": [
       "0.88268156424581"
      ]
     },
     "execution_count": 80,
     "metadata": {},
     "output_type": "execute_result"
    }
   ],
   "source": [
    "accuracy_score(y_test, pred)"
   ]
  },
  {
   "cell_type": "code",
   "execution_count": null,
   "id": "40d2fef4-c5a7-41ee-a61e-9db3a3b276fa",
   "metadata": {},
   "outputs": [],
   "source": [
    "# 단순 정확도로만 판단하기에는 상황에 따라 신빙성이 없을 수 있다."
   ]
  },
  {
   "cell_type": "code",
   "execution_count": null,
   "id": "fdec7d0d-1555-42ac-b959-e400230f23c8",
   "metadata": {},
   "outputs": [],
   "source": []
  }
 ],
 "metadata": {
  "kernelspec": {
   "display_name": "Python 3 (ipykernel)",
   "language": "python",
   "name": "python3"
  },
  "language_info": {
   "codemirror_mode": {
    "name": "ipython",
    "version": 3
   },
   "file_extension": ".py",
   "mimetype": "text/x-python",
   "name": "python",
   "nbconvert_exporter": "python",
   "pygments_lexer": "ipython3",
   "version": "3.9.12"
  }
 },
 "nbformat": 4,
 "nbformat_minor": 5
}
