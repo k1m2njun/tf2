{
 "cells": [
  {
   "cell_type": "markdown",
   "id": "92431fe8-9f41-4704-bb00-cc6ecee7db45",
   "metadata": {},
   "source": [
    "# 랜덤 포레스트 p.216\n",
    "배깅 보팅, 여러 DecisionTree 객체로 보팅"
   ]
  },
  {
   "cell_type": "code",
   "execution_count": 1,
   "id": "99036b74-66c5-4dfd-801b-e7f219578e3b",
   "metadata": {},
   "outputs": [],
   "source": [
    "# 중복된 피처명에 _1, _2 등 추가, p.203\n",
    "def get_new_feature_name_df(old):\n",
    "    import pandas as pd\n",
    "    dup = pd.DataFrame(data=old.groupby('column_name').cumcount(), columns=['dup_cnt'])\n",
    "    dup = dup.reset_index()\n",
    "    new = pd.merge(old.reset_index(), dup, how='outer')\n",
    "    # column_name과 dup_cnt 문자열을 합친다. : 'column_name'_'dup_cnt'\n",
    "    new['column_name'] = new[['column_name', 'dup_cnt']].apply(lambda x: x[0]+'_'+str(x[1])\n",
    "                                                               if x[1] > 0 else x[0], axis=1)\n",
    "                                                              # dup_cnt값이 0보다 클 때만 합친다.\n",
    "                                                              # 컬럼 단위로 처리하기 때문에 axis=1\n",
    "    new = new.drop(['index'], axis=1)\n",
    "    return new"
   ]
  },
  {
   "cell_type": "code",
   "execution_count": 2,
   "id": "047f988a-72ab-4d57-bb4a-28146651b45f",
   "metadata": {},
   "outputs": [],
   "source": [
    "def get_human_dataset():\n",
    "    import pandas as pd\n",
    "    # 각 데이터 파일은 공백으로 분리돼있음\n",
    "    feature_name_df = pd.read_csv('human_activiry/UCI HAR Dataset/features.txt',\n",
    "                              sep='\\s+', # 분리기준 - '\\s': 공백문자, '+': 1개 이상\n",
    "                              header=None, # 헤어 이름 설정\n",
    "                              names=['column_index', 'column_name'])\n",
    "    \n",
    "    # 중복된 피처명 수정, 신규 피처명 데이터프레임 생성\n",
    "    new_name = get_new_feature_name_df(feature_name_df)\n",
    "    \n",
    "    # 데이터프레임에 피처명을 컬럼으로 부여하기위해 리스트 객체로 변환\n",
    "    feature_name = new_name.iloc[:,1].values.tolist()\n",
    "    \n",
    "    # 학습 피처와 테스트 피처 데이터 로딩, 컬럼명 : feature_name 변수\n",
    "    X_train = pd.read_csv('./human_activiry/UCI HAR Dataset/train/X_train.txt',sep='\\s+',names=feature_name)\n",
    "    X_test = pd.read_csv('./human_activiry/UCI HAR Dataset/test/X_test.txt',sep='\\s+',names=feature_name)\n",
    "    \n",
    "    # 학습 레이블과 테스트 레이블 데이터 로딩, 컬럼명 : action 컬럼\n",
    "    y_train = pd.read_csv('./human_activiry/UCI HAR Dataset/train/y_train.txt',sep='\\s+',names=['action'])\n",
    "    y_test = pd.read_csv('./human_activiry/UCI HAR Dataset/test/y_test.txt',sep='\\s+',names=['action'])\n",
    "    \n",
    "    # 로드된 학습, 테스트용 데이터프레임 모두 반환\n",
    "    return X_train, X_test, y_train, y_test"
   ]
  },
  {
   "cell_type": "code",
   "execution_count": 3,
   "id": "7a1b8ce7-d16d-4e7c-b292-e8bcca2719eb",
   "metadata": {},
   "outputs": [],
   "source": [
    "# 결정 트리에서 사용한 get_human_dataset()을 이용해 학습, 테스트용 데이터프레임 반환\n",
    "X_train, X_test, y_train, y_test = get_human_dataset()"
   ]
  },
  {
   "cell_type": "code",
   "execution_count": 4,
   "id": "f07b5344-bed5-4750-a5e0-5367e1ffa228",
   "metadata": {},
   "outputs": [],
   "source": [
    "from sklearn.ensemble import RandomForestClassifier\n",
    "from sklearn.metrics import accuracy_score"
   ]
  },
  {
   "cell_type": "code",
   "execution_count": 6,
   "id": "f6c1f34d-1495-460d-9a45-e6be9eda0125",
   "metadata": {},
   "outputs": [
    {
     "name": "stderr",
     "output_type": "stream",
     "text": [
      "C:\\Users\\user\\AppData\\Local\\Temp\\ipykernel_13756\\863004386.py:5: DataConversionWarning: A column-vector y was passed when a 1d array was expected. Please change the shape of y to (n_samples,), for example using ravel().\n",
      "  rf_clf.fit(X_train, y_train) # 학습\n"
     ]
    },
    {
     "data": {
      "text/plain": [
       "0.9196"
      ]
     },
     "execution_count": 6,
     "metadata": {},
     "output_type": "execute_result"
    }
   ],
   "source": [
    "# 랜덤 포레스트 학습, 별도의 테스트 세트로 예측 성능 평가\n",
    "# 랜덤포레스트 객체\n",
    "rf_clf = RandomForestClassifier(random_state=0, max_depth=8) \n",
    "# max_depth를 조절해 과적합을 예방할 수 있다.\n",
    "rf_clf.fit(X_train, y_train) # 학습\n",
    "pred = rf_clf.predict(X_test) # 예측\n",
    "round(accuracy_score(y_test, pred), 4) # 정확도 평가"
   ]
  },
  {
   "cell_type": "code",
   "execution_count": null,
   "id": "5b20b873-7869-4678-b330-28ccc2bd1bb3",
   "metadata": {},
   "outputs": [],
   "source": [
    "# 랜덤 포레스트 하이퍼 파라미터 튜닝, p.218"
   ]
  },
  {
   "cell_type": "code",
   "execution_count": 10,
   "id": "cab16d5a-dc97-4d87-a2ed-b915096da0f8",
   "metadata": {},
   "outputs": [
    {
     "name": "stdout",
     "output_type": "stream",
     "text": [
      "최적 하이퍼 파라미터: {'max_depth': 16, 'min_samples_leaf': 6, 'min_samples_split': 2}\n",
      "최고 예측 정확도: 0.9165\n",
      "CPU times: total: 13 s\n",
      "Wall time: 37.8 s\n"
     ]
    }
   ],
   "source": [
    "%%time\n",
    "from sklearn.model_selection import GridSearchCV\n",
    "import warnings\n",
    "warnings.filterwarnings('ignore')\n",
    "\n",
    "params = {'max_depth': [8, 16, 24],\n",
    "          'min_samples_leaf': [1, 6, 12],\n",
    "          'min_samples_split': [2, 8, 16]}\n",
    "\n",
    "# RandomForestClassifier 객체 생성 후 GridSearchCV 수행\n",
    "rf_clf = RandomForestClassifier(n_estimators=100, random_state=0, n_jobs=-1) # n_job : cpu 얼마나 쓸 거냐\n",
    "grid_cv = GridSearchCV(rf_clf, param_grid=params, cv=2, n_jobs=-1) # 다 쓴다.\n",
    "grid_cv.fit(X_train, y_train) # 학습\n",
    "\n",
    "print(f'최적 하이퍼 파라미터: {grid_cv.best_params_}')\n",
    "print(f'최고 예측 정확도: {grid_cv.best_score_:.4f}')"
   ]
  },
  {
   "cell_type": "code",
   "execution_count": 11,
   "id": "f2487b37-c7b8-43a6-98ef-355a7d06c1e8",
   "metadata": {},
   "outputs": [
    {
     "data": {
      "text/plain": [
       "0.9260264675941635"
      ]
     },
     "execution_count": 11,
     "metadata": {},
     "output_type": "execute_result"
    }
   ],
   "source": [
    "# 최적의 하이퍼 파라미터로 다시\n",
    "pred = grid_cv.best_estimator_.predict(X_test)\n",
    "accuracy_score(y_test, pred)"
   ]
  },
  {
   "cell_type": "code",
   "execution_count": 13,
   "id": "b1797295-a30d-4107-b055-7786a0ad144e",
   "metadata": {},
   "outputs": [
    {
     "data": {
      "text/plain": [
       "0.9260264675941635"
      ]
     },
     "execution_count": 13,
     "metadata": {},
     "output_type": "execute_result"
    }
   ],
   "source": [
    "# 최적의 하이퍼 파라미터로 랜덤포레스트\n",
    "rf_clf = RandomForestClassifier(n_estimators=500,\n",
    "                                random_state=0,\n",
    "                                n_jobs=-1,\n",
    "                                max_depth=16,\n",
    "                                min_samples_leaf=6,\n",
    "                                min_samples_split=2)\n",
    "rf_clf.fit(X_train, y_train)\n",
    "pred = rf_clf.predict(X_test)\n",
    "accuracy_score(y_test, pred)"
   ]
  },
  {
   "cell_type": "markdown",
   "id": "ce659e42-2e7b-4e4e-99d7-47e7b76520b3",
   "metadata": {},
   "source": [
    "# GBM, p.221"
   ]
  },
  {
   "cell_type": "code",
   "execution_count": 15,
   "id": "3f0dcaab-722c-457b-9ef0-4e849dbb7d69",
   "metadata": {},
   "outputs": [],
   "source": [
    "from sklearn.ensemble import GradientBoostingClassifier"
   ]
  },
  {
   "cell_type": "code",
   "execution_count": 16,
   "id": "776acf4a-7303-4fe6-b7d5-bbee336e2691",
   "metadata": {},
   "outputs": [
    {
     "name": "stdout",
     "output_type": "stream",
     "text": [
      "CPU times: total: 15min 25s\n",
      "Wall time: 15min 25s\n"
     ]
    },
    {
     "data": {
      "text/plain": [
       "0.9389209365456397"
      ]
     },
     "execution_count": 16,
     "metadata": {},
     "output_type": "execute_result"
    }
   ],
   "source": [
    "%%time\n",
    "\n",
    "gb_clf = GradientBoostingClassifier(random_state=0)\n",
    "gb_clf.fit(X_train, y_train)\n",
    "gb_pred = gb_clf.predict(X_test)\n",
    "accuracy_score(y_test, gb_pred)"
   ]
  },
  {
   "cell_type": "code",
   "execution_count": null,
   "id": "5ec6c6eb-aed3-4011-8852-abaaf5520add",
   "metadata": {},
   "outputs": [],
   "source": []
  }
 ],
 "metadata": {
  "kernelspec": {
   "display_name": "Python 3 (ipykernel)",
   "language": "python",
   "name": "python3"
  },
  "language_info": {
   "codemirror_mode": {
    "name": "ipython",
    "version": 3
   },
   "file_extension": ".py",
   "mimetype": "text/x-python",
   "name": "python",
   "nbconvert_exporter": "python",
   "pygments_lexer": "ipython3",
   "version": "3.9.12"
  }
 },
 "nbformat": 4,
 "nbformat_minor": 5
}
