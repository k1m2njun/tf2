{
 "cells": [
  {
   "cell_type": "code",
   "execution_count": 7,
   "id": "94f58588-c3fe-4822-afcb-74d985b59123",
   "metadata": {},
   "outputs": [],
   "source": [
    "REST_API_KEY = '1830579e0e3f456ce3988b002758b9de'"
   ]
  },
  {
   "cell_type": "raw",
   "id": "898999b7-fe77-4c29-80f4-61d4c48e1cd4",
   "metadata": {},
   "source": [
    "curl -v -X GET \"https://dapi.kakao.com/v2/local/search/address.json\" \\\n",
    "  -H \"Authorization: KakaoAK ${REST_API_KEY}\" \\\n",
    "  --data-urlencode \"query=전북 삼성동 100\" "
   ]
  },
  {
   "cell_type": "code",
   "execution_count": null,
   "id": "781f5b4c-af60-40ab-ac3a-ae32702f46be",
   "metadata": {},
   "outputs": [],
   "source": []
  },
  {
   "cell_type": "code",
   "execution_count": 8,
   "id": "063963c1-5cbf-42e0-9ab9-60e1daa63df3",
   "metadata": {},
   "outputs": [],
   "source": [
    "import requests"
   ]
  },
  {
   "cell_type": "code",
   "execution_count": 11,
   "id": "eea6c300-a940-49da-a41d-5c62b8068096",
   "metadata": {},
   "outputs": [
    {
     "data": {
      "text/plain": [
       "'https://dapi.kakao.com/v2/local/search/address.json?query=경상북도 구미시 봉곡동 541-1'"
      ]
     },
     "execution_count": 11,
     "metadata": {},
     "output_type": "execute_result"
    }
   ],
   "source": [
    "url = 'https://dapi.kakao.com/v2/local/search/address.json?query={}'.format('경상북도 구미시 봉곡동 541-1')\n",
    "url"
   ]
  },
  {
   "cell_type": "code",
   "execution_count": 12,
   "id": "3c4bae67-1f80-4775-b338-4412875f231b",
   "metadata": {},
   "outputs": [
    {
     "data": {
      "text/plain": [
       "{'documents': [{'address': {'address_name': '경북 구미시 봉곡동 541-1',\n",
       "    'b_code': '4719010400',\n",
       "    'h_code': '4719056500',\n",
       "    'main_address_no': '541',\n",
       "    'mountain_yn': 'N',\n",
       "    'region_1depth_name': '경북',\n",
       "    'region_2depth_name': '구미시',\n",
       "    'region_3depth_h_name': '선주원남동',\n",
       "    'region_3depth_name': '봉곡동',\n",
       "    'sub_address_no': '1',\n",
       "    'x': '128.310191590759',\n",
       "    'y': '36.1425409891112'},\n",
       "   'address_name': '경북 구미시 봉곡동 541-1',\n",
       "   'address_type': 'REGION_ADDR',\n",
       "   'road_address': {'address_name': '경북 구미시 봉곡로 42',\n",
       "    'building_name': '선주원남동행정복지센터',\n",
       "    'main_building_no': '42',\n",
       "    'region_1depth_name': '경북',\n",
       "    'region_2depth_name': '구미시',\n",
       "    'region_3depth_name': '봉곡동',\n",
       "    'road_name': '봉곡로',\n",
       "    'sub_building_no': '',\n",
       "    'underground_yn': 'N',\n",
       "    'x': '128.310411264861',\n",
       "    'y': '36.1425827412643',\n",
       "    'zone_no': '39210'},\n",
       "   'x': '128.310191590759',\n",
       "   'y': '36.1425409891112'}],\n",
       " 'meta': {'is_end': True, 'pageable_count': 1, 'total_count': 1}}"
      ]
     },
     "execution_count": 12,
     "metadata": {},
     "output_type": "execute_result"
    }
   ],
   "source": [
    "headers = {'Authorization': f'KakaoAK {REST_API_KEY}'} # f 포매팅(파이썬3.6부터)\n",
    "r = requests.get(url, headers=headers)\n",
    "r.json()\n",
    "# rest API 방식"
   ]
  },
  {
   "cell_type": "raw",
   "id": "03660f46-c233-4573-adee-aae7e8087e5a",
   "metadata": {},
   "source": [
    "curl -v -X GET \"https://dapi.kakao.com/v2/local/search/keyword.json?y=37.514322572335935&x=127.06283102249932&radius=20000\" \\\n",
    "  -H \"Authorization: KakaoAK ${REST_API_KEY}\" \\\n",
    "  --data-urlencode \"query=카카오프렌즈\" "
   ]
  },
  {
   "cell_type": "code",
   "execution_count": 22,
   "id": "dded31fe-a809-42c7-ab00-5cd979b21145",
   "metadata": {},
   "outputs": [
    {
     "data": {
      "text/plain": [
       "'https://dapi.kakao.com/v2/local/search/keyword.json?query=대전광역시 대흥동 편의점'"
      ]
     },
     "execution_count": 22,
     "metadata": {},
     "output_type": "execute_result"
    }
   ],
   "source": [
    "url_1 = 'https://dapi.kakao.com/v2/local/search/keyword.json?query={}'.format('대전광역시 대흥동 편의점')\n",
    "url_1"
   ]
  },
  {
   "cell_type": "code",
   "execution_count": 24,
   "id": "11f192a0-c8b9-455c-bedb-84cf87e095c9",
   "metadata": {},
   "outputs": [
    {
     "data": {
      "text/plain": [
       "{'documents': [{'address_name': '대전 중구 대흥동 452-107',\n",
       "   'category_group_code': 'CS2',\n",
       "   'category_group_name': '편의점',\n",
       "   'category_name': '가정,생활 > 편의점 > GS25',\n",
       "   'distance': '',\n",
       "   'id': '10995606',\n",
       "   'phone': '042-223-0025',\n",
       "   'place_name': 'GS25 대흥본점',\n",
       "   'place_url': 'http://place.map.kakao.com/10995606',\n",
       "   'road_address_name': '대전 중구 중교로 30',\n",
       "   'x': '127.42324191131986',\n",
       "   'y': '36.324923796146734'},\n",
       "  {'address_name': '대전 중구 대흥동 186-3',\n",
       "   'category_group_code': 'CS2',\n",
       "   'category_group_name': '편의점',\n",
       "   'category_name': '가정,생활 > 편의점 > 이마트24',\n",
       "   'distance': '',\n",
       "   'id': '1559785431',\n",
       "   'phone': '042-537-2279',\n",
       "   'place_name': '이마트24 대전대흥그린점',\n",
       "   'place_url': 'http://place.map.kakao.com/1559785431',\n",
       "   'road_address_name': '대전 중구 대종로 465',\n",
       "   'x': '127.427110185073',\n",
       "   'y': '36.3260347054014'},\n",
       "  {'address_name': '대전 중구 대흥동 129-1',\n",
       "   'category_group_code': 'CS2',\n",
       "   'category_group_name': '편의점',\n",
       "   'category_name': '가정,생활 > 편의점 > GS25',\n",
       "   'distance': '',\n",
       "   'id': '1734409785',\n",
       "   'phone': '',\n",
       "   'place_name': 'GS25 뉴대흥로망스점',\n",
       "   'place_url': 'http://place.map.kakao.com/1734409785',\n",
       "   'road_address_name': '대전 중구 대흥로165번길 25',\n",
       "   'x': '127.429435240422',\n",
       "   'y': '36.3259759087006'},\n",
       "  {'address_name': '대전 중구 대흥동 233-1',\n",
       "   'category_group_code': 'CS2',\n",
       "   'category_group_name': '편의점',\n",
       "   'category_name': '가정,생활 > 편의점 > 이마트24',\n",
       "   'distance': '',\n",
       "   'id': '24769717',\n",
       "   'phone': '042-221-1015',\n",
       "   'place_name': '이마트24 대전중앙점',\n",
       "   'place_url': 'http://place.map.kakao.com/24769717',\n",
       "   'road_address_name': '대전 중구 중앙로130번길 34',\n",
       "   'x': '127.42490377005916',\n",
       "   'y': '36.32661301437637'},\n",
       "  {'address_name': '대전 중구 대흥동 216-4',\n",
       "   'category_group_code': 'CS2',\n",
       "   'category_group_name': '편의점',\n",
       "   'category_name': '가정,생활 > 편의점 > GS25',\n",
       "   'distance': '',\n",
       "   'id': '255500906',\n",
       "   'phone': '042-221-1501',\n",
       "   'place_name': 'GS25 대전우리들점',\n",
       "   'place_url': 'http://place.map.kakao.com/255500906',\n",
       "   'road_address_name': '대전 중구 보문로260번길 66',\n",
       "   'x': '127.425599736405',\n",
       "   'y': '36.3268006866205'},\n",
       "  {'address_name': '대전 중구 대흥동 314-4',\n",
       "   'category_group_code': 'CS2',\n",
       "   'category_group_name': '편의점',\n",
       "   'category_name': '가정,생활 > 편의점 > CU',\n",
       "   'distance': '',\n",
       "   'id': '15497752',\n",
       "   'phone': '042-627-1700',\n",
       "   'place_name': 'CU 대전대흥점',\n",
       "   'place_url': 'http://place.map.kakao.com/15497752',\n",
       "   'road_address_name': '대전 중구 중교로 43',\n",
       "   'x': '127.424640718494',\n",
       "   'y': '36.3257515226896'},\n",
       "  {'address_name': '대전 중구 대흥동 412-9',\n",
       "   'category_group_code': 'CS2',\n",
       "   'category_group_name': '편의점',\n",
       "   'category_name': '가정,생활 > 편의점 > GS25',\n",
       "   'distance': '',\n",
       "   'id': '879133490',\n",
       "   'phone': '',\n",
       "   'place_name': 'GS25 대흥원룸점',\n",
       "   'place_url': 'http://place.map.kakao.com/879133490',\n",
       "   'road_address_name': '대전 중구 대흥로127번길 3',\n",
       "   'x': '127.425836388393',\n",
       "   'y': '36.3242405005167'},\n",
       "  {'address_name': '대전 중구 대흥동 92-1',\n",
       "   'category_group_code': 'CS2',\n",
       "   'category_group_name': '편의점',\n",
       "   'category_name': '가정,생활 > 편의점 > 이마트24',\n",
       "   'distance': '',\n",
       "   'id': '316923291',\n",
       "   'phone': '',\n",
       "   'place_name': '이마트24 대전대흥크리스탈점',\n",
       "   'place_url': 'http://place.map.kakao.com/316923291',\n",
       "   'road_address_name': '대전 중구 대종로452번길 38',\n",
       "   'x': '127.429960344953',\n",
       "   'y': '36.3256721266707'},\n",
       "  {'address_name': '대전 중구 대흥동 494-1',\n",
       "   'category_group_code': 'CS2',\n",
       "   'category_group_name': '편의점',\n",
       "   'category_name': '가정,생활 > 편의점 > 미니스톱',\n",
       "   'distance': '',\n",
       "   'id': '18521589',\n",
       "   'phone': '042-255-4845',\n",
       "   'place_name': '미니스톱 대흥타운점',\n",
       "   'place_url': 'http://place.map.kakao.com/18521589',\n",
       "   'road_address_name': '대전 중구 중앙로 120',\n",
       "   'x': '127.42334955512',\n",
       "   'y': '36.3275296193188'},\n",
       "  {'address_name': '대전 중구 대흥동 455-1',\n",
       "   'category_group_code': 'CS2',\n",
       "   'category_group_name': '편의점',\n",
       "   'category_name': '가정,생활 > 편의점 > 이마트24',\n",
       "   'distance': '',\n",
       "   'id': '2068441611',\n",
       "   'phone': '',\n",
       "   'place_name': '이마트24 대전대흥원룸점',\n",
       "   'place_url': 'http://place.map.kakao.com/2068441611',\n",
       "   'road_address_name': '대전 중구 대흥로111번길 30-18',\n",
       "   'x': '127.42493326934',\n",
       "   'y': '36.3246618608596'},\n",
       "  {'address_name': '대전 중구 대흥동 504-7',\n",
       "   'category_group_code': 'CS2',\n",
       "   'category_group_name': '편의점',\n",
       "   'category_name': '가정,생활 > 편의점 > GS25',\n",
       "   'distance': '',\n",
       "   'id': '20750394',\n",
       "   'phone': '042-254-3645',\n",
       "   'place_name': 'GS25 대흥나이스점',\n",
       "   'place_url': 'http://place.map.kakao.com/20750394',\n",
       "   'road_address_name': '대전 중구 중교로 9',\n",
       "   'x': '127.420944922927',\n",
       "   'y': '36.324398410447'},\n",
       "  {'address_name': '대전 중구 대흥동 51-6',\n",
       "   'category_group_code': 'CS2',\n",
       "   'category_group_name': '편의점',\n",
       "   'category_name': '가정,생활 > 편의점 > 세븐일레븐',\n",
       "   'distance': '',\n",
       "   'id': '1884488372',\n",
       "   'phone': '042-224-3620',\n",
       "   'place_name': '세븐일레븐 대전대흥중앙점',\n",
       "   'place_url': 'http://place.map.kakao.com/1884488372',\n",
       "   'road_address_name': '대전 중구 인창로 2',\n",
       "   'x': '127.430213262608',\n",
       "   'y': '36.3216402504882'},\n",
       "  {'address_name': '대전 중구 대흥동 452-3',\n",
       "   'category_group_code': 'CS2',\n",
       "   'category_group_name': '편의점',\n",
       "   'category_name': '가정,생활 > 편의점 > GS25',\n",
       "   'distance': '',\n",
       "   'id': '1494486717',\n",
       "   'phone': '',\n",
       "   'place_name': 'GS25 대림빌딩점',\n",
       "   'place_url': 'http://place.map.kakao.com/1494486717',\n",
       "   'road_address_name': '대전 중구 보문로 246',\n",
       "   'x': '127.422866011133',\n",
       "   'y': '36.3246079121396'},\n",
       "  {'address_name': '대전 중구 대흥동 407-8',\n",
       "   'category_group_code': 'CS2',\n",
       "   'category_group_name': '편의점',\n",
       "   'category_name': '가정,생활 > 편의점 > CU',\n",
       "   'distance': '',\n",
       "   'id': '1042147223',\n",
       "   'phone': '',\n",
       "   'place_name': 'CU 대전대흥사랑점',\n",
       "   'place_url': 'http://place.map.kakao.com/1042147223',\n",
       "   'road_address_name': '대전 중구 대종로 426',\n",
       "   'x': '127.4293932614972',\n",
       "   'y': '36.32299316291672'},\n",
       "  {'address_name': '대전 중구 대흥동 520-2',\n",
       "   'category_group_code': 'CS2',\n",
       "   'category_group_name': '편의점',\n",
       "   'category_name': '가정,생활 > 편의점 > CU',\n",
       "   'distance': '',\n",
       "   'id': '16124873',\n",
       "   'phone': '042-223-8243',\n",
       "   'place_name': 'CU 대전성모병원점',\n",
       "   'place_url': 'http://place.map.kakao.com/16124873',\n",
       "   'road_address_name': '대전 중구 대흥로 64',\n",
       "   'x': '127.42029297165823',\n",
       "   'y': '36.323068764062675'}],\n",
       " 'meta': {'is_end': False,\n",
       "  'pageable_count': 45,\n",
       "  'same_name': {'keyword': '편의점',\n",
       "   'region': [],\n",
       "   'selected_region': '대전 중구 대흥동'},\n",
       "  'total_count': 294}}"
      ]
     },
     "execution_count": 24,
     "metadata": {},
     "output_type": "execute_result"
    }
   ],
   "source": [
    "headers = {'Authorization': f'KakaoAK {REST_API_KEY}'}\n",
    "r = requests.get(url_1, headers=headers)\n",
    "r.json()"
   ]
  },
  {
   "cell_type": "code",
   "execution_count": 36,
   "id": "25e45ba7-8a0a-4a70-a5cc-34915bb6c9bc",
   "metadata": {},
   "outputs": [
    {
     "data": {
      "text/plain": [
       "{'documents': [{'address_name': '제주특별자치도 제주시 용담이동 2002',\n",
       "   'category_group_code': '',\n",
       "   'category_group_name': '',\n",
       "   'category_name': '가정,생활 > 문구,사무용품 > 디자인문구 > 카카오프렌즈',\n",
       "   'distance': '2127',\n",
       "   'id': '981854961',\n",
       "   'phone': '064-740-9731',\n",
       "   'place_name': '카카오프렌즈 제주공항JDC면세점',\n",
       "   'place_url': 'http://place.map.kakao.com/981854961',\n",
       "   'road_address_name': '제주특별자치도 제주시 공항로 2',\n",
       "   'x': '126.49381921775688',\n",
       "   'y': '33.507112103989996'},\n",
       "  {'address_name': '제주특별자치도 제주시 연동 252-43',\n",
       "   'category_group_code': '',\n",
       "   'category_group_name': '',\n",
       "   'category_name': '가정,생활 > 문구,사무용품 > 디자인문구 > 카카오프렌즈',\n",
       "   'distance': '2950',\n",
       "   'id': '151657875',\n",
       "   'phone': '',\n",
       "   'place_name': '카카오프렌즈 제주신라면세점',\n",
       "   'place_url': 'http://place.map.kakao.com/151657875',\n",
       "   'road_address_name': '제주특별자치도 제주시 노연로 69',\n",
       "   'x': '126.48752655406',\n",
       "   'y': '33.4862757180351'}],\n",
       " 'meta': {'is_end': True,\n",
       "  'pageable_count': 2,\n",
       "  'same_name': {'keyword': '카카오프렌즈', 'region': [], 'selected_region': ''},\n",
       "  'total_count': 2}}"
      ]
     },
     "execution_count": 36,
     "metadata": {},
     "output_type": "execute_result"
    }
   ],
   "source": [
    "headers = {'Authorization': f'KakaoAK {REST_API_KEY}'}\n",
    "x=126.5149374\n",
    "y=33.499696\n",
    "radius=20000\n",
    "query='카카오프렌즈'\n",
    "url = f'https://dapi.kakao.com/v2/local/search/keyword.json?y={y}&x={x}&radius={radius}&query={query}'\n",
    "r = requests.get(url, headers=headers)\n",
    "r.json()"
   ]
  }
 ],
 "metadata": {
  "kernelspec": {
   "display_name": "Python 3 (ipykernel)",
   "language": "python",
   "name": "python3"
  },
  "language_info": {
   "codemirror_mode": {
    "name": "ipython",
    "version": 3
   },
   "file_extension": ".py",
   "mimetype": "text/x-python",
   "name": "python",
   "nbconvert_exporter": "python",
   "pygments_lexer": "ipython3",
   "version": "3.9.12"
  }
 },
 "nbformat": 4,
 "nbformat_minor": 5
}
